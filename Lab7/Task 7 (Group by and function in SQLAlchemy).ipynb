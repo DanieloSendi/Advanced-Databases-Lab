{
 "cells": [
  {
   "cell_type": "markdown",
   "metadata": {},
   "source": [
    "# Group by and function in SQLAlchemy\n",
    "***"
   ]
  },
  {
   "cell_type": "markdown",
   "metadata": {},
   "source": [
    "From the previous we know how create query to database in SQLAlchemy based on function [select](https://docs.sqlalchemy.org/en/13/core/metadata.html?highlight=select#sqlalchemy.schema.Table.select) or [query](https://docs.sqlalchemy.org/en/14/orm/query.html)"
   ]
  },
  {
   "cell_type": "markdown",
   "metadata": {},
   "source": [
    "The purpose of these laboratory classes is to familiarize participants with group by and function in SQLAlchemy.\n",
    "\n",
    "The scope of this classes:\n",
    " - using group_by()\n",
    " - using func()"
   ]
  },
  {
   "cell_type": "markdown",
   "metadata": {},
   "source": [
    "The GROUP BY clause divides the rows returned from the SELECT statement into groups. For each group, you can apply an aggregate function e.g.,  SUM() to calculate the sum of items or COUNT() to get the number of items in the groups.\n",
    "\n",
    "Of course, if we need filtering result of aggregation we can use function [having](https://docs.sqlalchemy.org/en/14/orm/query.html#sqlalchemy.orm.Query.having):\n",
    "\n",
    "SQLAlchemy's [func](https://docs.sqlalchemy.org/en/14/core/functions.html) module provides access to built-in SQL functions that can make operations like counting and summing faster and more efficient."
   ]
  },
  {
   "cell_type": "markdown",
   "metadata": {},
   "source": [
    "### Exercise"
   ]
  },
  {
   "cell_type": "markdown",
   "metadata": {},
   "source": [
    "Use all of these methods to create queries for the test database. Check their execution time using the [profiling and timing code methods](https://jakevdp.github.io/PythonDataScienceHandbook/01.07-timing-and-profiling.html).\n",
    "\n",
    "For queries:\n",
    "1. Calculate the average cost of renting out all your movies.\n",
    "2. Calculate and display the number of videos in all categories.\n",
    "3. View the count of all customers grouped by country.\n",
    "4. Display information about a store that has more than 100 customers and less than 300 customers.\n",
    "5. Select all customers who watched movies for more than 200 hours.\n",
    "6. Calculate the average value of a movie rented.\n",
    "7. Calculate the average value of the video length in all categories.\n",
    "8. Find longest movie titles in all categories.\n",
    "9. Find longest movie in all categories. Compare the result with point 10."
   ]
  },
  {
   "cell_type": "markdown",
   "metadata": {},
   "source": [
    "![schema dvd rental](dvd-rental-sample-database-diagram.png)"
   ]
  },
  {
   "cell_type": "markdown",
   "metadata": {},
   "source": [
    "## Prepare the environment"
   ]
  },
  {
   "cell_type": "code",
   "execution_count": 1,
   "metadata": {},
   "outputs": [],
   "source": [
    "from sqlalchemy import create_engine\n",
    "from sqlalchemy.orm import declarative_base"
   ]
  },
  {
   "cell_type": "code",
   "execution_count": 2,
   "metadata": {},
   "outputs": [
    {
     "name": "stdout",
     "output_type": "stream",
     "text": [
      "Connected successfully!\n"
     ]
    }
   ],
   "source": [
    "config_PostgreSQL = {\n",
    "    \"database_type\": \"\",\n",
    "    \"user\": \"\",\n",
    "    \"password\": \"\",\n",
    "    \"database_url\": \"\",\n",
    "    \"port\": ,\n",
    "    \"database_name\": \"\"\n",
    "}\n",
    "\n",
    "db_string = \"{database_type}://{user}:{password}@{database_url}:{port}/{database_name}\".format(**config_PostgreSQL)\n",
    "\n",
    "engine = create_engine(db_string)\n",
    "\n",
    "# test the connection\n",
    "try:\n",
    "    conn = engine.connect()\n",
    "    print(\"Connected successfully!\")\n",
    "except Exception as e:\n",
    "    print(\"Failed to connect\")\n",
    "    print(f\"Error: {e}\")\n",
    "\n",
    "Base = declarative_base()"
   ]
  },
  {
   "cell_type": "markdown",
   "metadata": {},
   "source": [
    "### Initialize mapper operation"
   ]
  },
  {
   "cell_type": "markdown",
   "metadata": {},
   "source": [
    "We can use a script to initialize mapper operation. Where `dict_table` is the dictionary with tables representation where the key is the name of the table."
   ]
  },
  {
   "cell_type": "code",
   "execution_count": 3,
   "metadata": {},
   "outputs": [],
   "source": [
    "from sqlalchemy import MetaData, Table, select, and_\n",
    "from sqlalchemy.inspection import inspect\n",
    "\n",
    "metadata = MetaData()\n",
    "dict_table = {}\n",
    "\n",
    "inspector = inspect(engine)\n",
    "\n",
    "for table_name in inspector.get_table_names():\n",
    "    dict_table[table_name] = Table(table_name, metadata, autoload_with=engine)"
   ]
  },
  {
   "cell_type": "markdown",
   "metadata": {},
   "source": [
    "The first part of the laboratory will concern the case of working with a database whose structure is don't well known."
   ]
  },
  {
   "cell_type": "code",
   "execution_count": 4,
   "metadata": {},
   "outputs": [],
   "source": [
    "from sqlalchemy.orm import sessionmaker\n",
    "\n",
    "session = (sessionmaker(bind=engine))()\n",
    "\n",
    "Base = declarative_base()"
   ]
  },
  {
   "cell_type": "markdown",
   "metadata": {},
   "source": [
    "### Define database object representation"
   ]
  },
  {
   "cell_type": "markdown",
   "metadata": {},
   "source": [
    "The first part of the laboratory will concern the case of working with a database whose structure is don't well known.\n",
    "\n",
    "All the examples for this laboratory part will be for the tables that are mapped on the classes (Object representation):"
   ]
  },
  {
   "cell_type": "code",
   "execution_count": 5,
   "metadata": {},
   "outputs": [],
   "source": [
    "from sqlalchemy import Column, Integer, String, Date, ForeignKey, PrimaryKeyConstraint, Float, SmallInteger, select, func\n",
    "from sqlalchemy.orm import relationship, declarative_base\n",
    "\n",
    "class Country(Base):\n",
    "    __tablename__ = 'country'\n",
    "    country_id = Column(Integer, primary_key=True)\n",
    "    country = Column(String(50))\n",
    "    last_update = Column(Date)\n",
    "    # Relationships\n",
    "    cities = relationship(\"City\", back_populates=\"country\")\n",
    "    \n",
    "    def __str__(self):\n",
    "        return f\"Country id: {self.country_id}, Country name: {self.country}, Last update: {self.last_update}\"\n",
    "\n",
    "class City(Base):\n",
    "    __tablename__ = 'city'\n",
    "    city_id = Column(Integer, primary_key=True)\n",
    "    city = Column(String(50))\n",
    "    country_id = Column(Integer, ForeignKey('country.country_id'))\n",
    "    last_update = Column(Date)\n",
    "    # Relationships\n",
    "    country = relationship(\"Country\", back_populates=\"cities\")\n",
    "    addresses = relationship(\"Address\", back_populates=\"city\")\n",
    "    \n",
    "    def __str__(self):\n",
    "        return f\"City id: {self.city_id}, City name: {self.city}, Country id: {self.country_id}, Last update: {self.last_update}\"\n",
    "\n",
    "class Store(Base):\n",
    "    __tablename__ = 'store'\n",
    "    store_id = Column(Integer, primary_key=True)\n",
    "    manager_staff_id = Column(Integer, ForeignKey('staff.staff_id'))\n",
    "    address_id = Column(Integer, ForeignKey('address.address_id'))\n",
    "    last_update = Column(Date)\n",
    "\n",
    "    address = relationship(\"Address\", back_populates=\"stores\")\n",
    "    staff_members = relationship(\"Staff\", back_populates=\"store\", foreign_keys=[manager_staff_id])\n",
    "    customers = relationship(\"Customer\", back_populates=\"store\")\n",
    "\n",
    "    def __str__(self):\n",
    "        return f\"Store id: {self.store_id}, Manager staff id: {self.manager_staff_id}, Address id: {self.address_id}, Last update: {self.last_update}\"\n",
    "\n",
    "class Staff(Base):\n",
    "    __tablename__ = 'staff'\n",
    "    staff_id = Column(Integer, primary_key=True)\n",
    "    first_name = Column(String(50))\n",
    "    last_name = Column(String(50))\n",
    "    address_id = Column(Integer, ForeignKey('address.address_id'))\n",
    "    email = Column(String(50))\n",
    "    store_id = Column(Integer, ForeignKey('store.store_id'))\n",
    "    active = Column(Integer)\n",
    "    username = Column(String(50))\n",
    "    password = Column(String(50))\n",
    "    last_update = Column(Date)\n",
    "    picture = Column(String)\n",
    "\n",
    "    store = relationship(\"Store\", back_populates=\"staff_members\", foreign_keys=[store_id])\n",
    "\n",
    "    def __str__(self):\n",
    "        return f\"Staff id: {self.staff_id}, Name: {self.first_name} {self.last_name}, Store id: {self.store_id}, Last update: {self.last_update}\"\n",
    "\n",
    "class Address(Base):\n",
    "    __tablename__ = 'address'\n",
    "\n",
    "    address_id = Column(Integer, primary_key=True)\n",
    "    address = Column(String(50))\n",
    "    address2 = Column(String(50))\n",
    "    district = Column(String(20))\n",
    "    city_id = Column(Integer, ForeignKey('city.city_id'))\n",
    "    postal_code = Column(String(10))\n",
    "    phone = Column(String(20))\n",
    "    last_update = Column(Date)\n",
    "    # Relationships\n",
    "    city = relationship(\"City\", back_populates=\"addresses\")\n",
    "    customers = relationship(\"Customer\", back_populates=\"address\")\n",
    "    stores = relationship(\"Store\", back_populates=\"address\")\n",
    "\n",
    "    def __str__(self):\n",
    "        return f\"Address id: {self.address_id}, Address: {self.address}, City id: {self.city_id}, Last update: {self.last_update}\"\n",
    "\n",
    "class Customer(Base):\n",
    "    __tablename__ = 'customer'\n",
    "    customer_id = Column(Integer, primary_key=True)\n",
    "    store_id = Column(Integer, ForeignKey('store.store_id'))\n",
    "    first_name = Column(String(45))\n",
    "    last_name = Column(String(45))\n",
    "    email = Column(String(50))\n",
    "    address_id = Column(Integer, ForeignKey('address.address_id'))\n",
    "    activebool = Column(Integer)\n",
    "    create_date = Column(Date)\n",
    "    last_update = Column(Date)\n",
    "    active = Column(Integer)\n",
    "    # Relationships\n",
    "    address = relationship(\"Address\", back_populates=\"customers\")\n",
    "    store = relationship(\"Store\", back_populates=\"customers\")\n",
    "    rentals = relationship(\"Rental\", back_populates=\"customer\")\n",
    "\n",
    "    def __str__(self):\n",
    "        return (f\"Customer id: {self.customer_id}, Name: {self.first_name} {self.last_name}, \"\n",
    "                f\"Email: {self.email}, Store id: {self.store_id}, Last update: {self.last_update}\")\n",
    "\n",
    "class Rental(Base):\n",
    "    __tablename__ = 'rental'\n",
    "    rental_id = Column(Integer, primary_key=True)\n",
    "    rental_date = Column(Date)\n",
    "    inventory_id = Column(Integer, ForeignKey('inventory.inventory_id'))\n",
    "    customer_id = Column(Integer, ForeignKey('customer.customer_id'))\n",
    "    return_date = Column(Date)\n",
    "    staff_id = Column(Integer, ForeignKey('staff.staff_id'))\n",
    "    last_update = Column(Date)\n",
    "    # Relationships\n",
    "    inventory = relationship(\"Inventory\", back_populates=\"rentals\")\n",
    "    customer = relationship(\"Customer\", back_populates=\"rentals\")\n",
    "    staff = relationship(\"Staff\", back_populates=\"rentals\")\n",
    "\n",
    "    def __str__(self):\n",
    "        return (f\"Rental id: {self.rental_id}, Rental date: {self.rental_date}, \"\n",
    "                f\"Inventory id: {self.inventory_id}, Customer id: {self.customer_id}, Last update: {self.last_update}\")\n",
    "\n",
    "class Inventory(Base):\n",
    "    __tablename__ = 'inventory'\n",
    "    inventory_id = Column(Integer, primary_key=True)\n",
    "    film_id = Column(Integer, ForeignKey('film.film_id'))\n",
    "    store_id = Column(Integer, ForeignKey('store.store_id'))\n",
    "    last_update = Column(Date)\n",
    "    \n",
    "    film = relationship(\"Film\", back_populates=\"inventories\")\n",
    "    rentals = relationship(\"Rental\", back_populates=\"inventory\")\n",
    "\n",
    "    def __str__(self):\n",
    "        return f\"Inventory id: {self.inventory_id}, Film id: {self.film_id}, Last update: {self.last_update}\"\n",
    "\n",
    "class Language(Base):\n",
    "    __tablename__ = 'language'\n",
    "    language_id = Column(Integer, primary_key=True)\n",
    "    name = Column(String(20))\n",
    "    last_update = Column(Date)\n",
    "    \n",
    "    films = relationship(\"Film\", back_populates=\"language\")\n",
    "\n",
    "    def __str__(self):\n",
    "        return (f\"Language id: {self.language_id}, Name: {self.name}, Last update: {self.last_update}\")\n",
    "\n",
    "class Category(Base):\n",
    "    __tablename__ = 'category'\n",
    "\n",
    "    category_id = Column(Integer, primary_key=True)\n",
    "    name = Column(String(255))\n",
    "    last_update = Column(Date)\n",
    "    \n",
    "    films = relationship(\"FilmCategory\", back_populates=\"category\")\n",
    "\n",
    "    def __str__(self):\n",
    "        return f\"Category id: {self.category_id}, Name: {self.name}, Last update: {self.last_update}\"\n",
    "\n",
    "class FilmCategory(Base):\n",
    "    __tablename__ = 'film_category'\n",
    "\n",
    "    film_id = Column(Integer, ForeignKey('film.film_id'), primary_key=True)\n",
    "    category_id = Column(Integer, ForeignKey('category.category_id'), primary_key=True)\n",
    "    last_update = Column(Date)\n",
    "\n",
    "    film = relationship(\"Film\", back_populates=\"film_categories\")\n",
    "    category = relationship(\"Category\", back_populates=\"films\")\n",
    "\n",
    "    def __str__(self):\n",
    "        return (f\"Film ID: {self.film_id}, Category ID: {self.category_id}, Last update: {self.last_update}\")\n",
    "\n",
    "class Film(Base):\n",
    "    __tablename__ = 'film'\n",
    "    film_id = Column(Integer, primary_key=True)\n",
    "    title = Column(String(255))\n",
    "    description = Column(String(255))\n",
    "    release_year = Column(Integer)\n",
    "    language_id = Column(Integer, ForeignKey('language.language_id'))\n",
    "    rental_duration = Column(Integer)\n",
    "    rental_rate = Column(Float)\n",
    "    length = Column(Integer)\n",
    "    replacement_cost = Column(Float)\n",
    "    rating = Column(String(10))\n",
    "    last_update = Column(Date)\n",
    "    special_features = Column(String(255))\n",
    "    fulltext = Column(String(255))\n",
    "\n",
    "    language = relationship(\"Language\", back_populates=\"films\")\n",
    "    film_categories = relationship(\"FilmCategory\", back_populates=\"film\")\n",
    "    inventories = relationship(\"Inventory\", back_populates=\"film\")\n",
    "\n",
    "    def __str__(self):\n",
    "        return (f\"Film id: {self.film_id}, Title: {self.title}, \"\n",
    "                f\"Rental rate: {self.rental_rate}, Last update: {self.last_update}\")\n",
    "\n",
    "class Actor(Base):\n",
    "    __tablename__ = 'actor'\n",
    "    actor_id = Column(Integer, primary_key=True)\n",
    "    first_name = Column(String(45))\n",
    "    last_name = Column(String(45))\n",
    "    last_update  = Column(Date) \n",
    "\n",
    "class Film_actor(Base):\n",
    "    __tablename__ = 'film_actor'\n",
    "    actor_id = Column(Integer,  ForeignKey('actor.actor_id'))\n",
    "    film_id = Column(Integer,  ForeignKey('film.film_id'))\n",
    "    PrimaryKeyConstraint(actor_id,film_id)\n",
    "    last_update  = Column(Date)"
   ]
  },
  {
   "cell_type": "markdown",
   "metadata": {},
   "source": [
    "## 1. Calculate the average cost of renting out all your movies."
   ]
  },
  {
   "cell_type": "markdown",
   "metadata": {},
   "source": [
    "Core API:"
   ]
  },
  {
   "cell_type": "code",
   "execution_count": 6,
   "metadata": {},
   "outputs": [
    {
     "name": "stdout",
     "output_type": "stream",
     "text": [
      "Mapper select: \n",
      "SELECT avg(film.rental_rate) AS average_rental_rate \n",
      "FROM film\n",
      "[(Decimal('2.9800000000000000'),)]\n"
     ]
    }
   ],
   "source": [
    "mapper_stmt1 = select(func.avg(dict_table['film'].c.rental_rate).label('average_rental_rate'))\n",
    "\n",
    "print('Mapper select: ')\n",
    "print(mapper_stmt1)\n",
    "\n",
    "with engine.connect() as conn:\n",
    "    result1 = conn.execute(mapper_stmt1).fetchall()\n",
    "\n",
    "print(result1)"
   ]
  },
  {
   "cell_type": "markdown",
   "metadata": {},
   "source": [
    "ORM API:"
   ]
  },
  {
   "cell_type": "code",
   "execution_count": 7,
   "metadata": {},
   "outputs": [
    {
     "name": "stdout",
     "output_type": "stream",
     "text": [
      "\n",
      "Session select: \n",
      "SELECT avg(film.rental_rate) AS average_rental_rate \n",
      "FROM film\n",
      "[(Decimal('2.9800000000000000'),)]\n"
     ]
    }
   ],
   "source": [
    "session_stmt1 = session.query(func.avg(dict_table['film'].c.rental_rate).label('average_rental_rate'))\n",
    "\n",
    "print('\\nSession select: ')\n",
    "print(session_stmt1)\n",
    "\n",
    "result2 = session_stmt1.all()\n",
    "\n",
    "print(result1)"
   ]
  },
  {
   "cell_type": "markdown",
   "metadata": {},
   "source": [
    "## 2. Calculate and display the number of videos in all categories."
   ]
  },
  {
   "cell_type": "code",
   "execution_count": 8,
   "metadata": {},
   "outputs": [
    {
     "name": "stdout",
     "output_type": "stream",
     "text": [
      "Mapper select: \n",
      "SELECT category.name AS category_name, count(film_category.film_id) AS film_count \n",
      "FROM film_category JOIN category ON film_category.category_id = category.category_id GROUP BY category.name\n",
      "[('Family', 69), ('Games', 61), ('Animation', 66), ('Classics', 57), ('Documentary', 68), ('New', 63), ('Sports', 74), ('Children', 60), ('Music', 51), ('Travel', 57), ('Foreign', 73), ('Drama', 62), ('Horror', 56), ('Action', 64), ('Sci-Fi', 61), ('Comedy', 58)]\n"
     ]
    }
   ],
   "source": [
    "mapper_stmt2 = select(\n",
    "    dict_table['category'].c.name.label('category_name'),\n",
    "    func.count(dict_table['film_category'].c.film_id).label('film_count')\n",
    ").select_from(\n",
    "    dict_table['film_category'].join(dict_table['category'], dict_table['film_category'].c.category_id == dict_table['category'].c.category_id)\n",
    ").group_by(\n",
    "    dict_table['category'].c.name\n",
    ")\n",
    "\n",
    "print('Mapper select: ')\n",
    "print(mapper_stmt2)\n",
    "\n",
    "with engine.connect() as conn:\n",
    "    result2 = conn.execute(mapper_stmt2).fetchall()\n",
    "\n",
    "print(result2)"
   ]
  },
  {
   "cell_type": "code",
   "execution_count": 9,
   "metadata": {},
   "outputs": [
    {
     "name": "stdout",
     "output_type": "stream",
     "text": [
      "\n",
      "Session select: \n",
      "SELECT category.name AS category_name, count(film_category.film_id) AS film_count \n",
      "FROM category JOIN film_category ON film_category.category_id = category.category_id GROUP BY category.name\n",
      "[('Family', 69), ('Games', 61), ('Animation', 66), ('Classics', 57), ('Documentary', 68), ('New', 63), ('Sports', 74), ('Children', 60), ('Music', 51), ('Travel', 57), ('Foreign', 73), ('Drama', 62), ('Horror', 56), ('Action', 64), ('Sci-Fi', 61), ('Comedy', 58)]\n"
     ]
    }
   ],
   "source": [
    "session_stmt2 = session.query(\n",
    "    dict_table['category'].c.name.label('category_name'),\n",
    "    func.count(dict_table['film_category'].c.film_id).label('film_count')\n",
    ").join(\n",
    "    dict_table['film_category'], dict_table['film_category'].c.category_id == dict_table['category'].c.category_id\n",
    ").group_by(\n",
    "    dict_table['category'].c.name\n",
    ")\n",
    "\n",
    "print('\\nSession select: ')\n",
    "print(session_stmt2)\n",
    "\n",
    "result2 = session_stmt2.all()\n",
    "\n",
    "print(result2)"
   ]
  },
  {
   "cell_type": "markdown",
   "metadata": {},
   "source": [
    "## 3. View the count of all customers grouped by country."
   ]
  },
  {
   "cell_type": "code",
   "execution_count": 10,
   "metadata": {},
   "outputs": [
    {
     "name": "stdout",
     "output_type": "stream",
     "text": [
      "Mapper select: \n",
      "SELECT country.country AS country_name, count(customer.customer_id) AS customer_count \n",
      "FROM customer JOIN address ON customer.address_id = address.address_id JOIN city ON address.city_id = city.city_id JOIN country ON city.country_id = country.country_id GROUP BY country.country\n",
      "[('Bangladesh', 3), ('Indonesia', 14), ('Venezuela', 7), ('Cameroon', 2), ('Czech Republic', 1), ('Sweden', 1), ('Dominican Republic', 3), ('Cambodia', 2), ('Sri Lanka', 1), ('American Samoa', 1), ('Brunei', 1), ('Finland', 1), ('Colombia', 6), ('Ukraine', 6), ('Saudi Arabia', 5), ('Latvia', 2), ('North Korea', 1), ('Holy See (Vatican City State)', 1), ('Algeria', 3), ('France', 4), ('Slovakia', 1), ('Israel', 4), ('Nauru', 1), ('Senegal', 1), ('Kenya', 2), ('Malaysia', 3), ('Zambia', 1), ('Hong Kong', 1), ('Kuwait', 1), ('Madagascar', 1), ('Philippines', 20), ('Tuvalu', 1), ('United States', 36), ('Turkey', 15), ('Nigeria', 13), ('China', 53), ('Belarus', 2), ('Armenia', 1), ('Netherlands', 5), ('Paraguay', 3), ('Angola', 2), ('Bahrain', 1), ('Spain', 5), ('United Arab Emirates', 3), ('Malawi', 1), ('Taiwan', 10), ('Thailand', 3), ('Faroe Islands', 1), ('Italy', 7), ('Oman', 2), ('Congo, The Democratic Republic of the', 2), ('United Kingdom', 9), ('Germany', 7), ('Canada', 5), ('Anguilla', 1), ('South Korea', 5), ('Saint Vincent and the Grenadines', 1), ('Runion', 1), ('Argentina', 13), ('Liechtenstein', 1), ('Azerbaijan', 2), ('Egypt', 6), ('Greece', 2), ('Afghanistan', 1), ('Chad', 1), ('Puerto Rico', 2), ('India', 60), ('Iran', 8), ('Chile', 3), ('French Polynesia', 2), ('Gambia', 1), ('Estonia', 1), ('Vietnam', 6), ('South Africa', 11), ('Peru', 4), ('Kazakstan', 2), ('Yugoslavia', 2), ('Japan', 31), ('Iraq', 1), ('Mozambique', 3), ('Switzerland', 3), ('Ecuador', 3), ('New Zealand', 1), ('Hungary', 1), ('Pakistan', 5), ('Russian Federation', 28), ('Romania', 2), ('Brazil', 28), ('Austria', 3), ('Bolivia', 2), ('Ethiopia', 1), ('Yemen', 4), ('Lithuania', 1), ('Bulgaria', 2), ('Turkmenistan', 1), ('Tunisia', 1), ('Sudan', 2), ('Morocco', 3), ('Moldova', 1), ('Myanmar', 2), ('Mexico', 30), ('Tonga', 1), ('Nepal', 1), ('Tanzania', 3), ('Poland', 8), ('Greenland', 1), ('French Guiana', 1), ('Virgin Islands, U.S.', 1)]\n"
     ]
    }
   ],
   "source": [
    "mapper_stmt3 = select(\n",
    "    dict_table['country'].c.country.label('country_name'),\n",
    "    func.count(dict_table['customer'].c.customer_id).label('customer_count')\n",
    ").select_from(\n",
    "    dict_table['customer']\n",
    "    .join(dict_table['address'], dict_table['customer'].c.address_id == dict_table['address'].c.address_id)\n",
    "    .join(dict_table['city'], dict_table['address'].c.city_id == dict_table['city'].c.city_id)\n",
    "    .join(dict_table['country'], dict_table['city'].c.country_id == dict_table['country'].c.country_id)\n",
    ").group_by(\n",
    "    dict_table['country'].c.country\n",
    ")\n",
    "\n",
    "print('Mapper select: ')\n",
    "print(mapper_stmt3)\n",
    "\n",
    "with engine.connect() as conn:\n",
    "    result3 = conn.execute(mapper_stmt3).fetchall()\n",
    "\n",
    "print(result3)"
   ]
  },
  {
   "cell_type": "markdown",
   "metadata": {},
   "source": [
    "## 4. Display information about a store that has more than 100 customers and less than 300 customers."
   ]
  },
  {
   "cell_type": "code",
   "execution_count": 11,
   "metadata": {},
   "outputs": [
    {
     "name": "stdout",
     "output_type": "stream",
     "text": [
      "Mapper select: \n",
      "SELECT store.store_id, store.manager_staff_id, store.address_id, count(customer.customer_id) AS customer_count \n",
      "FROM store JOIN customer ON store.store_id = customer.store_id GROUP BY store.store_id \n",
      "HAVING count(customer.customer_id) > :count_1 AND count(customer.customer_id) < :count_2\n",
      "[(2, 2, 2, 273)]\n"
     ]
    }
   ],
   "source": [
    "mapper_stmt4 = select(\n",
    "    dict_table['store'].c.store_id,\n",
    "    dict_table['store'].c.manager_staff_id,\n",
    "    dict_table['store'].c.address_id,\n",
    "    func.count(dict_table['customer'].c.customer_id).label('customer_count')\n",
    ").select_from(\n",
    "    dict_table['store']\n",
    "    .join(dict_table['customer'], dict_table['store'].c.store_id == dict_table['customer'].c.store_id)\n",
    ").group_by(\n",
    "    dict_table['store'].c.store_id\n",
    ").having(\n",
    "    func.count(dict_table['customer'].c.customer_id) > 100,\n",
    "    func.count(dict_table['customer'].c.customer_id) < 300\n",
    ")\n",
    "\n",
    "print('Mapper select: ')\n",
    "print(mapper_stmt4)\n",
    "\n",
    "with engine.connect() as conn:\n",
    "    result4 = conn.execute(mapper_stmt4).fetchall()\n",
    "\n",
    "print(result4)"
   ]
  },
  {
   "cell_type": "markdown",
   "metadata": {},
   "source": [
    "## 5. Select all customers who watched movies for more than 200 hours."
   ]
  },
  {
   "cell_type": "code",
   "execution_count": 12,
   "metadata": {},
   "outputs": [
    {
     "name": "stdout",
     "output_type": "stream",
     "text": [
      "Mapper select 5: \n",
      "SELECT customer.customer_id, customer.first_name, customer.last_name \n",
      "FROM rental JOIN inventory ON rental.inventory_id = inventory.inventory_id JOIN film ON inventory.film_id = film.film_id JOIN customer ON rental.customer_id = customer.customer_id GROUP BY customer.customer_id \n",
      "HAVING sum(film.length) > :sum_1\n",
      "[]\n"
     ]
    }
   ],
   "source": [
    "mapper_stmt5 = select(\n",
    "    dict_table['customer'].c.customer_id,\n",
    "    dict_table['customer'].c.first_name,\n",
    "    dict_table['customer'].c.last_name\n",
    ").select_from(\n",
    "    dict_table['rental']\n",
    "    .join(dict_table['inventory'], dict_table['rental'].c.inventory_id == dict_table['inventory'].c.inventory_id)\n",
    "    .join(dict_table['film'], dict_table['inventory'].c.film_id == dict_table['film'].c.film_id)\n",
    "    .join(dict_table['customer'], dict_table['rental'].c.customer_id == dict_table['customer'].c.customer_id)\n",
    ").group_by(\n",
    "    dict_table['customer'].c.customer_id\n",
    ").having(\n",
    "    func.sum(dict_table['film'].c.length) > 200 * 60  # 200 hours in minutes\n",
    ")\n",
    "\n",
    "print('Mapper select 5: ')\n",
    "print(mapper_stmt5)\n",
    "\n",
    "with engine.connect() as conn:\n",
    "    result5 = conn.execute(mapper_stmt5).fetchall()\n",
    "\n",
    "print(result5)"
   ]
  },
  {
   "cell_type": "markdown",
   "metadata": {},
   "source": [
    "## 6. Calculate the average value of a movie rented."
   ]
  },
  {
   "cell_type": "code",
   "execution_count": 13,
   "metadata": {},
   "outputs": [
    {
     "name": "stdout",
     "output_type": "stream",
     "text": [
      "Mapper select 6: \n",
      "SELECT avg(film.rental_rate) AS average_rental_value \n",
      "FROM film\n",
      "[(Decimal('2.9800000000000000'),)]\n"
     ]
    }
   ],
   "source": [
    "mapper_stmt6 = select(\n",
    "    func.avg(dict_table['film'].c.rental_rate).label('average_rental_value')\n",
    ")\n",
    "\n",
    "print('Mapper select 6: ')\n",
    "print(mapper_stmt6)\n",
    "\n",
    "with engine.connect() as conn:\n",
    "    result6 = conn.execute(mapper_stmt6).fetchall()\n",
    "\n",
    "print(result6)"
   ]
  },
  {
   "cell_type": "markdown",
   "metadata": {},
   "source": [
    "## 7. Calculate the average value of the video length in all categories."
   ]
  },
  {
   "cell_type": "code",
   "execution_count": 14,
   "metadata": {},
   "outputs": [
    {
     "name": "stdout",
     "output_type": "stream",
     "text": [
      "Mapper select 7: \n",
      "SELECT category.name, avg(film.length) AS average_length \n",
      "FROM film_category JOIN film ON film_category.film_id = film.film_id JOIN category ON film_category.category_id = category.category_id GROUP BY category.name\n",
      "[('Family', Decimal('114.7826086956521739')), ('Games', Decimal('127.8360655737704918')), ('Animation', Decimal('111.0151515151515152')), ('Classics', Decimal('111.6666666666666667')), ('Documentary', Decimal('108.7500000000000000')), ('New', Decimal('111.1269841269841270')), ('Sports', Decimal('128.2027027027027027')), ('Children', Decimal('109.8000000000000000')), ('Music', Decimal('113.6470588235294118')), ('Travel', Decimal('113.3157894736842105')), ('Foreign', Decimal('121.6986301369863014')), ('Drama', Decimal('120.8387096774193548')), ('Horror', Decimal('112.4821428571428571')), ('Action', Decimal('111.6093750000000000')), ('Sci-Fi', Decimal('108.1967213114754098')), ('Comedy', Decimal('115.8275862068965517'))]\n"
     ]
    }
   ],
   "source": [
    "mapper_stmt7 = select(\n",
    "    dict_table['category'].c.name,\n",
    "    func.avg(dict_table['film'].c.length).label('average_length')\n",
    ").select_from(\n",
    "    dict_table['film_category']\n",
    "    .join(dict_table['film'], dict_table['film_category'].c.film_id == dict_table['film'].c.film_id)\n",
    "    .join(dict_table['category'], dict_table['film_category'].c.category_id == dict_table['category'].c.category_id)\n",
    ").group_by(\n",
    "    dict_table['category'].c.name\n",
    ")\n",
    "\n",
    "print('Mapper select 7: ')\n",
    "print(mapper_stmt7)\n",
    "\n",
    "with engine.connect() as conn:\n",
    "    result7 = conn.execute(mapper_stmt7).fetchall()\n",
    "\n",
    "print(result7)"
   ]
  },
  {
   "cell_type": "markdown",
   "metadata": {},
   "source": [
    "## 8. Find longest movie titles in all categories."
   ]
  },
  {
   "cell_type": "code",
   "execution_count": 15,
   "metadata": {},
   "outputs": [
    {
     "name": "stdout",
     "output_type": "stream",
     "text": [
      "Mapper select 8: \n",
      "SELECT category.name, film.title, film.length \n",
      "FROM film_category JOIN film ON film_category.film_id = film.film_id JOIN category ON film_category.category_id = category.category_id \n",
      "WHERE film.length = (SELECT max(film.length) AS max_1 \n",
      "FROM film_category JOIN film ON film_category.film_id = film.film_id \n",
      "WHERE film_category.category_id = category.category_id)\n",
      "[('Horror', 'Analyze Hoosiers', 181), ('Games', 'Chicago North', 185), ('Classics', 'Conspiracy Spirit', 184), ('Comedy', 'Control Anthem', 185), ('Foreign', 'Crystal Breaking', 184), ('Action', 'Darn Forrester', 185), ('New', 'Frontier Cabin', 183), ('Children', 'Fury Murder', 178), ('Animation', 'Gangs Pride', 185), ('Music', 'Home Pity', 185), ('Drama', 'Jacket Frisco', 181), ('Family', 'King Evolution', 184), ('Horror', 'Love Suicides', 181), ('Travel', 'Muscle Bright', 185), ('Animation', 'Pond Seattle', 185), ('Sports', 'Smoochy Control', 184), ('Sci-Fi', 'Soldiers Evolution', 185), ('Foreign', 'Sorority Queen', 184), ('Travel', 'Sweet Brotherhood', 185), ('Documentary', 'Wife Turn', 183), ('Action', 'Worst Banger', 185), ('Children', 'Wrong Behavior', 178), ('Documentary', 'Young Language', 183)]\n"
     ]
    }
   ],
   "source": [
    "mapper_stmt8 = select(\n",
    "    dict_table['category'].c.name,\n",
    "    dict_table['film'].c.title,\n",
    "    dict_table['film'].c.length\n",
    ").select_from(\n",
    "    dict_table['film_category']\n",
    "    .join(dict_table['film'], dict_table['film_category'].c.film_id == dict_table['film'].c.film_id)\n",
    "    .join(dict_table['category'], dict_table['film_category'].c.category_id == dict_table['category'].c.category_id)\n",
    ").where(\n",
    "    dict_table['film'].c.length == select(func.max(dict_table['film'].c.length))\n",
    "    .select_from(\n",
    "        dict_table['film_category'].join(dict_table['film'], dict_table['film_category'].c.film_id == dict_table['film'].c.film_id)\n",
    "    )\n",
    "    .where(\n",
    "        dict_table['film_category'].c.category_id == dict_table['category'].c.category_id\n",
    "    ).scalar_subquery()\n",
    ")\n",
    "\n",
    "print('Mapper select 8: ')\n",
    "print(mapper_stmt8)\n",
    "\n",
    "with engine.connect() as conn:\n",
    "    result8 = conn.execute(mapper_stmt8).fetchall()\n",
    "\n",
    "print(result8)"
   ]
  },
  {
   "cell_type": "markdown",
   "metadata": {},
   "source": [
    "## 9. Find longest movie in all categories. Compare the result with point 10."
   ]
  },
  {
   "cell_type": "code",
   "execution_count": 16,
   "metadata": {},
   "outputs": [
    {
     "name": "stdout",
     "output_type": "stream",
     "text": [
      "Mapper select 9: \n",
      "SELECT category.name, film.title, film.length \n",
      "FROM film_category JOIN film ON film_category.film_id = film.film_id JOIN category ON film_category.category_id = category.category_id \n",
      "WHERE film.length IN (SELECT max(film.length) AS max_1 \n",
      "FROM film_category JOIN film ON film_category.film_id = film.film_id GROUP BY film_category.category_id)\n",
      "[('Horror', 'Analyze Hoosiers', 181), ('Foreign', 'Catch Amistad', 183), ('Games', 'Chicago North', 185), ('Classics', 'Conspiracy Spirit', 184), ('Comedy', 'Control Anthem', 185), ('Foreign', 'Crystal Breaking', 184), ('Action', 'Darn Forrester', 185), ('Sports', 'Drop Waterfront', 178), ('Sci-Fi', 'Express Lonely', 178), ('New', 'Frontier Cabin', 183), ('Children', 'Fury Murder', 178), ('Animation', 'Gangs Pride', 185), ('Games', 'Haunting Pianist', 181), ('Music', 'Home Pity', 185), ('Foreign', 'Hotel Happiness', 181), ('Sports', 'Image Princess', 178), ('Foreign', 'Innocent Usual', 178), ('Foreign', 'Intrigue Worst', 181), ('Drama', 'Jacket Frisco', 181), ('Family', 'King Evolution', 184), ('Animation', 'Lawless Vision', 181), ('Horror', 'Love Suicides', 181), ('Foreign', 'Madness Attacks', 178), ('Games', 'Moonwalker Fool', 184), ('Travel', 'Muscle Bright', 185), ('Games', 'Name Detective', 178), ('Animation', 'Pond Seattle', 185), ('Foreign', 'Rocketeer Mother', 178), ('New', 'Runaway Tenenbaums', 181), ('Music', 'Scalawag Duck', 183), ('Sports', 'Smoochy Control', 184), ('Sci-Fi', 'Soldiers Evolution', 185), ('Animation', 'Sons Interview', 184), ('Foreign', 'Sorority Queen', 184), ('Sports', 'Star Operation', 181), ('Travel', 'Sweet Brotherhood', 185), ('Animation', 'Theory Mermaid', 184), ('Drama', 'Wardrobe Phantom', 178), ('Documentary', 'Wife Turn', 183), ('New', 'Wild Apollo', 181), ('Action', 'Worst Banger', 185), ('Children', 'Wrong Behavior', 178), ('Documentary', 'Young Language', 183)]\n"
     ]
    }
   ],
   "source": [
    "mapper_stmt9 = select(\n",
    "    dict_table['category'].c.name,\n",
    "    dict_table['film'].c.title,\n",
    "    dict_table['film'].c.length\n",
    ").select_from(\n",
    "    dict_table['film_category']\n",
    "    .join(dict_table['film'], dict_table['film_category'].c.film_id == dict_table['film'].c.film_id)\n",
    "    .join(dict_table['category'], dict_table['film_category'].c.category_id == dict_table['category'].c.category_id)\n",
    ").where(\n",
    "    dict_table['film'].c.length.in_(\n",
    "        select(func.max(dict_table['film'].c.length))\n",
    "        .select_from(dict_table['film_category']\n",
    "            .join(dict_table['film'], dict_table['film_category'].c.film_id == dict_table['film'].c.film_id)\n",
    "        )\n",
    "        .group_by(dict_table['film_category'].c.category_id)\n",
    "    )\n",
    ")\n",
    "\n",
    "print('Mapper select 9: ')\n",
    "print(mapper_stmt9)\n",
    "\n",
    "with engine.connect() as conn:\n",
    "    result9 = conn.execute(mapper_stmt9).fetchall()\n",
    "\n",
    "print(result9)"
   ]
  }
 ],
 "metadata": {
  "kernelspec": {
   "display_name": "sql_venv",
   "language": "python",
   "name": "python3"
  },
  "language_info": {
   "codemirror_mode": {
    "name": "ipython",
    "version": 3
   },
   "file_extension": ".py",
   "mimetype": "text/x-python",
   "name": "python",
   "nbconvert_exporter": "python",
   "pygments_lexer": "ipython3",
   "version": "3.10.11"
  }
 },
 "nbformat": 4,
 "nbformat_minor": 2
}
