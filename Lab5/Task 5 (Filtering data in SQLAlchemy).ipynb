{
 "cells": [
  {
   "cell_type": "markdown",
   "metadata": {},
   "source": [
    "# Filtering data in SQLAlchemy\n",
    "***"
   ]
  },
  {
   "cell_type": "markdown",
   "metadata": {},
   "source": [
    "The purpose of these laboratory classes is to familiarize with methods to creating and execute select query with conditions.\n",
    "\n",
    "The scope of this classes:\n",
    "- using select() - to creating select query\n",
    "- using query() - to creating query\n",
    "- and_() , or_(), in_() - to add conditions to query\n",
    "- order_by() - to sort results\n",
    "- label() - to make alias\n",
    "- limit() - to limit results of query"
   ]
  },
  {
   "cell_type": "markdown",
   "metadata": {},
   "source": [
    "### Exercise"
   ]
  },
  {
   "cell_type": "markdown",
   "metadata": {},
   "source": [
    "Use all of these methods to create queries for the test database. Check their execution time using the [profiling and timing code methods](https://jakevdp.github.io/PythonDataScienceHandbook/01.07-timing-and-profiling.html).\n",
    "\n",
    "For queries:\n",
    "1. How many categories of films we have in the rental?\n",
    "2. Display list of categories in alphabetic order.\n",
    "3. Find the oldest and youngest film in rental.\n",
    "4. How many rentals were in between 2005-07-01 and 2005-08-01?\n",
    "5. How many rentals were in between 2010-01-01 and 2011-02-01?\n",
    "6. Find the biggest payment in the rental.\n",
    "7. Find all customers from Polend or Nigeria or Bangladesh.\n",
    "8. Where live staff memebers?\n",
    "9. How many staff members live in Argentina or Spain?\n",
    "10. Which categories of the films were rented by clients?\n",
    "11. Find all categories of films rented in America.\n",
    "12. Find all title of films where was playe: Olympia Pfeiffer or Julia Zellweger or Ellen Presley"
   ]
  },
  {
   "cell_type": "markdown",
   "metadata": {},
   "source": [
    "## Prepare the environment"
   ]
  },
  {
   "cell_type": "code",
   "execution_count": 1,
   "metadata": {},
   "outputs": [],
   "source": [
    "from sqlalchemy import create_engine\n",
    "from sqlalchemy.orm import declarative_base"
   ]
  },
  {
   "cell_type": "markdown",
   "metadata": {},
   "source": [
    "From the previous classes we know two methods of creating a database model in SQLAlchemy based on:\n",
    "- [mapper](https://docs.sqlalchemy.org/en/13/orm/mapping_api.html#sqlalchemy.orm.mapper)\n",
    "- [Class representation](https://docs.sqlalchemy.org/en/13/orm/tutorial.html)"
   ]
  },
  {
   "cell_type": "markdown",
   "metadata": {},
   "source": [
    "### Connect to the database"
   ]
  },
  {
   "cell_type": "code",
   "execution_count": 2,
   "metadata": {},
   "outputs": [
    {
     "name": "stdout",
     "output_type": "stream",
     "text": [
      "Connected successfully!\n"
     ]
    }
   ],
   "source": [
    "config_PostgreSQL = {\n",
    "    \"database_type\": \"\",\n",
    "    \"user\": \"\",\n",
    "    \"password\": \"\",\n",
    "    \"database_url\": \"\",\n",
    "    \"port\": ,\n",
    "    \"database_name\": \"\"\n",
    "}\n",
    "\n",
    "db_string = \"{database_type}://{user}:{password}@{database_url}:{port}/{database_name}\".format(**config_PostgreSQL)\n",
    "\n",
    "engine = create_engine(db_string)\n",
    "\n",
    "# test the connection\n",
    "try:\n",
    "    conn = engine.connect()\n",
    "    print(\"Connected successfully!\")\n",
    "except Exception as e:\n",
    "    print(\"Failed to connect\")\n",
    "    print(f\"Error: {e}\")\n",
    "\n",
    "Base = declarative_base()"
   ]
  },
  {
   "cell_type": "markdown",
   "metadata": {},
   "source": [
    "### Initialize mapper operation"
   ]
  },
  {
   "cell_type": "markdown",
   "metadata": {},
   "source": [
    "We can use a script to initialize mapper operation. Where `dict_table` is the dictionary with tables representation where the key is the name of the table."
   ]
  },
  {
   "cell_type": "code",
   "execution_count": 3,
   "metadata": {},
   "outputs": [],
   "source": [
    "from sqlalchemy import MetaData, Table\n",
    "from sqlalchemy.inspection import inspect\n",
    "\n",
    "metadata = MetaData()\n",
    "dict_table = {}\n",
    "\n",
    "inspector = inspect(engine)\n",
    "\n",
    "for table_name in inspector.get_table_names():\n",
    "    dict_table[table_name] = Table(table_name, metadata, autoload_with=engine)"
   ]
  },
  {
   "cell_type": "markdown",
   "metadata": {},
   "source": [
    "Below line in the script above shows references to the table representation named *category*."
   ]
  },
  {
   "cell_type": "code",
   "execution_count": 4,
   "metadata": {},
   "outputs": [
    {
     "name": "stdout",
     "output_type": "stream",
     "text": [
      "Table('category', MetaData(), Column('category_id', INTEGER(), table=<category>, primary_key=True, nullable=False, server_default=DefaultClause(<sqlalchemy.sql.elements.TextClause object at 0x0000017ADB060640>, for_update=False)), Column('name', VARCHAR(length=25), table=<category>, nullable=False), Column('last_update', TIMESTAMP(), table=<category>, nullable=False, server_default=DefaultClause(<sqlalchemy.sql.elements.TextClause object at 0x0000017ADB060B20>, for_update=False)), schema=None)\n"
     ]
    },
    {
     "data": {
      "text/plain": [
       "\"Table('payment', MetaData(), Column('payment_id', INTEGER(), table=<payment>, primary_key=True, nullable=False, server_default=DefaultClause(<sqlalchemy.sql.elements.TextClause object at 0x0000017ADB08D930>, for_update=False)), Column('customer_id', SMALLINT(), ForeignKey('customer.customer_id'), table=<payment>, nullable=False), Column('staff_id', SMALLINT(), ForeignKey('staff.staff_id'), table=<payment>, nullable=False), Column('rental_id', INTEGER(), ForeignKey('rental.rental_id'), table=<payment>, nullable=False), Column('amount', NUMERIC(precision=5, scale=2), table=<payment>, nullable=False), Column('payment_date', TIMESTAMP(), table=<payment>, nullable=False), schema=None)\""
      ]
     },
     "metadata": {},
     "output_type": "display_data"
    }
   ],
   "source": [
    "print(repr(dict_table['category']))\n",
    "display(repr(dict_table['payment']))"
   ]
  },
  {
   "cell_type": "markdown",
   "metadata": {},
   "source": [
    "If we want youse Object representation we need run script:"
   ]
  },
  {
   "cell_type": "code",
   "execution_count": 5,
   "metadata": {},
   "outputs": [],
   "source": [
    "from sqlalchemy.orm import sessionmaker\n",
    "from sqlalchemy import select, or_, and_, text, Column, Integer, String, Date\n",
    "\n",
    "session = (sessionmaker(bind=engine))()\n",
    "\n",
    "Base = declarative_base()\n",
    "\n",
    "class Category(Base):\n",
    "    __tablename__ = 'category'\n",
    "    category_id  = Column(Integer, primary_key=True)\n",
    "    name = Column(String(50))\n",
    "    last_update  = Column(Date)\n",
    "    def __str__(self):\n",
    "        return 'Category id:{0}\\nCategory name: {1}\\nCategory last_update: {2}'.format(self.category_id,self.name,self.last_update)"
   ]
  },
  {
   "cell_type": "markdown",
   "metadata": {},
   "source": [
    "At the moment we are ready to start creating database queries. The advantage of using ORM is that you don't have to rewrite queries when changing the database engine. The disadvantage, however, is that we are limited by query structures imposed by ORM.\n",
    "\n",
    "If this does not suit us, we can of course run a query written by us:"
   ]
  },
  {
   "cell_type": "code",
   "execution_count": 6,
   "metadata": {},
   "outputs": [
    {
     "name": "stdout",
     "output_type": "stream",
     "text": [
      "[(1, 'Action', datetime.datetime(2006, 2, 15, 9, 46, 27)), (2, 'Animation', datetime.datetime(2006, 2, 15, 9, 46, 27)), (3, 'Children', datetime.datetime(2006, 2, 15, 9, 46, 27)), (4, 'Classics', datetime.datetime(2006, 2, 15, 9, 46, 27)), (5, 'Comedy', datetime.datetime(2006, 2, 15, 9, 46, 27)), (6, 'Documentary', datetime.datetime(2006, 2, 15, 9, 46, 27)), (7, 'Drama', datetime.datetime(2006, 2, 15, 9, 46, 27)), (8, 'Family', datetime.datetime(2006, 2, 15, 9, 46, 27)), (9, 'Foreign', datetime.datetime(2006, 2, 15, 9, 46, 27)), (10, 'Games', datetime.datetime(2006, 2, 15, 9, 46, 27)), (11, 'Horror', datetime.datetime(2006, 2, 15, 9, 46, 27)), (12, 'Music', datetime.datetime(2006, 2, 15, 9, 46, 27)), (13, 'New', datetime.datetime(2006, 2, 15, 9, 46, 27)), (14, 'Sci-Fi', datetime.datetime(2006, 2, 15, 9, 46, 27)), (15, 'Sports', datetime.datetime(2006, 2, 15, 9, 46, 27)), (16, 'Travel', datetime.datetime(2006, 2, 15, 9, 46, 27))]\n"
     ]
    }
   ],
   "source": [
    "stmt = 'select * from category'\n",
    "\n",
    "with engine.connect() as conn:\n",
    "    results = conn.execute(text(stmt)).fetchall()\n",
    "\n",
    "print(results)"
   ]
  },
  {
   "cell_type": "markdown",
   "metadata": {},
   "source": [
    "## 1. How many categories of films we have in the rental?"
   ]
  },
  {
   "cell_type": "markdown",
   "metadata": {},
   "source": [
    "To make basic query `select` we can use script:"
   ]
  },
  {
   "cell_type": "code",
   "execution_count": 7,
   "metadata": {},
   "outputs": [
    {
     "name": "stdout",
     "output_type": "stream",
     "text": [
      "Mapper select: \n",
      "SELECT category.name \n",
      "FROM category\n",
      "\n",
      "Session select: \n",
      "SELECT category.category_id AS category_category_id, category.name AS category_name, category.last_update AS category_last_update \n",
      "FROM category\n"
     ]
    }
   ],
   "source": [
    "# select * from category\n",
    "\n",
    "mapper_stmt = select(dict_table['category'].columns.name)\n",
    "print('Mapper select: ')\n",
    "print(mapper_stmt)\n",
    "\n",
    "session_stmt = session.query(Category)\n",
    "print('\\nSession select: ')\n",
    "print(session_stmt)"
   ]
  },
  {
   "cell_type": "markdown",
   "metadata": {},
   "source": [
    "```sql\n",
    "Mapper select:\n",
    "SELECT category.category_id, category.name, category.last_update \n",
    "FROM category\n",
    "\n",
    "Session select:\n",
    "SELECT category.category_id AS category_category_id, category.name AS category_name, category.last_update AS category_last_update \n",
    "FROM category\n",
    "```"
   ]
  },
  {
   "cell_type": "markdown",
   "metadata": {},
   "source": [
    "As can be seen in the case of a query based on the class session, aliases are added to the names of the columns returned. This is the only difference at this stage of building queries.\n",
    "\n",
    "To run a query based on the select class. As a result of the script, we get a list of tuples representing the values of table rows. Examples:"
   ]
  },
  {
   "cell_type": "code",
   "execution_count": 8,
   "metadata": {},
   "outputs": [
    {
     "name": "stdout",
     "output_type": "stream",
     "text": [
      "[('Action',), ('Animation',), ('Children',), ('Classics',), ('Comedy',), ('Documentary',), ('Drama',), ('Family',), ('Foreign',), ('Games',), ('Horror',), ('Music',), ('New',), ('Sci-Fi',), ('Sports',), ('Travel',)]\n",
      "16\n"
     ]
    }
   ],
   "source": [
    "with engine.connect() as conn:\n",
    "    result1 = conn.execute(mapper_stmt).fetchall()\n",
    "\n",
    "print(result1)\n",
    "count = len(result1)\n",
    "print(count)"
   ]
  },
  {
   "cell_type": "markdown",
   "metadata": {},
   "source": [
    "This form of results presentation is inconvenient if we use objectivity in all our software. To return results as a class, use the formula"
   ]
  },
  {
   "cell_type": "code",
   "execution_count": 9,
   "metadata": {},
   "outputs": [
    {
     "name": "stdout",
     "output_type": "stream",
     "text": [
      "All results: \n",
      "[<__main__.Category object at 0x0000017ADB0A74F0>, <__main__.Category object at 0x0000017ADB0A75B0>, <__main__.Category object at 0x0000017ADB0A7490>, <__main__.Category object at 0x0000017ADB0A6650>, <__main__.Category object at 0x0000017ADB0A6830>, <__main__.Category object at 0x0000017ADB0A70A0>, <__main__.Category object at 0x0000017ADB0A6080>, <__main__.Category object at 0x0000017ADB0A6350>, <__main__.Category object at 0x0000017ADB0A7070>, <__main__.Category object at 0x0000017ADB0A6DD0>, <__main__.Category object at 0x0000017ADB0A48B0>, <__main__.Category object at 0x0000017ADB0A7730>, <__main__.Category object at 0x0000017ADB0A6410>, <__main__.Category object at 0x0000017ADB0A7100>, <__main__.Category object at 0x0000017ADB0A7010>, <__main__.Category object at 0x0000017ADB0A5BD0>]\n",
      "\n",
      "First category: \n",
      "Category id:1\n",
      "Category name: Action\n",
      "Category last_update: 2006-02-15 09:46:27\n"
     ]
    }
   ],
   "source": [
    "session_results = session_stmt.all()\n",
    "\n",
    "# all results print\n",
    "print('All results: ')\n",
    "print(session_results)\n",
    "\n",
    "# print information from first category in result list\n",
    "print('\\nFirst category: ')\n",
    "print(session_results[0])"
   ]
  },
  {
   "cell_type": "markdown",
   "metadata": {},
   "source": [
    "As you can easily see in this case, the overloaded operator operator ** __ str __ **. This approach is very useful in implementing business logic.\n",
    "\n",
    "If we want to create a query for selected columns then we use the following pattern. In this case, the query will return a list of results in both cases:"
   ]
  },
  {
   "cell_type": "code",
   "execution_count": 10,
   "metadata": {},
   "outputs": [
    {
     "name": "stdout",
     "output_type": "stream",
     "text": [
      "Mapper select: \n",
      "SELECT category.category_id, category.name \n",
      "FROM category\n",
      "\n",
      "Session select: \n",
      "SELECT category.category_id AS category_category_id, category.name AS category_name \n",
      "FROM category\n"
     ]
    }
   ],
   "source": [
    "mapper_stmt = select(\n",
    "    dict_table['category'].columns.category_id,\n",
    "    dict_table['category'].columns.name\n",
    ")\n",
    "print('Mapper select: ')\n",
    "print(mapper_stmt)\n",
    "\n",
    "session_stmt = session.query(Category.category_id, Category.name)\n",
    "print('\\nSession select: ')\n",
    "print(session_stmt)"
   ]
  },
  {
   "cell_type": "markdown",
   "metadata": {},
   "source": [
    "If you want to use object mapping, create a class and set session query in this way:"
   ]
  },
  {
   "cell_type": "code",
   "execution_count": 11,
   "metadata": {},
   "outputs": [
    {
     "name": "stdout",
     "output_type": "stream",
     "text": [
      "SELECT category.category_id AS category_category_id, category.name AS category_name, category.last_update AS category_last_update \n",
      "FROM category\n"
     ]
    }
   ],
   "source": [
    "class Category_filter(Base):\n",
    "    __tablename__ = 'category'\n",
    "    __table_args__ = {'extend_existing': True}\n",
    "    category_id  = Column(Integer, primary_key=True)\n",
    "    name = Column(String(50))\n",
    "    def __str__(self):\n",
    "        return 'Category id:{0}\\nCategory name: {1}'.format(self.category_id,self.name)\n",
    "    \n",
    "q = session.query(Category_filter)\n",
    "print(q)"
   ]
  },
  {
   "cell_type": "markdown",
   "metadata": {},
   "source": [
    "## 2. Display list of categories in alphabetic order."
   ]
  },
  {
   "cell_type": "markdown",
   "metadata": {},
   "source": [
    "In both cases it is possible to sort using the `order_by` function. For ascending sorting, the harvest will look like this:"
   ]
  },
  {
   "cell_type": "code",
   "execution_count": 12,
   "metadata": {},
   "outputs": [
    {
     "name": "stdout",
     "output_type": "stream",
     "text": [
      "Mapper select: \n",
      "SELECT category.category_id, category.name \n",
      "FROM category ORDER BY category.name\n",
      "[(1, 'Action'), (2, 'Animation'), (3, 'Children'), (4, 'Classics'), (5, 'Comedy'), (6, 'Documentary'), (7, 'Drama'), (8, 'Family'), (9, 'Foreign'), (10, 'Games'), (11, 'Horror'), (12, 'Music'), (13, 'New'), (14, 'Sci-Fi'), (15, 'Sports'), (16, 'Travel')]\n"
     ]
    }
   ],
   "source": [
    "mapper_stmt2 = select(dict_table['category'].columns.category_id, dict_table['category'].columns.name).\\\n",
    "    order_by(dict_table['category'].columns.name)\n",
    "\n",
    "print('Mapper select: ')\n",
    "print(mapper_stmt2)\n",
    "\n",
    "with engine.connect() as conn:\n",
    "    result2 = conn.execute(mapper_stmt2).fetchall()\n",
    "\n",
    "print(result2)"
   ]
  },
  {
   "cell_type": "markdown",
   "metadata": {},
   "source": [
    "And in reverse:"
   ]
  },
  {
   "cell_type": "code",
   "execution_count": 13,
   "metadata": {},
   "outputs": [
    {
     "name": "stdout",
     "output_type": "stream",
     "text": [
      "Mapper select: \n",
      "SELECT category.category_id, category.name \n",
      "FROM category ORDER BY category.name DESC\n",
      "[(16, 'Travel'), (15, 'Sports'), (14, 'Sci-Fi'), (13, 'New'), (12, 'Music'), (11, 'Horror'), (10, 'Games'), (9, 'Foreign'), (8, 'Family'), (7, 'Drama'), (6, 'Documentary'), (5, 'Comedy'), (4, 'Classics'), (3, 'Children'), (2, 'Animation'), (1, 'Action')]\n"
     ]
    }
   ],
   "source": [
    "mapper_stmt2 = select(dict_table['category'].columns.category_id, dict_table['category'].columns.name).\\\n",
    "    order_by(dict_table['category'].columns.name.desc())\n",
    "\n",
    "print('Mapper select: ')\n",
    "print(mapper_stmt2)\n",
    "\n",
    "with engine.connect() as conn:\n",
    "    result2 = conn.execute(mapper_stmt2).fetchall()\n",
    "\n",
    "print(result2)"
   ]
  },
  {
   "cell_type": "markdown",
   "metadata": {},
   "source": [
    "The same applies to sessions:"
   ]
  },
  {
   "cell_type": "code",
   "execution_count": 14,
   "metadata": {},
   "outputs": [
    {
     "name": "stdout",
     "output_type": "stream",
     "text": [
      "\n",
      "Session select asc: \n",
      "SELECT category.category_id AS category_category_id, category.name AS category_name \n",
      "FROM category ORDER BY category.name ASC\n",
      "[(1, 'Action'), (2, 'Animation'), (3, 'Children'), (4, 'Classics'), (5, 'Comedy'), (6, 'Documentary'), (7, 'Drama'), (8, 'Family'), (9, 'Foreign'), (10, 'Games'), (11, 'Horror'), (12, 'Music'), (13, 'New'), (14, 'Sci-Fi'), (15, 'Sports'), (16, 'Travel')]\n",
      "\n",
      "Session select desc: \n",
      "SELECT category.category_id AS category_category_id, category.name AS category_name \n",
      "FROM category ORDER BY category.name DESC\n",
      "[(16, 'Travel'), (15, 'Sports'), (14, 'Sci-Fi'), (13, 'New'), (12, 'Music'), (11, 'Horror'), (10, 'Games'), (9, 'Foreign'), (8, 'Family'), (7, 'Drama'), (6, 'Documentary'), (5, 'Comedy'), (4, 'Classics'), (3, 'Children'), (2, 'Animation'), (1, 'Action')]\n"
     ]
    }
   ],
   "source": [
    "# Session select ascending\n",
    "session_stmt2_asc = session.query(Category_filter.category_id, Category_filter.name).\\\n",
    "    order_by(Category_filter.name.asc())\n",
    "\n",
    "print('\\nSession select asc: ')\n",
    "print(session_stmt2_asc)\n",
    "result_asc = session_stmt2_asc.all()\n",
    "print(result_asc)\n",
    "\n",
    "# Session select descending\n",
    "session_stmt2_desc = session.query(Category_filter.category_id, Category_filter.name).\\\n",
    "    order_by(Category_filter.name.desc())\n",
    "\n",
    "print('\\nSession select desc: ')\n",
    "print(session_stmt2_desc)\n",
    "result_desc = session_stmt2_desc.all()\n",
    "print(result_desc)"
   ]
  },
  {
   "cell_type": "markdown",
   "metadata": {},
   "source": [
    "## 3. Find the oldest and youngest film in rental."
   ]
  },
  {
   "cell_type": "markdown",
   "metadata": {},
   "source": [
    "We can also use logical conditions, such as: `or_`, `and_`, `in_`\n",
    "\n",
    "To limit the number of records returned by the database, we can use the `limit` function."
   ]
  },
  {
   "cell_type": "code",
   "execution_count": 16,
   "metadata": {},
   "outputs": [
    {
     "name": "stdout",
     "output_type": "stream",
     "text": [
      "Mapper select:\n",
      "SELECT film.title AS title, film.release_year AS year, rental.return_date AS date \n",
      "FROM film JOIN inventory ON film.film_id = inventory.film_id JOIN rental ON rental.inventory_id = inventory.inventory_id \n",
      "WHERE film.release_year = (SELECT film.release_year \n",
      "FROM film ORDER BY film.release_year DESC\n",
      " LIMIT :param_1) AND rental.return_date IS NULL OR film.release_year = (SELECT film.release_year \n",
      "FROM film ORDER BY film.release_year ASC\n",
      " LIMIT :param_2) AND rental.return_date IS NULL GROUP BY film.title, film.release_year, rental.return_date\n",
      "[('Academy Dinosaur', 2006, None), ('Ace Goldfinger', 2006, None), ('Affair Prejudice', 2006, None), ('African Egg', 2006, None), ('Ali Forever', 2006, None), ('Alone Trip', 2006, None), ('Amadeus Holy', 2006, None), ('American Circus', 2006, None), ('Amistad Midsummer', 2006, None), ('Armageddon Lost', 2006, None), ('Baked Cleopatra', 2006, None), ('Bang Kwai', 2006, None), ('Basic Easy', 2006, None), ('Berets Agent', 2006, None), ('Blade Polish', 2006, None), ('Blanket Beverly', 2006, None), ('Boogie Amelie', 2006, None), ('Boulevard Mob', 2006, None), ('Bound Cheaper', 2006, None), ('Bubble Grosse', 2006, None), ('Bull Shawshank', 2006, None), ('Camelot Vacation', 2006, None), ('Candidate Perdition', 2006, None), ('Canyon Stock', 2006, None), ('Cat Coneheads', 2006, None), ('Center Dinosaur', 2006, None), ('Chamber Italian', 2006, None), ('Chasing Fight', 2006, None), ('Chitty Lock', 2006, None), ('Cincinatti Whisperer', 2006, None), ('Cleopatra Devil', 2006, None), ('Club Graffiti', 2006, None), ('Connection Microcosmos', 2006, None), ('Conversation Downhill', 2006, None), ('Creatures Shakespeare', 2006, None), ('Crooked Frogmen', 2006, None), ('Curtain Videotape', 2006, None), ('Cyclone Family', 2006, None), ('Dances None', 2006, None), ('Day Unfaithful', 2006, None), ('Deep Crusade', 2006, None), ('Deer Virginian', 2006, None), ('Details Packer', 2006, None), ('Detective Vision', 2006, None), ('Devil Desire', 2006, None), ('Disciple Mother', 2006, None), ('Divine Resurrection', 2006, None), ('Doors President', 2006, None), ('Dragonfly Strangers', 2006, None), ('Drifter Commandments', 2006, None), ('Driver Annie', 2006, None), ('Dwarfs Alter', 2006, None), ('Eagles Panky', 2006, None), ('Earth Vision', 2006, None), ('Effect Gladiator', 2006, None), ('Encino Elf', 2006, None), ('Enough Raging', 2006, None), ('Falcon Volume', 2006, None), ('Family Sweet', 2006, None), ('Fight Jawbreaker', 2006, None), ('Flying Hook', 2006, None), ('Forrester Comancheros', 2006, None), ('Frida Slipper', 2006, None), ('Frisco Forrest', 2006, None), ('Frost Head', 2006, None), ('Gables Metropolis', 2006, None), ('Ghost Groundhog', 2006, None), ('Gleaming Jawbreaker', 2006, None), ('Gorgeous Bingo', 2006, None), ('Grail Frankenstein', 2006, None), ('Grapes Fury', 2006, None), ('Groundhog Uncut', 2006, None), ('Gunfight Moon', 2006, None), ('Half Outfield', 2006, None), ('Happiness United', 2006, None), ('Harry Idaho', 2006, None), ('Haunted Antitrust', 2006, None), ('Holes Brannigan', 2006, None), ('Hunchback Impossible', 2006, None), ('Hunger Roof', 2006, None), ('Hyde Doctor', 2006, None), ('Igby Maker', 2006, None), ('Insects Stone', 2006, None), ('Insider Arizona', 2006, None), ('Intentions Empire', 2006, None), ('Intrigue Worst', 2006, None), ('Jason Trap', 2006, None), ('Juggler Hardly', 2006, None), ('Kick Savannah', 2006, None), ('Lady Stage', 2006, None), ('Lawless Vision', 2006, None), ('Loathing Legally', 2006, None), ('Lord Arizona', 2006, None), ('Lovely Jingle', 2006, None), ('Lust Lock', 2006, None), ('Midnight Westward', 2006, None), ('Minority Kiss', 2006, None), ('Mockingbird Hollywood', 2006, None), ('Monster Spartacus', 2006, None), ('Moonwalker Fool', 2006, None), ('Mosquito Armageddon', 2006, None), ('Motions Details', 2006, None), ('Movie Shakespeare', 2006, None), ('Mulan Moon', 2006, None), ('Mulholland Beast', 2006, None), ('Mummy Creatures', 2006, None), ('Name Detective', 2006, None), ('None Spiking', 2006, None), ('Operation Operation', 2006, None), ('Opposite Necklace', 2006, None), ('Outfield Massacre', 2006, None), ('Outlaw Hanky', 2006, None), ('Peach Innocent', 2006, None), ('Philadelphia Wife', 2006, None), ('Pianist Outfield', 2006, None), ('Pirates Roxanne', 2006, None), ('Pollock Deliverance', 2006, None), ('Pride Alamo', 2006, None), ('Princess Giant', 2006, None), ('Pulp Beverly', 2006, None), ('Pure Runner', 2006, None), ('Queen Luke', 2006, None), ('Ridgemont Submarine', 2006, None), ('River Outlaw', 2006, None), ('Scarface Bang', 2006, None), ('Seabiscuit Punk', 2006, None), ('Seattle Expecations', 2006, None), ('Shawshank Bubble', 2006, None), ('Shock Cabin', 2006, None), ('Shrek License', 2006, None), ('Silverado Goldfinger', 2006, None), ('Sleeping Suspects', 2006, None), ('Sleepless Monsoon', 2006, None), ('Sleepy Japanese', 2006, None), ('Smoking Barbarella', 2006, None), ('Smoochy Control', 2006, None), ('Song Hedwig', 2006, None), ('Sons Interview', 2006, None), ('South Wait', 2006, None), ('Star Operation', 2006, None), ('State Wasteland', 2006, None), ('Streak Ridgemont', 2006, None), ('Suit Walls', 2006, None), ('Summer Scarface', 2006, None), ('Sundance Invasion', 2006, None), ('Suspects Quills', 2006, None), ('Swarm Gold', 2006, None), ('Sweden Shining', 2006, None), ('Sweethearts Suspects', 2006, None), ('Theory Mermaid', 2006, None), ('Titanic Boondock', 2006, None), ('Titans Jerk', 2006, None), ('Torque Bound', 2006, None), ('Trading Pinocchio', 2006, None), ('Trojan Tomorrow', 2006, None), ('Trouble Date', 2006, None), ('Tuxedo Mile', 2006, None), ('Vanished Garden', 2006, None), ('Vanishing Rocky', 2006, None), ('Varsity Trip', 2006, None), ('Virginian Pluto', 2006, None), ('Volcano Texas', 2006, None), ('Wanda Chamber', 2006, None), ('Wedding Apollo', 2006, None), ('Wild Apollo', 2006, None), ('Window Side', 2006, None), ('Women Dorado', 2006, None), ('World Leathernecks', 2006, None), ('Zhivago Core', 2006, None)]\n"
     ]
    }
   ],
   "source": [
    "# mapper_stmt3 = text(\"\"\"\n",
    "#     SELECT title, year, date FROM (\n",
    "#         SELECT film.title AS title, film.release_year AS year, rental.return_date AS date \n",
    "#         FROM film\n",
    "#         INNER JOIN inventory ON film.film_id = inventory.film_id\n",
    "#         INNER JOIN rental ON inventory.inventory_id = rental.inventory_id\n",
    "#         GROUP BY title, year, date\n",
    "#     ) AS temp_table\n",
    "#     WHERE year = (SELECT MAX(film.release_year) FROM film) OR\n",
    "#           year = (SELECT MIN(film.release_year) FROM film) AND\n",
    "#           date IS NULL\n",
    "# \"\"\")\n",
    "\n",
    "# print('Mapper select:')\n",
    "# print(mapper_stmt3)\n",
    "# with engine.connect() as conn:\n",
    "#     result3 = conn.execute(mapper_stmt3).fetchall()\n",
    "# print(result3)\n",
    "\n",
    "# Define subqueries for MIN and MAX release years\n",
    "min_year_subquery = select(dict_table['film'].columns.release_year).order_by(dict_table['film'].columns.release_year.asc()).limit(1).scalar_subquery()\n",
    "max_year_subquery = select(dict_table['film'].columns.release_year).order_by(dict_table['film'].columns.release_year.desc()).limit(1).scalar_subquery()\n",
    "\n",
    "# Main query directly filtering by release year with labeled columns\n",
    "mapper_stmt3 = select(\n",
    "    dict_table['film'].columns.title.label('title'),\n",
    "    dict_table['film'].columns.release_year.label('year'),\n",
    "    dict_table['rental'].columns.return_date.label('date')\n",
    "    ).select_from(\n",
    "        dict_table['film']\n",
    "        .join(dict_table['inventory'], dict_table['film'].columns.film_id == dict_table['inventory'].columns.film_id)\n",
    "        .join(dict_table['rental'], dict_table['rental'].columns.inventory_id == dict_table['inventory'].columns.inventory_id)\n",
    "    ).where(\n",
    "        or_(\n",
    "            and_(dict_table['film'].columns.release_year == max_year_subquery, dict_table['rental'].columns.return_date == None),\n",
    "            and_(dict_table['film'].columns.release_year == min_year_subquery, dict_table['rental'].columns.return_date == None)\n",
    "            )\n",
    ").group_by(\n",
    "    dict_table['film'].columns.title,\n",
    "    dict_table['film'].columns.release_year,\n",
    "    dict_table['rental'].columns.return_date\n",
    ")\n",
    "\n",
    "print('Mapper select:')\n",
    "print(mapper_stmt3)\n",
    "\n",
    "with engine.connect() as conn:\n",
    "    result3 = conn.execute(mapper_stmt3).fetchall()\n",
    "\n",
    "print(result3)"
   ]
  },
  {
   "cell_type": "markdown",
   "metadata": {},
   "source": [
    "## 4. How many rentals were in between 2005-07-01 and 2005-08-01?"
   ]
  },
  {
   "cell_type": "code",
   "execution_count": 17,
   "metadata": {},
   "outputs": [
    {
     "name": "stdout",
     "output_type": "stream",
     "text": [
      "Mapper select: \n",
      "SELECT rental.rental_id, rental.rental_date, rental.inventory_id, rental.customer_id, rental.return_date, rental.staff_id, rental.last_update \n",
      "FROM rental \n",
      "WHERE rental.rental_date > :rental_date_1 AND rental.rental_date < :rental_date_2\n",
      "[]\n",
      "0\n"
     ]
    }
   ],
   "source": [
    "import datetime\n",
    "\n",
    "mapper_stmt4 = select(dict_table['rental']\n",
    "                      ).where(and_(dict_table['rental'].columns.rental_date > datetime.datetime(2006, 7, 1),\\\n",
    "                                   dict_table['rental'].columns.rental_date < datetime.datetime(2006, 8, 1)))\n",
    "\n",
    "print('Mapper select: ')\n",
    "print(mapper_stmt4)\n",
    "\n",
    "with engine.connect() as conn:\n",
    "    result4 = conn.execute(mapper_stmt4).fetchall()\n",
    "\n",
    "result4_length = len(result4)\n",
    "print(result4)\n",
    "print(result4_length)"
   ]
  },
  {
   "cell_type": "markdown",
   "metadata": {},
   "source": [
    "## 5. How many rentals were in between 2010-01-01 and 2011-02-01?"
   ]
  },
  {
   "cell_type": "code",
   "execution_count": 18,
   "metadata": {},
   "outputs": [
    {
     "name": "stdout",
     "output_type": "stream",
     "text": [
      "Mapper select: \n",
      "SELECT rental.rental_id, rental.rental_date, rental.inventory_id, rental.customer_id, rental.return_date, rental.staff_id, rental.last_update \n",
      "FROM rental \n",
      "WHERE rental.rental_date > :rental_date_1 AND rental.rental_date < :rental_date_2\n",
      "[]\n",
      "0\n"
     ]
    }
   ],
   "source": [
    "import datetime\n",
    "\n",
    "mapper_stmt5 = select(dict_table['rental']\n",
    "                      ).where(and_(dict_table['rental'].columns.rental_date > datetime.datetime(2010, 1, 1),\\\n",
    "                                   dict_table['rental'].columns.rental_date < datetime.datetime(2010, 2, 1)))\n",
    "\n",
    "print('Mapper select: ')\n",
    "print(mapper_stmt5)\n",
    "\n",
    "with engine.connect() as conn:\n",
    "    result5 = conn.execute(mapper_stmt5).fetchall()\n",
    "\n",
    "result5_length = len(result5)\n",
    "print(result5)\n",
    "print(result5_length)"
   ]
  },
  {
   "cell_type": "markdown",
   "metadata": {},
   "source": [
    "## 6. Find the biggest payment in the rental."
   ]
  },
  {
   "cell_type": "code",
   "execution_count": 19,
   "metadata": {},
   "outputs": [
    {
     "name": "stdout",
     "output_type": "stream",
     "text": [
      "Mapper select: \n",
      "SELECT payment.amount \n",
      "FROM payment ORDER BY payment.amount DESC\n",
      " LIMIT :param_1\n",
      "[(Decimal('11.99'),)]\n"
     ]
    }
   ],
   "source": [
    "# mapper_stmt6 = 'SELECT max(payment.amount) from payment'\n",
    "\n",
    "mapper_stmt6 = select(dict_table['payment'].columns.amount).order_by(dict_table['payment'].columns.amount.desc()).limit(1)\n",
    "\n",
    "print('Mapper select: ')\n",
    "print(mapper_stmt6)\n",
    "\n",
    "with engine.connect() as conn:\n",
    "    result6 = conn.execute(mapper_stmt6).fetchall()\n",
    "\n",
    "print(result6)"
   ]
  },
  {
   "cell_type": "markdown",
   "metadata": {},
   "source": [
    "## 7. Find all customers from Poland, Nigeria or Bangladesh."
   ]
  },
  {
   "cell_type": "code",
   "execution_count": 20,
   "metadata": {},
   "outputs": [
    {
     "name": "stdout",
     "output_type": "stream",
     "text": [
      "Mapper select:\n",
      "\n",
      "    SELECT customer.first_name, customer.last_name, country.country \n",
      "    FROM customer\n",
      "    INNER JOIN address ON address.address_id = customer.address_id\n",
      "    INNER JOIN city ON city.city_id = address.city_id\n",
      "    INNER JOIN country ON country.country_id = city.country_id\n",
      "    WHERE country.country IN ('Poland', 'Nigeria', 'Bangladesh')\n",
      "    GROUP BY customer.first_name, customer.last_name, country.country\n",
      "\n",
      "[('Bertha', 'Ferguson', 'Nigeria'), ('Brian', 'Wyman', 'Poland'), ('Carol', 'Garcia', 'Nigeria'), ('Constance', 'Reid', 'Nigeria'), ('Elsie', 'Kelley', 'Nigeria'), ('Frank', 'Waggoner', 'Bangladesh'), ('Gladys', 'Hamilton', 'Nigeria'), ('Jimmie', 'Eggleston', 'Poland'), ('Jo', 'Fowler', 'Nigeria'), ('Johnnie', 'Chisholm', 'Poland'), ('Leah', 'Curtis', 'Poland'), ('Marilyn', 'Ross', 'Nigeria'), ('Marjorie', 'Tucker', 'Poland'), ('Michelle', 'Clark', 'Bangladesh'), ('Olga', 'Jimenez', 'Nigeria'), ('Rodney', 'Moeller', 'Nigeria'), ('Ruben', 'Geary', 'Poland'), ('Russell', 'Brinson', 'Poland'), ('Sidney', 'Burleson', 'Poland'), ('Sonia', 'Gregory', 'Nigeria'), ('Stephen', 'Qualls', 'Bangladesh'), ('Tracey', 'Barrett', 'Nigeria'), ('Velma', 'Lucas', 'Nigeria'), ('Wallace', 'Slone', 'Nigeria')]\n"
     ]
    }
   ],
   "source": [
    "mapper_stmt7 = text(\"\"\"\n",
    "    SELECT customer.first_name, customer.last_name, country.country \n",
    "    FROM customer\n",
    "    INNER JOIN address ON address.address_id = customer.address_id\n",
    "    INNER JOIN city ON city.city_id = address.city_id\n",
    "    INNER JOIN country ON country.country_id = city.country_id\n",
    "    WHERE country.country IN ('Poland', 'Nigeria', 'Bangladesh')\n",
    "    GROUP BY customer.first_name, customer.last_name, country.country\n",
    "\"\"\")\n",
    "\n",
    "print('Mapper select:')\n",
    "print(mapper_stmt7)\n",
    "\n",
    "with engine.connect() as conn:\n",
    "    result7 = conn.execute(mapper_stmt7).fetchall()\n",
    "\n",
    "print(result7)"
   ]
  },
  {
   "cell_type": "markdown",
   "metadata": {},
   "source": [
    "Alternative:"
   ]
  },
  {
   "cell_type": "code",
   "execution_count": 21,
   "metadata": {},
   "outputs": [
    {
     "name": "stdout",
     "output_type": "stream",
     "text": [
      "Mapper select: \n",
      "SELECT customer.first_name, customer.last_name, country.country \n",
      "FROM customer JOIN address ON address.address_id = customer.address_id JOIN city ON city.city_id = address.city_id JOIN country ON country.country_id = city.country_id \n",
      "WHERE country.country = :country_1 OR country.country = :country_2 OR country.country = :country_3 GROUP BY customer.first_name, customer.last_name, country.country\n",
      "[('Bertha', 'Ferguson', 'Nigeria'), ('Brian', 'Wyman', 'Poland'), ('Carol', 'Garcia', 'Nigeria'), ('Constance', 'Reid', 'Nigeria'), ('Elsie', 'Kelley', 'Nigeria'), ('Frank', 'Waggoner', 'Bangladesh'), ('Gladys', 'Hamilton', 'Nigeria'), ('Jimmie', 'Eggleston', 'Poland'), ('Jo', 'Fowler', 'Nigeria'), ('Johnnie', 'Chisholm', 'Poland'), ('Leah', 'Curtis', 'Poland'), ('Marilyn', 'Ross', 'Nigeria'), ('Marjorie', 'Tucker', 'Poland'), ('Michelle', 'Clark', 'Bangladesh'), ('Olga', 'Jimenez', 'Nigeria'), ('Rodney', 'Moeller', 'Nigeria'), ('Ruben', 'Geary', 'Poland'), ('Russell', 'Brinson', 'Poland'), ('Sidney', 'Burleson', 'Poland'), ('Sonia', 'Gregory', 'Nigeria'), ('Stephen', 'Qualls', 'Bangladesh'), ('Tracey', 'Barrett', 'Nigeria'), ('Velma', 'Lucas', 'Nigeria'), ('Wallace', 'Slone', 'Nigeria')]\n"
     ]
    }
   ],
   "source": [
    "mapper_stmt7 = select(dict_table['customer'].columns.first_name,\n",
    "                       dict_table['customer'].columns.last_name,\n",
    "                       dict_table['country'].columns.country).\\\n",
    "select_from(dict_table['customer']\n",
    "        .join(\n",
    "            dict_table['address'],\n",
    "            dict_table['address'].columns.address_id == dict_table['customer'].columns.address_id)\n",
    "        .join(\n",
    "            dict_table['city'],\n",
    "            dict_table['city'].columns.city_id == dict_table['address'].columns.city_id)\n",
    "        .join(\n",
    "            dict_table['country'],\n",
    "            dict_table['country'].columns.country_id == dict_table['city'].columns.country_id)).\\\n",
    "where(or_(\\\n",
    "            and_(dict_table['country'].columns.country == 'Poland'),\n",
    "            and_(dict_table['country'].columns.country == 'Nigeria'),\n",
    "            and_(dict_table['country'].columns.country == 'Bangladesh'))).\\\n",
    "group_by(dict_table['customer'].columns.first_name,\n",
    "            dict_table['customer'].columns.last_name,\n",
    "            dict_table['country'].columns.country)\n",
    "\n",
    "\n",
    "print('Mapper select: ')\n",
    "print(mapper_stmt7)\n",
    "\n",
    "with engine.connect() as conn:\n",
    "    result7 = conn.execute(mapper_stmt7).fetchall()\n",
    "\n",
    "print(result7)"
   ]
  },
  {
   "cell_type": "markdown",
   "metadata": {},
   "source": [
    "## 8. Where staff memebers live?"
   ]
  },
  {
   "cell_type": "code",
   "execution_count": 22,
   "metadata": {},
   "outputs": [
    {
     "name": "stdout",
     "output_type": "stream",
     "text": [
      "Mapper select: \n",
      "\n",
      "    SELECT staff.first_name AS name, staff.last_name AS surname, address.address AS street, \n",
      "           city.city AS cityName, country.country AS countryName \n",
      "    FROM staff \n",
      "    INNER JOIN address ON address.address_id = staff.address_id \n",
      "    INNER JOIN city ON city.city_id = address.city_id \n",
      "    INNER JOIN country ON country.country_id = city.country_id \n",
      "    GROUP BY name, surname, street, cityName, countryName\n",
      "\n",
      "[('Jon', 'Stephens', '1411 Lillydale Drive', 'Woodridge', 'Australia'), ('Mike', 'Hillyer', '23 Workhaven Lane', 'Lethbridge', 'Canada')]\n"
     ]
    }
   ],
   "source": [
    "mapper_stmt8 = text(\"\"\"\n",
    "    SELECT staff.first_name AS name, staff.last_name AS surname, address.address AS street, \n",
    "           city.city AS cityName, country.country AS countryName \n",
    "    FROM staff \n",
    "    INNER JOIN address ON address.address_id = staff.address_id \n",
    "    INNER JOIN city ON city.city_id = address.city_id \n",
    "    INNER JOIN country ON country.country_id = city.country_id \n",
    "    GROUP BY name, surname, street, cityName, countryName\n",
    "\"\"\")\n",
    "\n",
    "print('Mapper select: ')\n",
    "print(mapper_stmt8)\n",
    "\n",
    "with engine.connect() as conn:\n",
    "    result8 = conn.execute(mapper_stmt8).fetchall()\n",
    "\n",
    "print(result8)"
   ]
  },
  {
   "cell_type": "markdown",
   "metadata": {},
   "source": [
    "Alternative:"
   ]
  },
  {
   "cell_type": "code",
   "execution_count": 23,
   "metadata": {},
   "outputs": [
    {
     "name": "stdout",
     "output_type": "stream",
     "text": [
      "Mapper select: \n",
      "SELECT staff.first_name AS name, staff.last_name AS surname, address.address AS street, city.city AS \"cityName\", country.country AS \"countryName\" \n",
      "FROM staff JOIN address ON staff.address_id = address.address_id JOIN city ON address.city_id = city.city_id JOIN country ON city.country_id = country.country_id GROUP BY staff.first_name, staff.last_name, address.address, city.city, country.country\n",
      "[('Jon', 'Stephens', '1411 Lillydale Drive', 'Woodridge', 'Australia'), ('Mike', 'Hillyer', '23 Workhaven Lane', 'Lethbridge', 'Canada')]\n"
     ]
    }
   ],
   "source": [
    "mapper_stmt8 = select(\n",
    "        dict_table['staff'].columns.first_name.label('name'),\n",
    "        dict_table['staff'].columns.last_name.label('surname'),\n",
    "        dict_table['address'].columns.address.label('street'),\n",
    "        dict_table['city'].columns.city.label('cityName'),\n",
    "        dict_table['country'].columns.country.label('countryName')\n",
    "    ).select_from(\n",
    "        dict_table['staff']\n",
    "        .join(dict_table['address'], dict_table['staff'].columns.address_id == dict_table['address'].columns.address_id)\n",
    "        .join(dict_table['city'], dict_table['address'].columns.city_id == dict_table['city'].columns.city_id)\n",
    "        .join(dict_table['country'], dict_table['city'].columns.country_id == dict_table['country'].columns.country_id)\n",
    "    ).group_by(\n",
    "        dict_table['staff'].columns.first_name,\n",
    "        dict_table['staff'].columns.last_name,\n",
    "        dict_table['address'].columns.address,\n",
    "        dict_table['city'].columns.city,\n",
    "        dict_table['country'].columns.country\n",
    "    )\n",
    "\n",
    "print('Mapper select: ')\n",
    "print(mapper_stmt8)\n",
    "\n",
    "with engine.connect() as conn:\n",
    "    result8 = conn.execute(mapper_stmt8).fetchall()\n",
    "\n",
    "print(result8)"
   ]
  },
  {
   "cell_type": "markdown",
   "metadata": {},
   "source": [
    "## 9. How many staff members live in Argentina or Spain?"
   ]
  },
  {
   "cell_type": "code",
   "execution_count": 24,
   "metadata": {},
   "outputs": [
    {
     "name": "stdout",
     "output_type": "stream",
     "text": [
      "Mapper select:\n",
      "\n",
      "    SELECT COUNT(*) FROM (\n",
      "        SELECT staff.first_name AS staffName, staff.last_name AS surname, address.address AS street, \n",
      "               city.city AS cityName, country.country AS countryName \n",
      "        FROM staff \n",
      "        INNER JOIN address ON address.address_id = staff.address_id \n",
      "        INNER JOIN city ON city.city_id = address.city_id \n",
      "        INNER JOIN country ON country.country_id = city.country_id \n",
      "        GROUP BY staffName, surname, street, cityName, countryName\n",
      "    ) AS temp_table \n",
      "    WHERE countryName = 'Argentina' OR countryName = 'Spain'\n",
      "\n",
      "[(0,)]\n"
     ]
    }
   ],
   "source": [
    "mapper_stmt9 = text(\"\"\"\n",
    "    SELECT COUNT(*) FROM (\n",
    "        SELECT staff.first_name AS staffName, staff.last_name AS surname, address.address AS street, \n",
    "               city.city AS cityName, country.country AS countryName \n",
    "        FROM staff \n",
    "        INNER JOIN address ON address.address_id = staff.address_id \n",
    "        INNER JOIN city ON city.city_id = address.city_id \n",
    "        INNER JOIN country ON country.country_id = city.country_id \n",
    "        GROUP BY staffName, surname, street, cityName, countryName\n",
    "    ) AS temp_table \n",
    "    WHERE countryName = 'Argentina' OR countryName = 'Spain'\n",
    "\"\"\")\n",
    "\n",
    "print('Mapper select:')\n",
    "print(mapper_stmt9)\n",
    "\n",
    "with engine.connect() as conn:\n",
    "    result9 = conn.execute(mapper_stmt9).fetchall()\n",
    "\n",
    "print(result9)"
   ]
  },
  {
   "cell_type": "markdown",
   "metadata": {},
   "source": [
    "Alternative:"
   ]
  },
  {
   "cell_type": "code",
   "execution_count": 25,
   "metadata": {},
   "outputs": [
    {
     "name": "stdout",
     "output_type": "stream",
     "text": [
      "Mapper select:\n",
      "SELECT staff.first_name AS \"staffName\", staff.last_name AS surname, address.address AS street, city.city AS \"cityName\", country.country AS \"countryName\" \n",
      "FROM staff JOIN address ON staff.address_id = address.address_id JOIN city ON address.city_id = city.city_id JOIN country ON city.country_id = country.country_id \n",
      "WHERE country.country IN (__[POSTCOMPILE_country_1]) GROUP BY staff.first_name, staff.last_name, address.address, city.city, country.country\n",
      "Count: 0\n"
     ]
    }
   ],
   "source": [
    "mapper_stmt9 = (\n",
    "    select(\n",
    "        dict_table['staff'].columns.first_name.label('staffName'), \n",
    "        dict_table['staff'].columns.last_name.label('surname'),\n",
    "        dict_table['address'].columns.address.label('street'),\n",
    "        dict_table['city'].columns.city.label('cityName'),\n",
    "        dict_table['country'].columns.country.label('countryName')\n",
    "    )\n",
    "    .join(dict_table['address'], dict_table['staff'].columns.address_id == dict_table['address'].columns.address_id)\n",
    "    .join(dict_table['city'], dict_table['address'].columns.city_id == dict_table['city'].columns.city_id)\n",
    "    .join(dict_table['country'], dict_table['city'].columns.country_id == dict_table['country'].columns.country_id)\n",
    "    .group_by(\n",
    "        dict_table['staff'].columns.first_name, \n",
    "        dict_table['staff'].columns.last_name,\n",
    "        dict_table['address'].columns.address,\n",
    "        dict_table['city'].columns.city,\n",
    "        dict_table['country'].columns.country\n",
    "    )\n",
    "    .where(\n",
    "        dict_table['country'].columns.country.in_(['Argentina', 'Spain'])\n",
    "    )\n",
    ")\n",
    "\n",
    "print('Mapper select:')\n",
    "print(mapper_stmt9)\n",
    "\n",
    "with engine.connect() as conn:\n",
    "    result9 = conn.execute(mapper_stmt9).fetchall()\n",
    "\n",
    "count = len(result9)\n",
    "\n",
    "print(f\"Count: {count}\")"
   ]
  },
  {
   "cell_type": "markdown",
   "metadata": {},
   "source": [
    "## 10. Which categories of the films were rented by clients?"
   ]
  },
  {
   "cell_type": "code",
   "execution_count": 26,
   "metadata": {},
   "outputs": [
    {
     "name": "stdout",
     "output_type": "stream",
     "text": [
      "Mapper select:\n",
      "\n",
      "    SELECT DISTINCT category.name \n",
      "    FROM category\n",
      "    INNER JOIN film_category ON category.category_id = film_category.category_id\n",
      "    INNER JOIN film ON film_category.film_id = film.film_id\n",
      "    INNER JOIN inventory ON film.film_id = inventory.film_id\n",
      "    INNER JOIN rental ON rental.inventory_id = inventory.inventory_id\n",
      "    ORDER BY category.name\n",
      "\n",
      "[('Action',), ('Animation',), ('Children',), ('Classics',), ('Comedy',), ('Documentary',), ('Drama',), ('Family',), ('Foreign',), ('Games',), ('Horror',), ('Music',), ('New',), ('Sci-Fi',), ('Sports',), ('Travel',)]\n"
     ]
    }
   ],
   "source": [
    "mapper_stmt10 = text(\"\"\"\n",
    "    SELECT DISTINCT category.name \n",
    "    FROM category\n",
    "    INNER JOIN film_category ON category.category_id = film_category.category_id\n",
    "    INNER JOIN film ON film_category.film_id = film.film_id\n",
    "    INNER JOIN inventory ON film.film_id = inventory.film_id\n",
    "    INNER JOIN rental ON rental.inventory_id = inventory.inventory_id\n",
    "    ORDER BY category.name\n",
    "\"\"\")\n",
    "\n",
    "print('Mapper select:')\n",
    "print(mapper_stmt10)\n",
    "\n",
    "with engine.connect() as conn:\n",
    "    result10 = conn.execute(mapper_stmt10).fetchall()\n",
    "\n",
    "print(result10)"
   ]
  },
  {
   "cell_type": "markdown",
   "metadata": {},
   "source": [
    "Alternative:"
   ]
  },
  {
   "cell_type": "code",
   "execution_count": 27,
   "metadata": {},
   "outputs": [
    {
     "name": "stdout",
     "output_type": "stream",
     "text": [
      "Mapper select:\n",
      "SELECT category.name AS category_name \n",
      "FROM category JOIN film_category ON category.category_id = film_category.category_id JOIN film ON film_category.film_id = film.film_id JOIN inventory ON film.film_id = inventory.film_id JOIN rental ON inventory.inventory_id = rental.inventory_id GROUP BY category.name ORDER BY category.name\n",
      "[('Action',), ('Animation',), ('Children',), ('Classics',), ('Comedy',), ('Documentary',), ('Drama',), ('Family',), ('Foreign',), ('Games',), ('Horror',), ('Music',), ('New',), ('Sci-Fi',), ('Sports',), ('Travel',)]\n"
     ]
    }
   ],
   "source": [
    "mapper_stmt10 = (\n",
    "    select(\n",
    "        dict_table['category'].columns.name.label('category_name')\n",
    "    )\n",
    "    .join(dict_table['film_category'], dict_table['category'].columns.category_id == dict_table['film_category'].columns.category_id)\n",
    "    .join(dict_table['film'], dict_table['film_category'].columns.film_id == dict_table['film'].columns.film_id)\n",
    "    .join(dict_table['inventory'], dict_table['film'].columns.film_id == dict_table['inventory'].columns.film_id)\n",
    "    .join(dict_table['rental'], dict_table['inventory'].columns.inventory_id == dict_table['rental'].columns.inventory_id)\n",
    "    .group_by(dict_table['category'].columns.name)  # Grupa po nazwie kategorii\n",
    "    .order_by(dict_table['category'].columns.name)\n",
    ")\n",
    "\n",
    "print('Mapper select:')\n",
    "print(mapper_stmt10)\n",
    "\n",
    "with engine.connect() as conn:\n",
    "    result10 = conn.execute(mapper_stmt10).fetchall()\n",
    "\n",
    "print(result10)"
   ]
  },
  {
   "cell_type": "markdown",
   "metadata": {},
   "source": [
    "## 11. Find all categories of films rented in America."
   ]
  },
  {
   "cell_type": "code",
   "execution_count": 28,
   "metadata": {},
   "outputs": [
    {
     "name": "stdout",
     "output_type": "stream",
     "text": [
      "Mapper select:\n",
      "\n",
      "    SELECT DISTINCT category.name \n",
      "    FROM category\n",
      "    INNER JOIN film_category ON category.category_id = film_category.category_id\n",
      "    INNER JOIN film ON film_category.film_id = film.film_id\n",
      "    INNER JOIN inventory ON film.film_id = inventory.film_id\n",
      "    INNER JOIN rental ON rental.inventory_id = inventory.inventory_id\n",
      "    INNER JOIN customer ON rental.customer_id = customer.customer_id\n",
      "    INNER JOIN address ON customer.address_id = address.address_id\n",
      "    INNER JOIN city ON address.city_id = city.city_id\n",
      "    INNER JOIN country ON city.country_id = country.country_id\n",
      "    WHERE country.country = 'America'\n",
      "    ORDER BY category.name\n",
      "\n",
      "0\n",
      "[]\n"
     ]
    }
   ],
   "source": [
    "mapper_stmt11 = text(\"\"\"\n",
    "    SELECT DISTINCT category.name \n",
    "    FROM category\n",
    "    INNER JOIN film_category ON category.category_id = film_category.category_id\n",
    "    INNER JOIN film ON film_category.film_id = film.film_id\n",
    "    INNER JOIN inventory ON film.film_id = inventory.film_id\n",
    "    INNER JOIN rental ON rental.inventory_id = inventory.inventory_id\n",
    "    INNER JOIN customer ON rental.customer_id = customer.customer_id\n",
    "    INNER JOIN address ON customer.address_id = address.address_id\n",
    "    INNER JOIN city ON address.city_id = city.city_id\n",
    "    INNER JOIN country ON city.country_id = country.country_id\n",
    "    WHERE country.country = 'America'\n",
    "    ORDER BY category.name\n",
    "\"\"\")\n",
    "\n",
    "print('Mapper select:')\n",
    "print(mapper_stmt11)\n",
    "\n",
    "with engine.connect() as conn:\n",
    "    result11 = conn.execute(mapper_stmt11).fetchall()\n",
    "\n",
    "length_task11 = len(result11)\n",
    "\n",
    "print(length_task11)\n",
    "print(result11)"
   ]
  },
  {
   "cell_type": "markdown",
   "metadata": {},
   "source": [
    "Alternative:"
   ]
  },
  {
   "cell_type": "code",
   "execution_count": 29,
   "metadata": {},
   "outputs": [
    {
     "name": "stdout",
     "output_type": "stream",
     "text": [
      "Mapper select:\n",
      "SELECT category.name AS category_name \n",
      "FROM category JOIN film_category ON category.category_id = film_category.category_id JOIN film ON film_category.film_id = film.film_id JOIN inventory ON film.film_id = inventory.film_id JOIN rental ON inventory.inventory_id = rental.inventory_id JOIN customer ON rental.customer_id = customer.customer_id JOIN address ON customer.address_id = address.address_id JOIN city ON address.city_id = city.city_id JOIN country ON city.country_id = country.country_id \n",
      "WHERE country.country = :country_1 GROUP BY category.name ORDER BY category.name\n",
      "0\n",
      "[]\n"
     ]
    }
   ],
   "source": [
    "mapper_stmt11 = select(dict_table['category'].columns.name.label('category_name')).\\\n",
    "select_from(dict_table['category']\n",
    "            .join(\n",
    "                dict_table['film_category'],\n",
    "                dict_table['category'].columns.category_id == dict_table['film_category'].columns.category_id)\n",
    "            .join(\n",
    "                dict_table['film'],\n",
    "                dict_table['film_category'].columns.film_id == dict_table['film'].columns.film_id)\n",
    "            .join(\n",
    "                dict_table['inventory'],\n",
    "                dict_table['film'].columns.film_id == dict_table['inventory'].columns.film_id)\n",
    "            .join(\n",
    "                dict_table['rental'],\n",
    "                dict_table['inventory'].columns.inventory_id == dict_table['rental'].columns.inventory_id)\n",
    "            .join(\n",
    "                dict_table['customer'],\n",
    "                dict_table['rental'].columns.customer_id == dict_table['customer'].columns.customer_id)\n",
    "            .join(\n",
    "                dict_table['address'],\n",
    "                dict_table['customer'].columns.address_id == dict_table['address'].columns.address_id)\n",
    "            .join(\n",
    "                dict_table['city'],\n",
    "                dict_table['address'].columns.city_id == dict_table['city'].columns.city_id)\n",
    "            .join(\n",
    "                dict_table['country'],\n",
    "                dict_table['city'].columns.country_id == dict_table['country'].columns.country_id)).\\\n",
    "where(dict_table['country'].columns.country == 'America').\\\n",
    "group_by(dict_table['category'].columns.name).\\\n",
    "order_by(dict_table['category'].columns.name)\n",
    "\n",
    "print('Mapper select:')\n",
    "print(mapper_stmt11)\n",
    "\n",
    "with engine.connect() as conn:\n",
    "    result11 = conn.execute(mapper_stmt11).fetchall()\n",
    "\n",
    "length_task11 = len(result11)\n",
    "\n",
    "print(length_task11)\n",
    "print(result11)"
   ]
  },
  {
   "cell_type": "markdown",
   "metadata": {},
   "source": [
    "## 12. Find all title of films where one of these actors played: ,,Olympia Pfeiffer\", ,,Julia Zellweger\" or ,,Ellen Presley\""
   ]
  },
  {
   "cell_type": "code",
   "execution_count": 30,
   "metadata": {},
   "outputs": [
    {
     "name": "stdout",
     "output_type": "stream",
     "text": [
      "Mapper select:\n",
      "\n",
      "    SELECT film.title, actor.first_name, actor.last_name \n",
      "    FROM film\n",
      "    INNER JOIN film_actor ON film_actor.film_id = film.film_id\n",
      "    INNER JOIN actor ON actor.actor_id = film_actor.actor_id\n",
      "    WHERE (actor.first_name = 'Olympia' AND actor.last_name = 'Pfeiffer') OR\n",
      "          (actor.first_name = 'Julia' AND actor.last_name = 'Zellweger') OR\n",
      "          (actor.first_name = 'Ellen' AND actor.last_name = 'Presley')\n",
      "    ORDER BY film.title\n",
      "\n",
      "69\n",
      "[('Badman Dawn', 'Olympia', 'Pfeiffer'), ('Bilko Anonymous', 'Ellen', 'Presley'), ('Breakfast Goldfinger', 'Julia', 'Zellweger'), ('Caribbean Liberty', 'Ellen', 'Presley'), ('Casper Dragonfly', 'Ellen', 'Presley'), ('Chitty Lock', 'Olympia', 'Pfeiffer'), ('Color Philadelphia', 'Olympia', 'Pfeiffer'), ('Contact Anonymous', 'Olympia', 'Pfeiffer'), ('Cranes Reservoir', 'Julia', 'Zellweger'), ('Dares Pluto', 'Julia', 'Zellweger'), ('Deep Crusade', 'Olympia', 'Pfeiffer'), ('Detective Vision', 'Julia', 'Zellweger'), ('Divorce Shining', 'Julia', 'Zellweger'), ('Effect Gladiator', 'Olympia', 'Pfeiffer'), ('Empire Malkovich', 'Ellen', 'Presley'), ('Express Lonely', 'Olympia', 'Pfeiffer'), ('Firehouse Vietnam', 'Olympia', 'Pfeiffer'), ('Floats Garden', 'Ellen', 'Presley'), ('Frogmen Breaking', 'Ellen', 'Presley'), ('Fugitive Maguire', 'Olympia', 'Pfeiffer'), ('Hanky October', 'Olympia', 'Pfeiffer'), ('Hollow Jeopardy', 'Julia', 'Zellweger'), ('Homeward Cider', 'Ellen', 'Presley'), ('Hyde Doctor', 'Ellen', 'Presley'), ('Ice Crossing', 'Olympia', 'Pfeiffer'), ('Idols Snatchers', 'Olympia', 'Pfeiffer'), ('Image Princess', 'Ellen', 'Presley'), ('Intolerable Intentions', 'Olympia', 'Pfeiffer'), ('Jacket Frisco', 'Ellen', 'Presley'), ('Jeopardy Encino', 'Julia', 'Zellweger'), ('Lambs Cincinatti', 'Julia', 'Zellweger'), ('Magnolia Forrester', 'Olympia', 'Pfeiffer'), ('Majestic Floats', 'Julia', 'Zellweger'), ('Mars Roman', 'Olympia', 'Pfeiffer'), ('Maude Mod', 'Olympia', 'Pfeiffer'), ('Microcosmos Paradise', 'Ellen', 'Presley'), ('Minds Truman', 'Julia', 'Zellweger'), ('Murder Antitrust', 'Olympia', 'Pfeiffer'), ('Network Peak', 'Ellen', 'Presley'), ('None Spiking', 'Olympia', 'Pfeiffer'), ('Open African', 'Julia', 'Zellweger'), ('Oscar Gold', 'Ellen', 'Presley'), ('Others Soup', 'Olympia', 'Pfeiffer'), ('Outlaw Hanky', 'Julia', 'Zellweger'), ('Panky Submarine', 'Julia', 'Zellweger'), ('Pickup Driving', 'Ellen', 'Presley'), ('Pinocchio Simon', 'Ellen', 'Presley'), ('Private Drop', 'Ellen', 'Presley'), ('Psycho Shrunk', 'Olympia', 'Pfeiffer'), ('Rider Caddyshack', 'Julia', 'Zellweger'), ('Roots Remember', 'Ellen', 'Presley'), ('Santa Paris', 'Olympia', 'Pfeiffer'), ('Scarface Bang', 'Ellen', 'Presley'), ('Secretary Rouge', 'Ellen', 'Presley'), ('Sense Greek', 'Olympia', 'Pfeiffer'), ('Spy Mile', 'Ellen', 'Presley'), ('Storm Happiness', 'Olympia', 'Pfeiffer'), ('Streetcar Intentions', 'Ellen', 'Presley'), ('Sweet Brotherhood', 'Olympia', 'Pfeiffer'), ('Tadpole Park', 'Ellen', 'Presley'), ('Titanic Boondock', 'Olympia', 'Pfeiffer'), ('Tourist Pelican', 'Olympia', 'Pfeiffer'), ('Traffic Hobbit', 'Olympia', 'Pfeiffer'), ('Treasure Command', 'Ellen', 'Presley'), ('Turn Star', 'Ellen', 'Presley'), ('Wait Cider', 'Olympia', 'Pfeiffer'), ('Women Dorado', 'Ellen', 'Presley'), ('Won Dares', 'Julia', 'Zellweger'), ('Wyoming Storm', 'Julia', 'Zellweger')]\n"
     ]
    }
   ],
   "source": [
    "mapper_stmt12 = text(\"\"\"\n",
    "    SELECT film.title, actor.first_name, actor.last_name \n",
    "    FROM film\n",
    "    INNER JOIN film_actor ON film_actor.film_id = film.film_id\n",
    "    INNER JOIN actor ON actor.actor_id = film_actor.actor_id\n",
    "    WHERE (actor.first_name = 'Olympia' AND actor.last_name = 'Pfeiffer') OR\n",
    "          (actor.first_name = 'Julia' AND actor.last_name = 'Zellweger') OR\n",
    "          (actor.first_name = 'Ellen' AND actor.last_name = 'Presley')\n",
    "    ORDER BY film.title\n",
    "\"\"\")\n",
    "\n",
    "print('Mapper select:')\n",
    "print(mapper_stmt12)\n",
    "\n",
    "with engine.connect() as conn:\n",
    "    result12 = conn.execute(mapper_stmt12).fetchall()\n",
    "\n",
    "result12_length = len(result12)\n",
    "\n",
    "print(result12_length)\n",
    "print(result12)"
   ]
  },
  {
   "cell_type": "markdown",
   "metadata": {},
   "source": [
    "Alternative:"
   ]
  },
  {
   "cell_type": "code",
   "execution_count": 31,
   "metadata": {},
   "outputs": [
    {
     "name": "stdout",
     "output_type": "stream",
     "text": [
      "Mapper select:\n",
      "SELECT film.title, actor.first_name, actor.last_name \n",
      "FROM film JOIN film_actor ON film_actor.film_id = film.film_id JOIN actor ON actor.actor_id = film_actor.actor_id \n",
      "WHERE actor.first_name = :first_name_1 AND actor.last_name = :last_name_1 OR actor.first_name = :first_name_2 AND actor.last_name = :last_name_2 OR actor.first_name = :first_name_3 AND actor.last_name = :last_name_3 ORDER BY film.title\n",
      "69\n",
      "[('Badman Dawn', 'Olympia', 'Pfeiffer'), ('Bilko Anonymous', 'Ellen', 'Presley'), ('Breakfast Goldfinger', 'Julia', 'Zellweger'), ('Caribbean Liberty', 'Ellen', 'Presley'), ('Casper Dragonfly', 'Ellen', 'Presley'), ('Chitty Lock', 'Olympia', 'Pfeiffer'), ('Color Philadelphia', 'Olympia', 'Pfeiffer'), ('Contact Anonymous', 'Olympia', 'Pfeiffer'), ('Cranes Reservoir', 'Julia', 'Zellweger'), ('Dares Pluto', 'Julia', 'Zellweger'), ('Deep Crusade', 'Olympia', 'Pfeiffer'), ('Detective Vision', 'Julia', 'Zellweger'), ('Divorce Shining', 'Julia', 'Zellweger'), ('Effect Gladiator', 'Olympia', 'Pfeiffer'), ('Empire Malkovich', 'Ellen', 'Presley'), ('Express Lonely', 'Olympia', 'Pfeiffer'), ('Firehouse Vietnam', 'Olympia', 'Pfeiffer'), ('Floats Garden', 'Ellen', 'Presley'), ('Frogmen Breaking', 'Ellen', 'Presley'), ('Fugitive Maguire', 'Olympia', 'Pfeiffer'), ('Hanky October', 'Olympia', 'Pfeiffer'), ('Hollow Jeopardy', 'Julia', 'Zellweger'), ('Homeward Cider', 'Ellen', 'Presley'), ('Hyde Doctor', 'Ellen', 'Presley'), ('Ice Crossing', 'Olympia', 'Pfeiffer'), ('Idols Snatchers', 'Olympia', 'Pfeiffer'), ('Image Princess', 'Ellen', 'Presley'), ('Intolerable Intentions', 'Olympia', 'Pfeiffer'), ('Jacket Frisco', 'Ellen', 'Presley'), ('Jeopardy Encino', 'Julia', 'Zellweger'), ('Lambs Cincinatti', 'Julia', 'Zellweger'), ('Magnolia Forrester', 'Olympia', 'Pfeiffer'), ('Majestic Floats', 'Julia', 'Zellweger'), ('Mars Roman', 'Olympia', 'Pfeiffer'), ('Maude Mod', 'Olympia', 'Pfeiffer'), ('Microcosmos Paradise', 'Ellen', 'Presley'), ('Minds Truman', 'Julia', 'Zellweger'), ('Murder Antitrust', 'Olympia', 'Pfeiffer'), ('Network Peak', 'Ellen', 'Presley'), ('None Spiking', 'Olympia', 'Pfeiffer'), ('Open African', 'Julia', 'Zellweger'), ('Oscar Gold', 'Ellen', 'Presley'), ('Others Soup', 'Olympia', 'Pfeiffer'), ('Outlaw Hanky', 'Julia', 'Zellweger'), ('Panky Submarine', 'Julia', 'Zellweger'), ('Pickup Driving', 'Ellen', 'Presley'), ('Pinocchio Simon', 'Ellen', 'Presley'), ('Private Drop', 'Ellen', 'Presley'), ('Psycho Shrunk', 'Olympia', 'Pfeiffer'), ('Rider Caddyshack', 'Julia', 'Zellweger'), ('Roots Remember', 'Ellen', 'Presley'), ('Santa Paris', 'Olympia', 'Pfeiffer'), ('Scarface Bang', 'Ellen', 'Presley'), ('Secretary Rouge', 'Ellen', 'Presley'), ('Sense Greek', 'Olympia', 'Pfeiffer'), ('Spy Mile', 'Ellen', 'Presley'), ('Storm Happiness', 'Olympia', 'Pfeiffer'), ('Streetcar Intentions', 'Ellen', 'Presley'), ('Sweet Brotherhood', 'Olympia', 'Pfeiffer'), ('Tadpole Park', 'Ellen', 'Presley'), ('Titanic Boondock', 'Olympia', 'Pfeiffer'), ('Tourist Pelican', 'Olympia', 'Pfeiffer'), ('Traffic Hobbit', 'Olympia', 'Pfeiffer'), ('Treasure Command', 'Ellen', 'Presley'), ('Turn Star', 'Ellen', 'Presley'), ('Wait Cider', 'Olympia', 'Pfeiffer'), ('Women Dorado', 'Ellen', 'Presley'), ('Won Dares', 'Julia', 'Zellweger'), ('Wyoming Storm', 'Julia', 'Zellweger')]\n"
     ]
    }
   ],
   "source": [
    "mapper_stmt12 = select(dict_table['film'].columns.title,\n",
    "                        dict_table['actor'].columns.first_name,\n",
    "                        dict_table['actor'].columns.last_name).\\\n",
    "select_from(dict_table['film']\n",
    "            .join(\n",
    "                  dict_table['film_actor'],\n",
    "                  dict_table['film_actor'].columns.film_id == dict_table['film'].columns.film_id)\n",
    "            .join(\n",
    "                  dict_table['actor'],\n",
    "                  dict_table['actor'].columns.actor_id == dict_table['film_actor'].columns.actor_id)).\\\n",
    "where(or_(\\\n",
    "            and_(dict_table['actor'].columns.first_name == 'Olympia',\n",
    "                 dict_table['actor'].columns.last_name == 'Pfeiffer'),\n",
    "            and_(dict_table['actor'].columns.first_name == 'Julia',\n",
    "                 dict_table['actor'].columns.last_name == 'Zellweger'),\n",
    "            and_(dict_table['actor'].columns.first_name == 'Ellen',\n",
    "                 dict_table['actor'].columns.last_name == 'Presley'))).\\\n",
    "order_by(dict_table['film'].columns.title)\n",
    "\n",
    "print('Mapper select:')\n",
    "print(mapper_stmt12)\n",
    "\n",
    "with engine.connect() as conn:\n",
    "    result12 = conn.execute(mapper_stmt12).fetchall()\n",
    "\n",
    "result12_length = len(result12)\n",
    "\n",
    "print(result12_length)\n",
    "print(result12)"
   ]
  }
 ],
 "metadata": {
  "kernelspec": {
   "display_name": "sql_venv",
   "language": "python",
   "name": "python3"
  },
  "language_info": {
   "codemirror_mode": {
    "name": "ipython",
    "version": 3
   },
   "file_extension": ".py",
   "mimetype": "text/x-python",
   "name": "python",
   "nbconvert_exporter": "python",
   "pygments_lexer": "ipython3",
   "version": "3.10.11"
  }
 },
 "nbformat": 4,
 "nbformat_minor": 2
}
