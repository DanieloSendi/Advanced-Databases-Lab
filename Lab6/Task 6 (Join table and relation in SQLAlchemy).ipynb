{
 "cells": [
  {
   "cell_type": "markdown",
   "metadata": {},
   "source": [
    "# Join table and relation in SQLAlchemy\n",
    "***"
   ]
  },
  {
   "cell_type": "markdown",
   "metadata": {},
   "source": [
    "The purpose of these laboratory classes is to familiarize with join table in SQLAlchemy.\n",
    "\n",
    "The scope of this classes:\n",
    " - using join()\n",
    " - using outerjoin()"
   ]
  },
  {
   "cell_type": "markdown",
   "metadata": {},
   "source": [
    "### Exercise"
   ]
  },
  {
   "cell_type": "markdown",
   "metadata": {},
   "source": [
    "Use all of these methods to create queries for the test database. Check their execution time using the [profiling and timing code methods](https://jakevdp.github.io/PythonDataScienceHandbook/01.07-timing-and-profiling.html).\n",
    "\n",
    "For queries:\n",
    "1. View a list of the names and surnames of managers living in the same country and working in the same store.\n",
    "2. Find a list of all movies of the same length.\n",
    "3. Find all clients living in the same city.\n"
   ]
  },
  {
   "cell_type": "markdown",
   "metadata": {},
   "source": [
    "![schema dvd rental](dvd-rental-sample-database-diagram.png)"
   ]
  },
  {
   "cell_type": "markdown",
   "metadata": {},
   "source": [
    "## Prepare the environment"
   ]
  },
  {
   "cell_type": "markdown",
   "metadata": {},
   "source": [
    "From the previous we know how create query to database in SQLAlchemy based on function [select](https://docs.sqlalchemy.org/en/13/core/metadata.html?highlight=select#sqlalchemy.schema.Table.select) or [query](https://docs.sqlalchemy.org/en/14/orm/query.html)\n",
    "\n",
    "To work properly in class, we will need the following configuration:"
   ]
  },
  {
   "cell_type": "code",
   "execution_count": 1,
   "metadata": {},
   "outputs": [],
   "source": [
    "from sqlalchemy import create_engine\n",
    "from sqlalchemy.orm import declarative_base"
   ]
  },
  {
   "cell_type": "code",
   "execution_count": 2,
   "metadata": {},
   "outputs": [
    {
     "name": "stdout",
     "output_type": "stream",
     "text": [
      "Connected successfully!\n"
     ]
    }
   ],
   "source": [
    "config_PostgreSQL = {\n",
    "    \"database_type\": \"\",\n",
    "    \"user\": \"\",\n",
    "    \"password\": \"\",\n",
    "    \"database_url\": \"\",\n",
    "    \"port\": 5432,\n",
    "    \"database_name\": \"\"\n",
    "}\n",
    "\n",
    "db_string = \"{database_type}://{user}:{password}@{database_url}:{port}/{database_name}\".format(**config_PostgreSQL)\n",
    "\n",
    "engine = create_engine(db_string)\n",
    "\n",
    "# test the connection\n",
    "try:\n",
    "    conn = engine.connect()\n",
    "    print(\"Connected successfully!\")\n",
    "except Exception as e:\n",
    "    print(\"Failed to connect\")\n",
    "    print(f\"Error: {e}\")\n",
    "\n",
    "Base = declarative_base()"
   ]
  },
  {
   "cell_type": "markdown",
   "metadata": {},
   "source": [
    "### Initialize mapper operation"
   ]
  },
  {
   "cell_type": "markdown",
   "metadata": {},
   "source": [
    "We can use a script to initialize mapper operation. Where `dict_table` is the dictionary with tables representation where the key is the name of the table."
   ]
  },
  {
   "cell_type": "code",
   "execution_count": 3,
   "metadata": {},
   "outputs": [],
   "source": [
    "from sqlalchemy import MetaData, Table, select, Column, Integer, String, Date, ForeignKey, PrimaryKeyConstraint, select, and_\n",
    "from sqlalchemy.inspection import inspect\n",
    "\n",
    "metadata = MetaData()\n",
    "dict_table = {}\n",
    "\n",
    "inspector = inspect(engine)\n",
    "\n",
    "for table_name in inspector.get_table_names():\n",
    "    dict_table[table_name] = Table(table_name, metadata, autoload_with=engine)"
   ]
  },
  {
   "cell_type": "markdown",
   "metadata": {},
   "source": [
    "The first part of the laboratory will concern the case of working with a database whose structure is don't well known."
   ]
  },
  {
   "cell_type": "code",
   "execution_count": 4,
   "metadata": {},
   "outputs": [],
   "source": [
    "from sqlalchemy.orm import sessionmaker\n",
    "\n",
    "session = (sessionmaker(bind=engine))()\n",
    "\n",
    "Base = declarative_base()"
   ]
  },
  {
   "cell_type": "markdown",
   "metadata": {},
   "source": [
    "All the examples for this laboratory part will be for the tables that are mapped on the classes (Object representation).\n",
    "\n",
    "This section presents issues related to the use of relationships described in table mapping classes. For a better understanding of the topic, a simple database will be created containing tables."
   ]
  },
  {
   "cell_type": "code",
   "execution_count": 5,
   "metadata": {},
   "outputs": [],
   "source": [
    "from sqlalchemy import Column, Integer, String, Date, ForeignKey\n",
    "from sqlalchemy.orm import relationship, declarative_base\n",
    "\n",
    "Base = declarative_base()\n",
    "\n",
    "class Country(Base):\n",
    "    __tablename__ = 'country'\n",
    "    country_id = Column(Integer, primary_key=True)\n",
    "    country = Column(String(50))\n",
    "    last_update = Column(Date)\n",
    "    # Relationships\n",
    "    cities = relationship(\"City\", back_populates=\"country\")\n",
    "    \n",
    "    def __str__(self):\n",
    "        return f\"Country id: {self.country_id}, Country name: {self.country}, Last update: {self.last_update}\"\n",
    "\n",
    "class City(Base):\n",
    "    __tablename__ = 'city'\n",
    "    city_id = Column(Integer, primary_key=True)\n",
    "    city = Column(String(50))\n",
    "    country_id = Column(Integer, ForeignKey('country.country_id'))\n",
    "    last_update = Column(Date)\n",
    "    # Relationships\n",
    "    country = relationship(\"Country\", back_populates=\"cities\")\n",
    "    addresses = relationship(\"Address\", back_populates=\"city\")\n",
    "    \n",
    "    def __str__(self):\n",
    "        return f\"City id: {self.city_id}, City name: {self.city}, Country id: {self.country_id}, Last update: {self.last_update}\"\n",
    "\n",
    "class Address(Base):\n",
    "    __tablename__ = 'address'\n",
    "    address_id = Column(Integer, primary_key=True)\n",
    "    address = Column(String(50))\n",
    "    address2 = Column(String(50))\n",
    "    district = Column(String(50))\n",
    "    city_id = Column(Integer, ForeignKey('city.city_id'))\n",
    "    postal_code = Column(String(10))\n",
    "    phone = Column(String(50))\n",
    "    last_update = Column(Date)\n",
    "    # Relationships\n",
    "    city = relationship(\"City\", back_populates=\"addresses\")\n",
    "    customers = relationship(\"Customer\", back_populates=\"address\")\n",
    "    staff_members = relationship(\"Staff\", back_populates=\"address\")\n",
    "    stores = relationship(\"Store\", back_populates=\"address\")\n",
    "    \n",
    "    def __str__(self):\n",
    "        return f\"Address id: {self.address_id}, Address: {self.address}, City id: {self.city_id}, Last update: {self.last_update}\"\n",
    "\n",
    "class Staff(Base):\n",
    "    __tablename__ = 'staff'\n",
    "    staff_id = Column(Integer, primary_key=True)\n",
    "    first_name = Column(String(50))\n",
    "    last_name = Column(String(50))\n",
    "    address_id = Column(Integer, ForeignKey('address.address_id'))\n",
    "    email = Column(String(50))\n",
    "    store_id = Column(Integer, ForeignKey('store.store_id'))\n",
    "    active = Column(Integer)\n",
    "    username = Column(String(50))\n",
    "    password = Column(String(50))\n",
    "    last_update = Column(Date)\n",
    "    picture = Column(String)\n",
    "    manager_staff_id = Column(Integer, ForeignKey('staff.staff_id'), nullable=True)\n",
    "    \n",
    "    # Relationships\n",
    "    address = relationship(\"Address\", back_populates=\"staff_members\")\n",
    "    store = relationship(\"Store\", back_populates=\"staff_members\", foreign_keys=[store_id])\n",
    "    managed_store = relationship(\n",
    "        \"Store\",\n",
    "        back_populates=\"manager\",\n",
    "        primaryjoin=\"Store.manager_staff_id == Staff.staff_id\",\n",
    "        foreign_keys=[manager_staff_id]\n",
    "    )\n",
    "\n",
    "class Store(Base):\n",
    "    __tablename__ = 'store'\n",
    "    store_id = Column(Integer, primary_key=True)\n",
    "    manager_staff_id = Column(Integer, ForeignKey('staff.staff_id'))\n",
    "    address_id = Column(Integer, ForeignKey('address.address_id'))\n",
    "    last_update = Column(Date)\n",
    "    # Relationships\n",
    "    address = relationship(\"Address\", back_populates=\"stores\")\n",
    "    staff_members = relationship(\"Staff\", back_populates=\"store\", foreign_keys=[Staff.store_id])\n",
    "    manager = relationship(\"Staff\", back_populates=\"managed_store\", foreign_keys=[Staff.manager_staff_id])\n",
    "    customers = relationship(\"Customer\", back_populates=\"store\")\n",
    "    \n",
    "    def __str__(self):\n",
    "        return f\"Store id: {self.store_id}, Manager staff id: {self.manager_staff_id}, Address id: {self.address_id}, Last update: {self.last_update}\"\n",
    "\n",
    "class Film(Base):\n",
    "    __tablename__ = 'film'\n",
    "    film_id = Column(Integer, primary_key=True)\n",
    "    title = Column(String(255))\n",
    "    length = Column(Integer)\n",
    "    last_update = Column(Date)\n",
    "    # Relationships\n",
    "    inventory_items = relationship(\"Inventory\", back_populates=\"film\")\n",
    "    categories = relationship(\"Category\", secondary='film_category', back_populates=\"films\")\n",
    "\n",
    "class Category(Base):\n",
    "    __tablename__ = 'category'\n",
    "    category_id = Column(Integer, primary_key=True)\n",
    "    name = Column(String(25))\n",
    "    last_update = Column(Date)\n",
    "    # Relationships\n",
    "    films = relationship(\"Film\", secondary='film_category', back_populates=\"categories\")\n",
    "\n",
    "class Inventory(Base):\n",
    "    __tablename__ = 'inventory'\n",
    "    inventory_id = Column(Integer, primary_key=True)\n",
    "    film_id = Column(Integer, ForeignKey('film.film_id'))\n",
    "    store_id = Column(Integer, ForeignKey('store.store_id'))\n",
    "    last_update = Column(Date)\n",
    "    # Relationships\n",
    "    film = relationship(\"Film\", back_populates=\"inventory_items\")\n",
    "    store = relationship(\"Store\", back_populates=\"inventory_items\")\n",
    "    rentals = relationship(\"Rental\", back_populates=\"inventory\")\n",
    "    \n",
    "    def __str__(self):\n",
    "        return f\"Inventory id: {self.inventory_id}, Film id: {self.film_id}, Store id: {self.store_id}, Last update: {self.last_update}\"\n",
    "\n",
    "class Rental(Base):\n",
    "    __tablename__ = 'rental'\n",
    "    rental_id = Column(Integer, primary_key=True)\n",
    "    rental_date = Column(Date)\n",
    "    inventory_id = Column(Integer, ForeignKey('inventory.inventory_id'))\n",
    "    customer_id = Column(Integer, ForeignKey('customer.customer_id'))\n",
    "    return_date = Column(Date)\n",
    "    staff_id = Column(Integer, ForeignKey('staff.staff_id'))\n",
    "    last_update = Column(Date)\n",
    "    # Relationships\n",
    "    inventory = relationship(\"Inventory\", back_populates=\"rentals\")\n",
    "    customer = relationship(\"Customer\", back_populates=\"rentals\")\n",
    "    staff = relationship(\"Staff\", back_populates=\"rentals\")\n",
    "    \n",
    "    def __str__(self):\n",
    "        return f\"Rental id: {self.rental_id}, Rental date: {self.rental_date}, Inventory id: {self.inventory_id}, Customer id: {self.customer_id}, Last update: {self.last_update}\"\n",
    "\n",
    "class Customer(Base):\n",
    "    __tablename__ = 'customer'\n",
    "    customer_id = Column(Integer, primary_key=True)\n",
    "    store_id = Column(Integer, ForeignKey('store.store_id'))\n",
    "    first_name = Column(String(45))\n",
    "    last_name = Column(String(45))\n",
    "    email = Column(String(50))\n",
    "    address_id = Column(Integer, ForeignKey('address.address_id'))\n",
    "    activebool = Column(Integer)\n",
    "    create_date = Column(Date)\n",
    "    last_update = Column(Date)\n",
    "    active = Column(Integer)\n",
    "    # Relationships\n",
    "    address = relationship(\"Address\", back_populates=\"customers\")\n",
    "    store = relationship(\"Store\", back_populates=\"customers\")\n",
    "    rentals = relationship(\"Rental\", back_populates=\"customer\")\n",
    "    \n",
    "    def __str__(self):\n",
    "        return f\"Customer id: {self.customer_id}, Name: {self.first_name} {self.last_name}, Email: {self.email}, Store id: {self.store_id}, Last update: {self.last_update}\""
   ]
  },
  {
   "cell_type": "markdown",
   "metadata": {},
   "source": [
    "## 1. View a list of the names and surnames of managers living in the same country and working in the same store."
   ]
  },
  {
   "cell_type": "markdown",
   "metadata": {},
   "source": [
    "To make join we can use script. As you can see, the join function creates queries that connect tables in a natural way (PK - FK relationship). But the query results will only appear for the columns contained in the table specified in the select or query functions."
   ]
  },
  {
   "cell_type": "markdown",
   "metadata": {},
   "source": [
    "Core API:"
   ]
  },
  {
   "cell_type": "code",
   "execution_count": 6,
   "metadata": {},
   "outputs": [
    {
     "name": "stdout",
     "output_type": "stream",
     "text": [
      "Mapper select: \n",
      "SELECT staff.first_name AS manager_first_name, staff.last_name AS manager_last_name, country.country AS country_name, store.store_id AS store_id \n",
      "FROM staff JOIN store ON staff.staff_id = store.manager_staff_id JOIN address ON staff.address_id = address.address_id JOIN city ON address.city_id = city.city_id JOIN country ON city.country_id = country.country_id \n",
      "WHERE staff.staff_id = store.manager_staff_id AND city.country_id = country.country_id\n",
      "[('Mike', 'Hillyer', 'Canada', 1), ('Jon', 'Stephens', 'Australia', 2)]\n"
     ]
    }
   ],
   "source": [
    "mapper_stmt1 = select(\n",
    "    dict_table['staff'].c.first_name.label('manager_first_name'), \n",
    "    dict_table['staff'].c.last_name.label('manager_last_name'),\n",
    "    dict_table['country'].c.country.label('country_name'),\n",
    "    dict_table['store'].c.store_id.label('store_id')  # Jeśli masz nazwę sklepu jako kolumnę, możesz użyć tej kolumny\n",
    ").select_from(\n",
    "    dict_table['staff'].join(\n",
    "        dict_table['store'], dict_table['staff'].c.staff_id == dict_table['store'].c.manager_staff_id\n",
    "    ).join(\n",
    "        dict_table['address'], dict_table['staff'].c.address_id == dict_table['address'].c.address_id\n",
    "    ).join(\n",
    "        dict_table['city'], dict_table['address'].c.city_id == dict_table['city'].c.city_id\n",
    "    ).join(\n",
    "        dict_table['country'], dict_table['city'].c.country_id == dict_table['country'].c.country_id\n",
    "    )\n",
    ").where(\n",
    "    and_(\n",
    "        dict_table['staff'].c.staff_id == dict_table['store'].c.manager_staff_id,\n",
    "        dict_table['city'].c.country_id == dict_table['country'].c.country_id\n",
    "    )\n",
    ")\n",
    "\n",
    "print('Mapper select: ')\n",
    "print(mapper_stmt1)\n",
    "\n",
    "with engine.connect() as conn:\n",
    "    result1 = conn.execute(mapper_stmt1).fetchall()\n",
    "\n",
    "print(result1)"
   ]
  },
  {
   "cell_type": "markdown",
   "metadata": {},
   "source": [
    "ORM API:"
   ]
  },
  {
   "cell_type": "code",
   "execution_count": 7,
   "metadata": {},
   "outputs": [
    {
     "name": "stdout",
     "output_type": "stream",
     "text": [
      "\n",
      "Session select: \n",
      "SELECT staff.first_name AS manager_first_name, staff.last_name AS manager_last_name, country.country AS country_name, store.store_id AS store_id \n",
      "FROM staff JOIN store ON staff.staff_id = store.manager_staff_id JOIN address ON staff.address_id = address.address_id JOIN city ON address.city_id = city.city_id JOIN country ON city.country_id = country.country_id \n",
      "WHERE staff.staff_id = store.manager_staff_id AND city.country_id = country.country_id ORDER BY staff.first_name ASC\n",
      "[('Jon', 'Stephens', 'Australia', 2), ('Mike', 'Hillyer', 'Canada', 1)]\n"
     ]
    }
   ],
   "source": [
    "session_stmt1 = session.query(\n",
    "    dict_table['staff'].c.first_name.label('manager_first_name'),\n",
    "    dict_table['staff'].c.last_name.label('manager_last_name'),\n",
    "    dict_table['country'].c.country.label('country_name'),\n",
    "    dict_table['store'].c.store_id.label('store_id')  # Jeśli masz nazwę sklepu jako kolumnę, użyj jej zamiast `store_id`\n",
    ").join(\n",
    "    dict_table['store'], dict_table['staff'].c.staff_id == dict_table['store'].c.manager_staff_id\n",
    ").join(\n",
    "    dict_table['address'], dict_table['staff'].c.address_id == dict_table['address'].c.address_id\n",
    ").join(\n",
    "    dict_table['city'], dict_table['address'].c.city_id == dict_table['city'].c.city_id\n",
    ").join(\n",
    "    dict_table['country'], dict_table['city'].c.country_id == dict_table['country'].c.country_id\n",
    ").where(\n",
    "    and_(\n",
    "        dict_table['staff'].c.staff_id == dict_table['store'].c.manager_staff_id,\n",
    "        dict_table['city'].c.country_id == dict_table['country'].c.country_id\n",
    "    )\n",
    ").order_by(dict_table['staff'].c.first_name.asc())\n",
    "\n",
    "print('\\nSession select: ')\n",
    "print(session_stmt1)\n",
    "\n",
    "result1 = session_stmt1.all()\n",
    "\n",
    "print(result1)"
   ]
  },
  {
   "cell_type": "markdown",
   "metadata": {},
   "source": [
    "## 2. Find a list of all movies of the same length."
   ]
  },
  {
   "cell_type": "code",
   "execution_count": 8,
   "metadata": {},
   "outputs": [
    {
     "name": "stdout",
     "output_type": "stream",
     "text": [
      "Mapper select for movies of the same length: \n",
      "SELECT DISTINCT film.length AS film_length, film.title AS film_title \n",
      "FROM film \n",
      "WHERE film.length IS NOT NULL ORDER BY film.length ASC\n",
      "[(46, 'Labyrinth League'), (46, 'Ridgemont Submarine'), (46, 'Iron Moon'), (46, 'Kwai Homeward'), (46, 'Alien Center'), (47, 'Shanghai Tycoon'), (47, 'Suspects Quills'), (47, 'Divorce Shining'), (47, 'Hawk Chill'), (47, 'Hanover Galaxy'), (47, 'Halloween Nuts'), (47, 'Downhill Enough'), (48, 'Sunset Racer'), (48, 'Notting Speakeasy'), (48, 'Pelican Comforts'), (48, 'Heaven Freedom'), (48, 'Paradise Sabrina'), (48, 'Stepmom Dream'), (48, 'Valentine Vanishing'), (48, 'Ace Goldfinger'), (48, 'Rush Goodfellas'), (48, 'Midsummer Groundhog'), (48, 'Odds Boogie'), (49, 'Hurricane Affair'), (49, 'Doors President'), (49, 'Grosse Wonderful'), (49, 'Heavenly Gun'), (49, 'Hook Chariots'), (50, 'Smoking Barbarella'), (50, 'Crossing Divorce'), (50, 'Adaptation Holes'), (50, 'Muppet Mile'), (50, 'Blues Instinct'), (50, 'Natural Stock'), (50, 'Zorro Ark'), (50, 'Lion Uncut'), (50, 'Pilot Hoosiers'), (51, 'Excitement Eve'), (51, 'Deep Crusade'), (51, 'Frisco Forrest'), (51, 'English Bulworth'), (51, 'Simon North'), (51, 'Champion Flatliners'), (51, 'Hall Cassidy'), (52, 'Harper Dying'), (52, 'Side Ark'), (52, 'Lust Lock'), (52, 'Westward Seabiscuit'), (52, 'Trojan Tomorrow'), (52, 'Spartacus Cheaper'), (52, 'Caddyshack Jedi'), (53, 'Tequila Past'), (53, 'Beneath Rush'), (53, 'Magnificent Chitty'), (53, 'Primary Glass'), (53, 'Cabin Flash'), (53, 'Thin Sagebrush'), (53, 'Summer Scarface'), (53, 'Gump Date'), (53, 'Movie Shakespeare'), (54, 'Go Purple'), (54, 'Kill Brotherhood'), (54, 'Airport Pollock'), (54, 'October Submarine'), (54, 'Sense Greek'), (54, 'Juggler Hardly'), (55, 'Wolves Desire'), (55, 'Coast Rainbow'), (56, 'Goodfellas Salute'), (56, 'Destiny Saturday'), (56, 'Matrix Snowman'), (56, 'Cupboard Sinners'), (56, 'Bride Intrigue'), (57, 'Doctor Grail'), (57, 'Mosquito Armageddon'), (57, 'Dawn Pond'), (57, 'Storm Happiness'), (57, 'Noon Papi'), (57, 'Cranes Reservoir'), (57, 'Alter Victory'), (58, 'Rings Heartbreakers'), (58, 'Closer Bang'), (58, 'Fantasy Troopers'), (58, 'Jekyll Frogmen'), (58, 'Oklahoma Jumanji'), (58, 'Dances None'), (58, 'Super Wyoming'), (59, 'Interview Liaisons'), (59, 'Whisperer Giant'), (59, 'Heartbreakers Bright'), (59, 'Jet Neighbors'), (59, 'Minority Kiss'), (59, 'Legend Jedi'), (59, 'Commandments Express'), (59, 'Daughter Madigan'), (59, 'Vision Torque'), (60, 'Jersey Sassy'), (60, 'Shakespeare Saddle'), (60, 'Smile Earring'), (60, 'Room Roman'), (60, 'Mockingbird Hollywood'), (60, 'Phantom Glory'), (60, 'Pity Bound'), (60, 'Bubble Grosse'), (61, 'Trouble Date'), (61, 'Cassidy Wyoming'), (61, 'Chinatown Gladiator'), (61, 'Drifter Commandments'), (61, 'Reservoir Adaptation'), (61, 'Polish Brooklyn'), (61, 'Waterfront Deliverance'), (61, 'Camelot Vacation'), (61, 'Birds Perdition'), (61, 'Bulworth Commandments'), (62, 'Hanging Deep'), (62, 'Snowman Rollercoaster'), (62, 'Mars Roman'), (62, 'Arabia Dogma'), (62, 'Unbreakable Karate'), (62, 'Airplane Sierra'), (63, 'Boulevard Mob'), (63, 'Bonnie Holocaust'), (63, 'Borrowers Bedazzled'), (63, 'Bunch Minds'), (63, 'Aladdin Calendar'), (63, 'Reunion Witches'), (63, 'Intolerable Intentions'), (63, 'Dinosaur Secretary'), (63, 'Forrest Sons'), (64, 'Victory Academy'), (64, 'Taxi Kick'), (64, 'Trip Newton'), (64, 'Metropolis Coma'), (64, 'Craft Outfield'), (64, 'Novocaine Flight'), (64, 'Mile Mulan'), (64, 'Desert Poseidon'), (64, 'Sleepless Monsoon'), (65, 'Confessions Maguire'), (65, 'Lovely Jingle'), (65, 'Club Graffiti'), (65, 'Barbarella Streetcar'), (65, 'Freddy Storm'), (65, 'Hunting Musketeers'), (65, 'Patriot Roman'), (66, 'Charade Duffel'), (66, 'Eve Resurrection'), (67, 'Egg Igby'), (67, 'North Tequila'), (67, 'Silence Kane'), (67, 'Comancheros Enemy'), (67, 'Lonely Elephant'), (67, 'Butch Panther'), (67, 'Shootist Superfly'), (67, 'Lady Stage'), (68, 'Divide Monster'), (68, 'Doom Dancing'), (68, 'Ark Ridgemont'), (68, 'Human Graffiti'), (68, 'Tomatoes Hellfighters'), (69, 'Lebowski Soldiers'), (69, 'Timberland Sky'), (69, 'Flying Hook'), (69, 'Cruelty Unforgiven'), (69, 'Head Stranger'), (69, 'Hollywood Anonymous'), (70, 'Chance Resurrection'), (70, 'Wedding Apollo'), (70, 'Candidate Perdition'), (70, 'Louisiana Harry'), (70, 'Coldblooded Darling'), (70, 'Clue Grail'), (70, 'Gunfight Moon'), (71, 'Knock Warlock'), (71, 'Princess Giant'), (71, 'Mannequin Worst'), (71, 'Blood Argonauts'), (71, 'Temple Attraction'), (71, 'Train Bunch'), (71, 'Chariots Conspiracy'), (72, 'Hardly Robbers'), (72, 'Fiction Christmas'), (72, 'Bowfinger Gables'), (72, 'Maude Mod'), (73, 'Bright Encounters'), (73, 'Godfather Diary'), (73, 'Random Go'), (73, 'Frida Slipper'), (73, 'Bedazzled Married'), (73, 'Valley Packer'), (73, 'Wake Jaws'), (73, 'Salute Apollo'), (73, 'Musketeers Wait'), (73, 'Rebel Airport'), (73, 'Streetcar Intentions'), (73, 'Brotherhood Blanket'), (74, 'Rainbow Shock'), (74, 'Luke Mummy'), (74, 'Snatchers Montezuma'), (74, 'Silverado Goldfinger'), (74, 'Working Microcosmos'), (74, 'Modern Dorado'), (74, 'Maguire Apache'), (74, 'Angels Life'), (74, 'Pearl Destiny'), (74, 'Informer Double'), (74, 'Teen Apollo'), (74, 'Jumping Wrath'), (75, 'Hellfighters Sierra'), (75, 'Balloon Homeward'), (75, 'Newton Labyrinth'), (75, 'Network Peak'), (75, 'California Birds'), (75, 'Stampede Disturbing'), (75, 'Lover Truman'), (75, 'Satisfaction Confidential'), (75, 'Fiddler Lost'), (75, 'Wizard Coldblooded'), (76, 'Haunted Antitrust'), (76, 'Comforts Rush'), (76, 'Destination Jerk'), (76, 'Orange Grapes'), (76, 'Villain Desperate'), (76, 'Boondock Ballroom'), (76, 'Desire Alien'), (77, 'Berets Agent'), (77, 'Fellowship Autumn'), (77, 'Pickup Driving'), (77, 'Mod Secretary'), (77, 'Memento Zoolander'), (77, 'Enemy Odds'), (78, 'Voyage Legally'), (78, 'Unfaithful Kill'), (78, 'Language Cowboy'), (78, 'Insider Arizona'), (78, 'Holiday Games'), (78, 'Watch Tracy'), (79, 'Shock Cabin'), (79, 'Moulin Wake'), (79, 'Ishtar Rocketeer'), (79, 'Amelie Hellfighters'), (79, 'Werewolf Lola'), (79, 'Spiking Element'), (80, 'Loser Hustler'), (80, 'War Notting'), (80, 'Flamingos Connecticut'), (80, 'Garden Island'), (80, 'Meet Chocolate'), (80, 'Turn Star'), (80, 'Sea Virgin'), (80, 'Shawshank Bubble'), (80, 'Peak Forever'), (80, 'Saddle Antitrust'), (81, 'Desperate Trainspotting'), (81, 'Clash Freddy'), (81, 'Roman Punk'), (82, 'Tycoon Gathering'), (82, 'Anything Savannah'), (82, 'Reign Gentlemen'), (82, 'Alone Trip'), (82, 'Perfect Groove'), (82, 'Frost Head'), (82, 'Raiders Antitrust'), (83, 'Fugitive Maguire'), (83, 'Attraction Newton'), (83, 'Moon Bunch'), (83, 'Hustler Party'), (83, 'Warlock Werewolf'), (83, 'None Spiking'), (84, 'Guys Falcon'), (84, 'High Encino'), (84, 'Jeepers Wedding'), (84, 'Gone Trouble'), (84, 'Packer Madigan'), (84, 'Honey Ties'), (84, 'Uptown Young'), (84, 'Pluto Oleander'), (84, 'Sling Luke'), (84, 'Island Exorcist'), (84, 'Daisy Menagerie'), (84, 'Savannah Town'), (84, 'Idols Snatchers'), (85, 'Grail Frankenstein'), (85, 'Beverly Outlaw'), (85, 'Wonka Sea'), (85, 'Lola Agent'), (85, 'Casablanca Super'), (85, 'Blackout Private'), (85, 'Ghost Groundhog'), (85, 'Ending Crowds'), (85, 'Egypt Tenenbaums'), (85, 'Wasteland Divine'), (85, 'Earth Vision'), (85, 'Canyon Stock'), (85, 'Window Side'), (85, 'Varsity Trip'), (85, 'Stage World'), (85, 'Amistad Midsummer'), (85, 'Oz Liaisons'), (86, 'Annie Identity'), (86, 'Gandhi Kwai'), (86, 'Midnight Westward'), (86, 'Academy Dinosaur'), (86, 'Yentl Idaho'), (87, 'Devil Desire'), (87, 'Cheaper Clyde'), (87, 'Bang Kwai'), (87, 'Congeniality Quest'), (87, 'Sleuth Orient'), (87, 'Treatment Jekyll'), (88, 'Purple Movie'), (88, 'Holy Tadpole'), (88, 'Terminator Club'), (88, 'Details Packer'), (89, 'Beast Hunchback'), (89, 'Butterfly Chocolat'), (89, 'Dares Pluto'), (89, 'Roots Remember'), (89, 'Gleaming Jawbreaker'), (89, 'Pulp Beverly'), (90, 'Circus Youth'), (90, 'Forward Temple'), (90, 'Vertigo Northwest'), (90, 'Secret Groundhog'), (90, 'Basic Easy'), (91, 'License Weekend'), (91, 'Titans Jerk'), (91, 'Fight Jawbreaker'), (91, 'Tarzan Videotape'), (91, 'Anthem Luke'), (91, 'Fatal Haunted'), (92, 'Sundance Invasion'), (92, 'Encounters Curtain'), (92, 'Core Suit'), (92, 'Caribbean Liberty'), (92, 'Kane Exorcist'), (92, 'National Story'), (92, 'Anaconda Confessions'), (92, 'Mystic Truman'), (92, 'Apache Divine'), (92, 'Opposite Necklace'), (92, 'Truman Crazy'), (93, 'Sting Personal'), (93, 'Hills Neighbors'), (93, 'Panky Submarine'), (93, 'Shane Darkness'), (93, 'Goldfinger Sensibility'), (93, 'Greatest North'), (93, 'Bill Others'), (93, 'Suicides Silence'), (94, 'Full Flatliners'), (94, 'Alice Fantasia'), (94, 'Disturbing Scarface'), (94, 'Stone Fire'), (95, 'Horn Working'), (95, 'Clueless Bucket'), (96, 'Early Home'), (96, 'Drums Dynamite'), (97, 'Rear Trading'), (97, 'Expendable Stallion'), (97, 'Lucky Flying'), (97, 'Invasion Cyclone'), (98, 'Lost Bird'), (98, 'Feud Frogmen'), (98, 'Earring Instinct'), (98, 'Wisdom Worker'), (98, 'Bound Cheaper'), (98, 'Sensibility Rear'), (98, 'Prejudice Oleander'), (98, 'Madre Gables'), (99, 'Darkness War'), (99, 'Tenenbaums Command'), (99, 'Sabrina Midnight'), (99, 'French Holiday'), (99, 'Perdition Fargo'), (99, 'Pet Haunting'), (99, 'Patient Sister'), (99, 'Armageddon Lost'), (100, 'Flatliners Killer'), (100, 'Happiness United'), (100, 'Bilko Anonymous'), (100, 'Gun Bonnie'), (100, 'Wyoming Storm'), (100, 'Pirates Roxanne'), (100, 'Witches Panic'), (100, 'Divine Resurrection'), (100, 'Hyde Doctor'), (100, 'Punk Divorce'), (100, 'Deliverance Mulholland'), (100, 'Behavior Runaway'), (101, 'Zoolander Fiction'), (101, 'Chocolat Harry'), (101, 'Cider Desire'), (101, 'Runner Madigan'), (101, 'Ghostbusters Elf'), (101, 'Dwarfs Alter'), (101, 'Roof Champion'), (102, 'Giant Troopers'), (102, 'Rock Instinct'), (102, 'Heavyweights Beast'), (102, 'Panic Club'), (102, 'Jeopardy Encino'), (102, 'Treasure Command'), (102, 'Robbers Joon'), (102, 'Falcon Volume'), (102, 'Scarface Bang'), (102, 'Boiled Dares'), (102, 'Opus Ice'), (103, 'Homeward Cider'), (103, 'Glass Dying'), (103, 'Firehouse Vietnam'), (103, 'Impossible Prejudice'), (103, 'Birdcage Casper'), (103, 'Blindness Gun'), (103, 'Pinocchio Simon'), (103, 'Mother Oleander'), (103, 'Strangelove Desire'), (104, 'Crow Grease'), (104, 'Titanic Boondock'), (104, 'Feathers Metal'), (104, 'Ship Wonderland'), (104, 'Mermaid Insects'), (104, 'Date Speed'), (105, 'Microcosmos Paradise'), (105, 'Joon Northwest'), (105, 'Mob Duffel'), (105, 'Won Dares'), (105, 'Zhivago Core'), (105, 'Hunger Roof'), (106, 'Private Drop'), (106, 'Dalmations Sweden'), (106, 'Bed Highball'), (106, 'Deer Virginian'), (106, 'Gaslight Crusade'), (106, 'Sagebrush Clueless'), (107, 'Wanda Chamber'), (107, 'Intentions Empire'), (107, 'Diary Panic'), (107, 'Hate Handicap'), (107, 'Party Knock'), (107, 'Monster Spartacus'), (107, 'Undefeated Dalmations'), (107, 'Effect Gladiator'), (107, 'Hanky October'), (107, 'Chitty Lock'), (108, 'Gorgeous Bingo'), (108, 'Sweethearts Suspects'), (108, 'Handicap Boondock'), (108, 'Autumn Crow'), (108, 'Lord Arizona'), (109, 'Secrets Paradise'), (109, 'Coma Head'), (109, 'Whale Bikini'), (109, 'Panther Reds'), (109, 'Rugrats Shakespeare'), (109, 'Park Citizen'), (109, 'House Dynamite'), (110, 'Seattle Expecations'), (110, 'Samurai Lion'), (110, 'Remember Diary'), (110, 'Trap Guys'), (110, 'League Hellfighters'), (110, 'Celebrity Horn'), (110, 'Snatch Slipper'), (110, 'Drumline Cyclone'), (110, 'Highball Potter'), (111, 'Wind Phantom'), (111, 'Suit Walls'), (111, 'Wonderland Christmas'), (111, 'Groove Fiction'), (111, 'Frogmen Breaking'), (111, 'Ties Hunger'), (111, 'Siege Madre'), (112, 'Conversation Downhill'), (112, 'Seabiscuit Punk'), (112, 'Spy Mile'), (112, 'Stagecoach Armageddon'), (112, 'Forrester Comancheros'), (112, 'Quills Bull'), (112, 'Cat Coneheads'), (112, 'Crusade Honey'), (112, 'Jaws Harry'), (112, 'Crowds Telemark'), (112, 'Watership Frontier'), (112, 'Wait Cider'), (112, 'Coneheads Smoochy'), (113, 'Amadeus Holy'), (113, 'Banger Pinocchio'), (113, 'Legally Secretary'), (113, 'Day Unfaithful'), (113, 'Shepherd Midsummer'), (113, 'Attacks Hate'), (113, 'State Wasteland'), (113, 'Ladybugs Armageddon'), (114, 'Gilbert Pelican'), (114, 'Chasing Fight'), (114, 'Carrie Bunch'), (114, 'Married Go'), (114, 'Chainsaw Uptown'), (114, 'Superfly Trip'), (114, 'Pride Alamo'), (114, 'Blade Polish'), (114, 'Sugar Wonka'), (114, 'Alabama Devil'), (115, 'Prix Undefeated'), (115, 'Glory Tracy'), (115, 'Troopers Metal'), (115, 'Potter Connecticut'), (115, 'Oscar Gold'), (115, 'Element Freddy'), (115, 'Connection Microcosmos'), (116, 'Duck Racer'), (116, 'Madigan Dorado'), (116, 'Words Hunter'), (116, 'Instinct Airport'), (117, 'Resurrection Silverado'), (117, 'Affair Prejudice'), (117, 'Chamber Italian'), (117, 'Graffiti Love'), (117, 'Magic Mallrats'), (118, 'Backlash Undefeated'), (118, 'Fidelity Devil'), (118, 'Orient Closer'), (118, 'Paths Control'), (118, 'Rouge Squad'), (118, 'Personal Ladybugs'), (118, 'Jawbreaker Brooklyn'), (118, 'Others Soup'), (119, 'Identity Lover'), (119, 'Apocalypse Flamingos'), (119, 'Bugsy Song'), (119, 'Dumbo Lust'), (119, 'Games Bowfinger'), (119, 'Strangers Graffiti'), (120, 'Dazed Punk'), (120, 'Order Betrayed'), (120, 'Command Darling'), (120, 'Rage Games'), (120, 'Dolls Rage'), (120, 'Untouchables Sunrise'), (120, 'Karate Moon'), (120, 'Lock Rear'), (120, 'Calendar Gunfight'), (121, 'Jumanji Blade'), (121, 'Paris Weekend'), (121, 'Harry Idaho'), (121, 'Arizona Bang'), (121, 'Pure Runner'), (121, 'Brannigan Sunrise'), (121, 'Boogie Amelie'), (121, 'Dangerous Uptown'), (122, 'Betrayed Rear'), (122, 'Illusion Amelie'), (122, 'Beach Heartbreakers'), (122, 'Dogma Family'), (122, 'Vanilla Day'), (122, 'Hours Rage'), (122, 'Deceiver Betrayed'), (122, 'Mighty Luck'), (122, 'Confused Candles'), (122, 'Extraordinary Conquerer'), (122, 'Chicken Hellfighters'), (123, 'Flash Wars'), (123, 'Reef Salute'), (123, 'Breakfast Goldfinger'), (123, 'Mask Peach'), (123, 'Swarm Gold'), (123, 'Insects Stone'), (123, 'Vanishing Rocky'), (124, 'Speed Suit'), (124, 'Jingle Sagebrush'), (124, 'Chisum Behavior'), (124, 'Clones Pinocchio'), (125, 'Bull Shawshank'), (125, 'Shining Roses'), (125, 'Fish Opus'), (125, 'Saints Bride'), (125, 'Hunter Alter'), (125, 'Gentlemen Stage'), (125, 'Donnie Alley'), (126, 'Wonderful Drop'), (126, 'Sinners Atlantis'), (126, 'Freaky Pocus'), (126, 'Women Dorado'), (126, 'Alamo Videotape'), (126, 'Vampire Whale'), (126, 'Pajama Jawbreaker'), (126, 'Montezuma Command'), (126, 'Elephant Trojan'), (127, 'Submarine Bed'), (127, 'Seven Swarm'), (127, 'Maltese Hope'), (127, 'Gunfighter Mussolini'), (127, 'Argonauts Town'), (128, 'Galaxy Sweethearts'), (128, 'Wars Pluto'), (128, 'Jedi Beneath'), (128, 'Usual Untouchables'), (128, 'Papi Necklace'), (128, 'Holes Brannigan'), (128, 'Notorious Reunion'), (129, 'Sleeping Suspects'), (129, 'Music Boondock'), (129, 'American Circus'), (129, 'Outfield Massacre'), (129, 'Unforgiven Zoolander'), (129, 'Gosford Donnie'), (129, 'Barefoot Manchurian'), (130, 'African Egg'), (130, 'Fargo Gandhi'), (130, 'Darko Dorado'), (130, 'Jason Trap'), (130, 'Stallion Sundance'), (130, 'Majestic Floats'), (131, 'Forever Candidate'), (131, 'Open African'), (131, 'Nemo Campus'), (131, 'Fantasia Park'), (131, 'Ice Crossing'), (132, 'Dude Blindness'), (132, 'Chocolate Duck'), (132, 'Trainspotting Strangers'), (132, 'Streak Ridgemont'), (132, 'Sky Miracle'), (132, 'Platoon Instinct'), (132, 'Necklace Outbreak'), (132, 'Volume House'), (133, 'Freedom Cleopatra'), (133, 'Bucket Brotherhood'), (133, 'Dragonfly Strangers'), (133, 'Curtain Videotape'), (133, 'Mallrats United'), (134, 'Jungle Closer'), (134, 'Weekend Personal'), (134, 'Robbery Bright'), (134, 'Pittsburgh Hunchback'), (134, 'Splendor Patton'), (135, 'Sierra Divide'), (135, 'Grease Youth'), (135, 'Money Harold'), (135, 'Japanese Run'), (135, 'Candles Grapes'), (135, 'Walls Artist'), (135, 'Sunrise League'), (135, 'Indian Love'), (135, 'Dream Pickup'), (135, 'Thief Pelican'), (136, 'Squad Fish'), (136, 'Alaska Phantom'), (136, 'Hollow Jeopardy'), (136, 'Crazy Home'), (136, 'Town Ark'), (136, 'Maker Gables'), (136, 'Pianist Outfield'), (136, 'Bringing Hysterical'), (136, 'Reap Unfaithful'), (137, 'Grit Clockwork'), (137, 'Scorpion Apollo'), (137, 'Life Twisted'), (137, 'Arsenic Independence'), (137, 'Philadelphia Wife'), (137, 'Sleepy Japanese'), (137, 'Lose Inch'), (137, 'Pollock Deliverance'), (137, 'Willow Tracy'), (138, 'Maiden Home'), (138, 'Spinal Rocky'), (138, 'Pocus Pulp'), (138, 'Expecations Natural'), (138, 'Spirited Casualties'), (138, 'Liberty Magnificent'), (139, 'Stranger Strangers'), (139, 'Groundhog Uncut'), (139, 'Clyde Theory'), (139, 'Horror Reign'), (139, 'Worker Tarzan'), (139, 'Traffic Hobbit'), (139, 'Dorado Notting'), (139, 'Voice Peach'), (139, 'Hope Tootsie'), (139, 'Creatures Shakespeare'), (139, 'Shrunk Divine'), (140, 'Steers Armageddon'), (140, 'Liaisons Sweet'), (140, 'Graceland Dynamite'), (140, 'Eagles Panky'), (140, 'Loathing Legally'), (141, 'Dynamite Tarzan'), (141, 'Spice Sorority'), (141, 'Hocus Frida'), (141, 'Sun Confessions'), (141, 'Homicide Peach'), (141, 'Kissing Dolls'), (141, 'Disciple Mother'), (142, 'Million Ace'), (142, 'Vanished Garden'), (142, 'Ferris Mother'), (142, 'Bikini Borrowers'), (142, 'Chill Luck'), (142, 'Tomorrow Hustler'), (142, 'Tracy Cider'), (143, 'Detective Vision'), (143, 'Steel Santa'), (143, 'Crooked Frogmen'), (143, 'Cincinatti Whisperer'), (143, 'South Wait'), (143, 'Encino Elf'), (143, 'Clockwork Paradise'), (144, 'Pacific Amistad'), (144, 'Factory Dragon'), (144, 'Towers Hurricane'), (144, 'Strictly Scarface'), (144, 'Virtual Spoilers'), (144, 'President Bang'), (144, 'Dancing Fever'), (144, 'Lambs Cincinatti'), (145, 'Rocky War'), (145, 'Run Pacific'), (145, 'Floats Garden'), (145, 'Paycheck Wait'), (145, 'Nuts Ties'), (145, 'Vacation Boondock'), (145, 'Videotape Arsenic'), (146, 'Chaplin License'), (146, 'Cowboy Doom'), (146, 'Hamlet Wisdom'), (146, 'Mourning Purple'), (146, 'Half Outfield'), (147, 'Arachnophobia Rollercoaster'), (147, 'Madison Trap'), (147, 'Scissorhands Slums'), (147, 'Lies Treatment'), (147, 'Slums Duck'), (147, 'Range Moonwalker'), (147, 'Menagerie Rushmore'), (147, 'Racer Egg'), (147, 'Dirty Ace'), (148, 'Fireball Philadelphia'), (148, 'Army Flintstones'), (148, 'Easy Gladiator'), (148, 'Outlaw Hanky'), (148, 'Blanket Beverly'), (148, 'Flintstones Happiness'), (148, 'Telegraph Voyage'), (149, 'Holocaust Highball'), (149, 'Color Philadelphia'), (149, 'River Outlaw'), (149, 'Minds Truman'), (149, 'Nightmare Chill'), (149, 'Spirit Flintstones'), (150, 'Grinch Massage'), (150, 'Christmas Moonshine'), (150, 'Rushmore Mermaid'), (150, 'Cleopatra Devil'), (150, 'Hysterical Grail'), (150, 'Bingo Talented'), (150, 'Ali Forever'), (150, 'Saturday Lambs'), (151, 'Beethoven Exorcist'), (151, 'School Jacket'), (151, 'Hunchback Impossible'), (151, 'Carol Texas'), (151, 'Masked Bubble'), (151, 'Spoilers Hellfighters'), (151, 'Straight Hours'), (152, 'Twisted Pirates'), (152, 'Tourist Pelican'), (152, 'Tuxedo Mile'), (152, 'Luck Opus'), (152, 'Wagon Jaws'), (152, 'Elizabeth Shane'), (152, 'Center Dinosaur'), (152, 'Telemark Heartbreakers'), (152, 'Sister Freddy'), (153, 'Leathernecks Dwarfs'), (153, 'Apollo Teen'), (153, 'Baby Hall'), (153, 'Rules Human'), (153, 'Crossroads Casualties'), (153, 'Right Cranes'), (153, 'Goldmine Tycoon'), (153, 'Rollercoaster Bringing'), (153, 'Edge Kissing'), (154, 'Shrek License'), (154, 'Raging Airplane'), (154, 'Doubtfire Labyrinth'), (154, 'Durham Panky'), (154, 'Sassy Packer'), (154, 'Santa Paris'), (154, 'Gold River'), (155, 'Family Sweet'), (155, 'Tadpole Park'), (155, 'Psycho Shrunk'), (155, 'Elf Murder'), (155, 'Grapes Fury'), (155, 'Lolita World'), (156, 'Slipper Fidelity'), (156, 'Operation Operation'), (156, 'Finding Anaconda'), (156, 'Graduate Lord'), (157, 'Past Suicides'), (157, 'Hobbit Alien'), (157, 'Mulholland Beast'), (157, 'Independence Hotel'), (157, 'Tootsie Pilot'), (157, 'Volcano Texas'), (158, 'Fever Empire'), (158, 'Road Roxanne'), (158, 'Enough Raging'), (158, 'Monterey Labyrinth'), (158, 'Fool Mockingbird'), (158, 'Secretary Rouge'), (159, 'Poseidon Forever'), (159, 'Frankenstein Stranger'), (159, 'Driver Annie'), (159, 'Newsies Story'), (159, 'Malkovich Pet'), (159, 'West Lion'), (160, 'Mulan Moon'), (160, 'Mummy Creatures'), (160, 'Igby Maker'), (160, 'Bear Graceland'), (160, 'Peach Innocent'), (160, 'Stock Glass'), (161, 'Gables Metropolis'), (161, 'Metal Armageddon'), (161, 'Oleander Clue'), (161, 'Neighbors Charade'), (161, 'Daddy Pittsburgh'), (161, 'Brooklyn Desert'), (161, 'Massage Image'), (161, 'Wash Heavenly'), (161, 'Killer Innocent'), (162, 'Miracle Virtual'), (162, 'Loverboy Attacks'), (162, 'Badman Dawn'), (162, 'Birch Antitrust'), (162, 'Roses Treasure'), (163, 'Casper Dragonfly'), (163, 'Gilmore Boiled'), (163, 'Story Side'), (163, 'Queen Luke'), (163, 'Everyone Craft'), (163, 'Bird Independence'), (163, 'Kiss Glory'), (164, 'Clerks Angels'), (164, 'United Pilot'), (164, 'Mission Zoolander'), (164, 'Virginian Pluto'), (165, 'Citizen Shrek'), (165, 'Song Hedwig'), (165, 'Speakeasy Date'), (165, 'Massacre Usual'), (165, 'Darling Breaking'), (166, 'Mine Titans'), (166, 'Contact Anonymous'), (166, 'Greedy Roots'), (166, 'Murder Antitrust'), (166, 'Motions Details'), (167, 'Campus Remember'), (167, 'Show Lord'), (167, 'Inch Jet'), (167, 'Exorcist Sting'), (167, 'Escape Metropolis'), (167, 'Requiem Tycoon'), (167, 'Lesson Cleopatra'), (168, 'Dying Maker'), (168, 'Translation Summer'), (168, 'Antitrust Tomatoes'), (168, 'Harold French'), (169, 'Breaking Home'), (169, 'Soup Wisdom'), (169, 'Kentuckian Giant'), (169, 'Hedwig Alter'), (169, 'Agent Truman'), (169, 'Outbreak Divine'), (170, 'Atlantis Cause'), (170, 'Dragon Squad'), (170, 'Artist Coldblooded'), (170, 'Trading Pinocchio'), (171, 'Roxanne Rebel'), (171, 'Magnolia Forrester'), (171, 'Duffel Apocalypse'), (171, 'Moonshine Cabin'), (171, 'Tramp Others'), (171, 'Jericho Mulan'), (171, 'Kramer Chocolate'), (171, 'World Leathernecks'), (172, 'Idaho Love'), (172, 'Tights Dawn'), (172, 'Creepers Kane'), (172, 'Connecticut Tramp'), (172, 'Eyes Driving'), (172, 'Uncut Suicides'), (172, 'Jerk Paycheck'), (172, 'Northwest Polish'), (173, 'Pizza Jumanji'), (173, 'Fire Wolves'), (173, 'Talented Homicide'), (173, 'Ballroom Mockingbird'), (173, 'Gladiator Westward'), (173, 'Velvet Terminator'), (173, 'Conquerer Nuts'), (174, 'Vietnam Smoochy'), (174, 'Italian African'), (174, 'Jade Bunch'), (174, 'Lights Deer'), (174, 'Uprising Uptown'), (174, 'Evolution Alter'), (175, 'Patton Interview'), (175, 'Beauty Grease'), (175, 'Lawrence Love'), (175, 'Driving Polish'), (175, 'Model Fish'), (175, 'Splash Gump'), (176, 'Braveheart Human'), (176, 'Caper Motions'), (176, 'Hoosiers Birdcage'), (176, 'Greek Everyone'), (176, 'Sweden Shining'), (176, 'Wrath Mile'), (176, 'Entrapment Satisfaction'), (176, 'Gathering Calendar'), (176, 'Dracula Crystal'), (176, 'Cyclone Family'), (177, 'Rider Caddyshack'), (177, 'Dozen Lion'), (177, 'Manchurian Curtain'), (177, 'Double Wrath'), (177, 'Empire Malkovich'), (177, 'Quest Mussolini'), (178, 'Wardrobe Phantom'), (178, 'Express Lonely'), (178, 'Fury Murder'), (178, 'Image Princess'), (178, 'Innocent Usual'), (178, 'Rocketeer Mother'), (178, 'Name Detective'), (178, 'Wrong Behavior'), (178, 'Madness Attacks'), (178, 'Drop Waterfront'), (179, 'Torque Bound'), (179, 'Anonymous Human'), (179, 'Redemption Comforts'), (179, 'Youth Kick'), (179, 'Born Spinal'), (179, 'Texas Watch'), (179, 'Slacker Liaisons'), (179, 'Virgin Daisy'), (179, 'Flight Lies'), (179, 'Cause Date'), (179, 'Potluck Mixed'), (179, 'Casualties Encino'), (179, 'Kick Savannah'), (180, 'Confidential Interview'), (180, 'Alley Evolution'), (180, 'Mixed Doors'), (180, 'Mussolini Spoilers'), (180, 'Something Duck'), (180, 'Nash Chocolat'), (180, 'Impact Aladdin'), (181, 'Analyze Hoosiers'), (181, 'Hotel Happiness'), (181, 'Love Suicides'), (181, 'Intrigue Worst'), (181, 'Star Operation'), (181, 'Wild Apollo'), (181, 'Haunting Pianist'), (181, 'Lawless Vision'), (181, 'Runaway Tenenbaums'), (181, 'Jacket Frisco'), (182, 'Baked Cleopatra'), (182, 'Records Zorro'), (182, 'Reds Pocus'), (182, 'Monsoon Cause'), (182, 'Saturn Name'), (182, 'Searchers Wait'), (183, 'Young Language'), (183, 'Wife Turn'), (183, 'Scalawag Duck'), (183, 'Frontier Cabin'), (183, 'Catch Amistad'), (184, 'Crystal Breaking'), (184, 'Conspiracy Spirit'), (184, 'Theory Mermaid'), (184, 'Smoochy Control'), (184, 'Moonwalker Fool'), (184, 'King Evolution'), (184, 'Sons Interview'), (184, 'Sorority Queen'), (185, 'Home Pity'), (185, 'Sweet Brotherhood'), (185, 'Darn Forrester'), (185, 'Control Anthem'), (185, 'Muscle Bright'), (185, 'Gangs Pride'), (185, 'Worst Banger'), (185, 'Chicago North'), (185, 'Soldiers Evolution'), (185, 'Pond Seattle')]\n"
     ]
    }
   ],
   "source": [
    "mapper_stmt2 = select(\n",
    "    dict_table['film'].c.length.label('film_length'), \n",
    "    dict_table['film'].c.title.label('film_title')\n",
    ").where(\n",
    "    dict_table['film'].c.length != None\n",
    ").distinct().order_by(\n",
    "    dict_table['film'].c.length.asc()\n",
    ")\n",
    "\n",
    "print('Mapper select for movies of the same length: ')\n",
    "print(mapper_stmt2)\n",
    "\n",
    "with engine.connect() as conn:\n",
    "    result2 = conn.execute(mapper_stmt2).fetchall()\n",
    "\n",
    "print(result2)"
   ]
  },
  {
   "cell_type": "markdown",
   "metadata": {},
   "source": [
    "## 3. Find all clients living in the same city."
   ]
  },
  {
   "cell_type": "code",
   "execution_count": 9,
   "metadata": {},
   "outputs": [
    {
     "name": "stdout",
     "output_type": "stream",
     "text": [
      "Mapper select for clients in the same city: \n",
      "SELECT customer.first_name, customer.last_name, city.city \n",
      "FROM customer JOIN address ON customer.address_id = address.address_id JOIN city ON address.city_id = city.city_id JOIN (SELECT city.city AS city \n",
      "FROM customer JOIN address ON customer.address_id = address.address_id JOIN city ON address.city_id = city.city_id GROUP BY city.city \n",
      "HAVING count(customer.customer_id) > :count_1) AS subquery ON city.city = subquery.city\n",
      "('Mattie', 'Hoffman', 'London')\n",
      "('Scott', 'Shelley', 'Aurora')\n",
      "('Cecil', 'Vines', 'London')\n",
      "('Clinton', 'Buford', 'Aurora')\n"
     ]
    }
   ],
   "source": [
    "from sqlalchemy import func, select\n",
    "\n",
    "subquery = select(\n",
    "    dict_table['city'].c.city\n",
    ").select_from(\n",
    "    dict_table['customer'].join(\n",
    "        dict_table['address'], dict_table['customer'].c.address_id == dict_table['address'].c.address_id\n",
    "    ).join(\n",
    "        dict_table['city'], dict_table['address'].c.city_id == dict_table['city'].c.city_id\n",
    "    )\n",
    ").group_by(\n",
    "    dict_table['city'].c.city\n",
    ").having(\n",
    "    func.count(dict_table['customer'].c.customer_id) > 1\n",
    ").alias('subquery')\n",
    "\n",
    "mapper_stmt3 = select(\n",
    "    dict_table['customer'].c.first_name,\n",
    "    dict_table['customer'].c.last_name,\n",
    "    dict_table['city'].c.city\n",
    ").select_from(\n",
    "    dict_table['customer'].join(\n",
    "        dict_table['address'], dict_table['customer'].c.address_id == dict_table['address'].c.address_id\n",
    "    ).join(\n",
    "        dict_table['city'], dict_table['address'].c.city_id == dict_table['city'].c.city_id\n",
    "    ).join(\n",
    "        subquery, dict_table['city'].c.city == subquery.c.city\n",
    "    )\n",
    ")\n",
    "\n",
    "print('Mapper select for clients in the same city: ')\n",
    "print(mapper_stmt3)\n",
    "\n",
    "with engine.connect() as conn:\n",
    "    result3 = conn.execute(mapper_stmt3).fetchall()\n",
    "\n",
    "for row in result3:\n",
    "    print(row)"
   ]
  }
 ],
 "metadata": {
  "kernelspec": {
   "display_name": "sql_venv",
   "language": "python",
   "name": "python3"
  },
  "language_info": {
   "codemirror_mode": {
    "name": "ipython",
    "version": 3
   },
   "file_extension": ".py",
   "mimetype": "text/x-python",
   "name": "python",
   "nbconvert_exporter": "python",
   "pygments_lexer": "ipython3",
   "version": "3.10.11"
  }
 },
 "nbformat": 4,
 "nbformat_minor": 2
}
