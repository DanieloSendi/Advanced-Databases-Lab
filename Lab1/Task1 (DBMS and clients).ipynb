{
 "cells": [
  {
   "cell_type": "markdown",
   "metadata": {},
   "source": [
    "# Laboratory 1 - DBMS and clients\n",
    "***"
   ]
  },
  {
   "cell_type": "markdown",
   "metadata": {},
   "source": [
    "## Introduction"
   ]
  },
  {
   "cell_type": "markdown",
   "metadata": {},
   "source": [
    "The aim of this laboratory is to familiarize with database management systems ([DBMS](https://en.wikipedia.org/wikiDatabase#Database_management_system)) and the basic principles of their use.\n",
    "\n",
    "In these classes, we will use:\n",
    "\n",
    "- [SQLite](https://www.sqlite.org/index.html)\n",
    "\n",
    "- [MySQL](https://www.mysql.com/)\n",
    "\n",
    "- [PostgreSQL](https://www.postgresql.org/)"
   ]
  },
  {
   "cell_type": "markdown",
   "metadata": {},
   "source": [
    "## SQLite\n",
    "***"
   ]
  },
  {
   "cell_type": "markdown",
   "metadata": {},
   "source": [
    "SQLite is a database engine, written in the C language. It is not a standalone DBMS, it is a library that software developers embed in their apps. As such, it belongs to the family of embedded databases. It is the most widely deployed database engine, as it is used by several of the top web browsers, operating systems, mobile phones, and other embedded systems. \n",
    "\n",
    "For SQLite, the most similar application to classical DBMS is ‘’DB Browser for SQLite’’. This program can be downloaded [here](https://sqlitebrowser.org/dl/).\n",
    "\n",
    "### Create database\n",
    "\n",
    "1. Instal and open DB Browser for SQLite.  \n",
    "\n",
    "2. In left right corner click option *New Database* or go *File> Create New Database*\n",
    "\n",
    "3. In dialog window set your database name and confirm clicked button *Save*\n",
    "\n",
    "### Create table\n",
    "\n",
    "After save your new database in tab *Database Structure* you can create new table in your database. To do that you need:\n",
    "\n",
    "1. In *Database Structure* click *Create table*\n",
    "\n",
    "2. In dialog window set table name\\\n",
    "\n",
    "3. Go to *Fields* and click *Add*\n",
    "\n",
    "4. In created row set name and data type\n",
    "\n",
    "![SQLite start view](images/sqlite_start.png)"
   ]
  },
  {
   "cell_type": "markdown",
   "metadata": {},
   "source": [
    "## MySQL\n",
    "***"
   ]
  },
  {
   "cell_type": "markdown",
   "metadata": {},
   "source": [
    "MySQL is an open-source relational database management system. To easy management this database, most developers use PHPMyAdmin. At AGH, we have the option to create your own database at [panel.agh.edu.pl](https://panel.agh.edu.pl/main.php)\n",
    "\n",
    "### Create database\n",
    "1. Login in [panel.agh.edu.pl](https://panel.agh.edu.pl/main.php)\n",
    "2. Go to section *MySQL* and click in *Create a new database*\n",
    "3. You can read your login and password in table *Your MySQL databases*\n",
    "\n",
    "### Create table\n",
    "1. Log in to the AGH [phpMyAdmin](https://mysql.agh.edu.pl/phpMyAdmin) interface\n",
    "2. From left sidebar select your database name\n",
    "3. Go to tab *Structure* set name your table and number of columns\n",
    "4. Click *Go*\n",
    "5. In created row set name and data type\n",
    "\n",
    "![phpMyAdmin start view](images/phpMyAdmin_start.png)"
   ]
  },
  {
   "cell_type": "markdown",
   "metadata": {},
   "source": [
    "## PostgreSQL\n",
    "***"
   ]
  },
  {
   "cell_type": "markdown",
   "metadata": {},
   "source": [
    "PostgreSQL also known as Postgres, is a free and open-source relational database management system emphasizing extensibility and SQL compliance. It is the default database for macOS Server and is also available for Windows, Linux, FreeBSD, and OpenBSD.\n",
    "\n",
    "[pgAdmin](https://www.pgadmin.org/) is an open source program for managing and work with the PostgreSQL database. Currently the program is marked as pgAdmin 4. It is the next, fourth branch of the program development written in Python.\n",
    "\n",
    "\n",
    "### Set pgAdmin connection to server\n",
    "1. Open pgAdmin\n",
    "2. Go to *Object> Create> Server Group*\n",
    "3. In dialog windows tab General set server name\n",
    "3. Go to tab Connection\n",
    "4. Set Host name, port, Maintenance database (database_name), Username and Password\n",
    "5. Save your settings\n",
    "\n",
    "![pgAdmin start view](images/pgAdmin_start.png)"
   ]
  }
 ],
 "metadata": {
  "language_info": {
   "name": "python"
  }
 },
 "nbformat": 4,
 "nbformat_minor": 2
}
