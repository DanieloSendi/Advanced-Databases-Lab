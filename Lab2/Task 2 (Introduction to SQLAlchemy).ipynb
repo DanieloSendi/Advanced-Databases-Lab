{
 "cells": [
  {
   "attachments": {},
   "cell_type": "markdown",
   "metadata": {},
   "source": [
    "# Introduction to SQLAlchemy\n",
    "***"
   ]
  },
  {
   "cell_type": "markdown",
   "metadata": {},
   "source": [
    "The purpose of these laboratory classes is to familiarize with the basic techniques of working with [SQLAlchemy](https://www.sqlalchemy.org/).\n",
    "\n",
    "The scope of this classes:\n",
    "- connection to a database (especially remote database),\n",
    "- explore of database structure using ORM,\n",
    "- creating simple select in ORM,\n",
    "- using query results in a program,\n",
    "- adding where clause to query.\n",
    "\n",
    "SQLAlchemy is the Python SQL toolkit and Object Relational Mapper that gives application developers the full power and flexibility of SQL.\n",
    "\n",
    "It provides a full suite of well known enterprise-level persistence patterns, designed for efficient and high-performing database access, adapted into a simple and Pythonic domain language.\n",
    "\n",
    "Object Relational Mapper (ORM) is a programming technique for converting data between incompatible type systems using object-oriented programming languages. This creates, in effect, a \"virtual object database\" that can be used from within the programming language.\n",
    "\n",
    "The database structure is not always known to the programmer for various reasons, most often due to lack of documentation. In this case, it's worth knowing that we can use SQL query to explore database structure."
   ]
  },
  {
   "attachments": {},
   "cell_type": "markdown",
   "metadata": {},
   "source": [
    "## Exercise 1 - PostgreSQL\n",
    "***"
   ]
  },
  {
   "attachments": {},
   "cell_type": "markdown",
   "metadata": {},
   "source": [
    "### 1. Connection SQLAlchemy with database"
   ]
  },
  {
   "cell_type": "markdown",
   "metadata": {},
   "source": [
    "To connection a database with a program with the basic version we need to use the following script:"
   ]
  },
  {
   "cell_type": "code",
   "execution_count": 1,
   "metadata": {},
   "outputs": [
    {
     "name": "stdout",
     "output_type": "stream",
     "text": [
      "Connected successfully!\n"
     ]
    }
   ],
   "source": [
    "from sqlalchemy import create_engine\n",
    "\n",
    "config_PostgreSQL = {\n",
    "    \"database_type\": \"\",\n",
    "    \"user\": \"\",\n",
    "    \"password\": \"\",\n",
    "    \"database_url\": \"\",\n",
    "    \"port\": ,\n",
    "    \"database_name\": \"\"\n",
    "}\n",
    "\n",
    "db_string = \"{database_type}://{user}:{password}@{database_url}:{port}/{database_name}\".format(**config_PostgreSQL)\n",
    "\n",
    "db = create_engine(db_string)\n",
    "\n",
    "# test the connection\n",
    "try:\n",
    "    conn = db.connect()\n",
    "    print(\"Connected successfully!\")\n",
    "except:\n",
    "    print(\"Failed to connect\")"
   ]
  },
  {
   "cell_type": "markdown",
   "metadata": {},
   "source": [
    "where:\n",
    "- *databae_type* is the name of database driver, more details you can read [here](https://docs.sqlalchemy.org/en/13/core/engines.html#database-urls),\n",
    "- *user* - name of user in database,\n",
    "- *password* - password to database,\n",
    "- *database_url* - url address to database,\n",
    "- *port* - port to database connection,\n",
    "- *database_name* - name of database.  \n",
    "\n",
    "*[create_engine](https://docs.sqlalchemy.org/en/13/core/connections.html)* is just interface to connection database with program."
   ]
  },
  {
   "cell_type": "markdown",
   "metadata": {},
   "source": [
    "For PostgreSQL database structure are describe [here](https://www.postgresqltutorial.com/postgresql-sample-database/):"
   ]
  },
  {
   "cell_type": "markdown",
   "metadata": {},
   "source": [
    "![schema dvd rental](images/dvd-rental-sample-database-diagram.png)"
   ]
  },
  {
   "attachments": {},
   "cell_type": "markdown",
   "metadata": {},
   "source": [
    "### 2. Based on *information_schema*, present how to explore relationships between the tables"
   ]
  },
  {
   "cell_type": "markdown",
   "metadata": {},
   "source": [
    "In all database exist metadata to describe structure of data. This data are write in *information_schema*, for PostgreSql [see](https://www.postgresql.org/docs/12/information-schema.html):\n",
    "\n",
    "```sql\n",
    "SELECT column_name, data_type \n",
    "FROM information_schema.columns \n",
    "WHERE table_name = 'name' AND table_schema = 'public';\n",
    "```\n",
    "\n",
    "Present how to explore database structure between the tables:\n",
    "1. staff and country\n",
    "2. actor, language and film\n",
    "\n",
    "Of course, SQLAlchemy has the function to read this data. In this sript *table_name* is the string with table name in database:"
   ]
  },
  {
   "cell_type": "code",
   "execution_count": 2,
   "metadata": {},
   "outputs": [
    {
     "name": "stdout",
     "output_type": "stream",
     "text": [
      "Tables in database:\n",
      "['country', 'film', 'address', 'authors', 'film_category', 'alfabet', 'countryies', 'cities', 'city_data', 'customer', 'countries', 'cityies', 'actor', 'staff', 'inventory', 'res', 'payment', 'monuments', 'language', 'store', 'shape_a', 'shape_b', 'users', 'books', 'category', 'film_actor', 'city', 'rental']\n",
      "==================================================\n",
      "Table: staff\n",
      "==================================================\n",
      "Column: staff_id, Type: INTEGER, Nullable: False, Primary Key: True, Unique: None\n",
      "Column: first_name, Type: VARCHAR(45), Nullable: False, Primary Key: False, Unique: None\n",
      "Column: last_name, Type: VARCHAR(45), Nullable: False, Primary Key: False, Unique: None\n",
      "Column: address_id, Type: SMALLINT, Nullable: False, Primary Key: False, Unique: None\n",
      "Column: email, Type: VARCHAR(50), Nullable: True, Primary Key: False, Unique: None\n",
      "Column: store_id, Type: SMALLINT, Nullable: False, Primary Key: False, Unique: None\n",
      "Column: active, Type: BOOLEAN, Nullable: False, Primary Key: False, Unique: None\n",
      "Column: username, Type: VARCHAR(16), Nullable: False, Primary Key: False, Unique: None\n",
      "Column: password, Type: VARCHAR(40), Nullable: True, Primary Key: False, Unique: None\n",
      "Column: last_update, Type: TIMESTAMP, Nullable: False, Primary Key: False, Unique: None\n",
      "Column: picture, Type: BYTEA, Nullable: True, Primary Key: False, Unique: None\n",
      "Columns keys: ['staff_id', 'first_name', 'last_name', 'address_id', 'email', 'store_id', 'active', 'username', 'password', 'last_update', 'picture']\n",
      "==================================================\n",
      "\n",
      "==================================================\n",
      "Table: country\n",
      "==================================================\n",
      "Column: country_id, Type: INTEGER, Nullable: False, Primary Key: True, Unique: None\n",
      "Column: country, Type: VARCHAR(50), Nullable: False, Primary Key: False, Unique: None\n",
      "Column: last_update, Type: TIMESTAMP, Nullable: False, Primary Key: False, Unique: None\n",
      "Columns keys: ['country_id', 'country', 'last_update']\n",
      "==================================================\n",
      "\n"
     ]
    }
   ],
   "source": [
    "from sqlalchemy import MetaData, Table, inspect\n",
    "\n",
    "inspection = inspect(db)\n",
    "print(\"Tables in database:\")\n",
    "print(inspection.get_table_names())\n",
    "\n",
    "metadata = MetaData()\n",
    "\n",
    "# Define tables name\n",
    "category = Table('category', metadata, autoload_with=db)\n",
    "staff = Table('staff', metadata, autoload_with=db)\n",
    "country = Table('country', metadata, autoload_with=db)\n",
    "\n",
    "# Function to display column details\n",
    "def display_column_details(table):\n",
    "    print(\"=\"*50)\n",
    "    print(f\"Table: {table.name}\")\n",
    "    print(\"=\"*50)\n",
    "    for column in table.columns:\n",
    "        print(\"Column: {}, Type: {}, Nullable: {}, Primary Key: {}, Unique: {}\".format(\n",
    "            column.name, column.type, column.nullable, column.primary_key, column.unique))\n",
    "    print(f\"Columns keys: {table.columns.keys()}\")\n",
    "    print(\"=\"*50 + \"\\n\")\n",
    "\n",
    "# Display details of each column 'staff'\n",
    "display_column_details(staff)\n",
    "\n",
    "# Display details of each column 'country'\n",
    "display_column_details(country)"
   ]
  },
  {
   "cell_type": "markdown",
   "metadata": {},
   "source": [
    "Basic query *select* in SQLAlchemy > 2.0 has form:"
   ]
  },
  {
   "cell_type": "code",
   "execution_count": 3,
   "metadata": {},
   "outputs": [
    {
     "name": "stdout",
     "output_type": "stream",
     "text": [
      "(1, 'Action', datetime.datetime(2006, 2, 15, 9, 46, 27))\n",
      "(2, 'Animation', datetime.datetime(2006, 2, 15, 9, 46, 27))\n",
      "(3, 'Children', datetime.datetime(2006, 2, 15, 9, 46, 27))\n",
      "(4, 'Classics', datetime.datetime(2006, 2, 15, 9, 46, 27))\n",
      "(5, 'Comedy', datetime.datetime(2006, 2, 15, 9, 46, 27))\n",
      "(6, 'Documentary', datetime.datetime(2006, 2, 15, 9, 46, 27))\n",
      "(7, 'Drama', datetime.datetime(2006, 2, 15, 9, 46, 27))\n",
      "(8, 'Family', datetime.datetime(2006, 2, 15, 9, 46, 27))\n",
      "(9, 'Foreign', datetime.datetime(2006, 2, 15, 9, 46, 27))\n",
      "(10, 'Games', datetime.datetime(2006, 2, 15, 9, 46, 27))\n",
      "(11, 'Horror', datetime.datetime(2006, 2, 15, 9, 46, 27))\n",
      "(12, 'Music', datetime.datetime(2006, 2, 15, 9, 46, 27))\n",
      "(13, 'New', datetime.datetime(2006, 2, 15, 9, 46, 27))\n",
      "(14, 'Sci-Fi', datetime.datetime(2006, 2, 15, 9, 46, 27))\n",
      "(15, 'Sports', datetime.datetime(2006, 2, 15, 9, 46, 27))\n",
      "(16, 'Travel', datetime.datetime(2006, 2, 15, 9, 46, 27))\n"
     ]
    }
   ],
   "source": [
    "from sqlalchemy import text\n",
    "\n",
    "# Define the statement\n",
    "stmt = 'SELECT * FROM category'\n",
    "con = db.connect()\n",
    "\n",
    "# Execute the statement and fetch the results\n",
    "results = con.execute(text(stmt)).fetchall()\n",
    "# Print results from query\n",
    "for row in results:\n",
    "    print(row)"
   ]
  },
  {
   "cell_type": "markdown",
   "metadata": {},
   "source": [
    "Function *execute* make a request to a database and *fetchall* method get our results from an executed query. But in this case we don't use ORM propertis. More correctly is use structur:"
   ]
  },
  {
   "cell_type": "code",
   "execution_count": 4,
   "metadata": {},
   "outputs": [
    {
     "name": "stdout",
     "output_type": "stream",
     "text": [
      "SELECT staff.staff_id, staff.first_name, staff.last_name, country.country_id, country.country \n",
      "FROM staff JOIN address ON staff.address_id = address.address_id JOIN city ON address.city_id = city.city_id JOIN country ON city.country_id = country.country_id\n",
      "Staff and Country:\n",
      "(1, 'Mike', 'Hillyer', 20, 'Canada')\n",
      "(2, 'Jon', 'Stephens', 8, 'Australia')\n"
     ]
    }
   ],
   "source": [
    "from sqlalchemy import select\n",
    "\n",
    "staff = Table('staff', metadata, autoload_with=db)\n",
    "address = Table('address', metadata, autoload_with=db)\n",
    "city = Table('city', metadata, autoload_with=db)\n",
    "country = Table('country', metadata, autoload_with=db)\n",
    "\n",
    "# Create a select query with join\n",
    "stmt2 = select(\n",
    "    *[\n",
    "        staff.c.staff_id, staff.c.first_name, staff.c.last_name,\n",
    "        country.c.country_id, country.c.country\n",
    "    ]\n",
    ").select_from(\n",
    "    staff.join(address, staff.c.address_id == address.c.address_id)\n",
    "         .join(city, address.c.city_id == city.c.city_id)\n",
    "         .join(country, city.c.country_id == country.c.country_id)\n",
    "    )\n",
    "# Explore relationships between tables (Staff and Country)\n",
    "print(stmt2)\n",
    "\n",
    "# Execute the statement and fetch the results\n",
    "results = con.execute(stmt2).fetchmany(size=10)\n",
    "# Print the SQL query string\n",
    "print(\"Staff and Country:\")\n",
    "for row in results:\n",
    "    print(row)"
   ]
  },
  {
   "cell_type": "code",
   "execution_count": 5,
   "metadata": {},
   "outputs": [
    {
     "name": "stdout",
     "output_type": "stream",
     "text": [
      "SELECT film.film_id, film.title, film.description, film.release_year, language.language_id, language.name, actor.actor_id, actor.first_name, actor.last_name \n",
      "FROM film JOIN language ON film.language_id = language.language_id JOIN film_actor ON film.film_id = film_actor.film_id JOIN actor ON film_actor.actor_id = actor.actor_id\n",
      "Actor, language and film:\n",
      "(1, 'Academy Dinosaur', 'A Epic Drama of a Feminist And a Mad Scientist who must Battle a Teacher in The Canadian Rockies', 2006, 1, 'English             ', 1, 'Penelope', 'Guiness')\n",
      "(23, 'Anaconda Confessions', 'A Lacklusture Display of a Dentist And a Dentist who must Fight a Girl in Australia', 2006, 1, 'English             ', 1, 'Penelope', 'Guiness')\n",
      "(25, 'Angels Life', 'A Thoughtful Display of a Woman And a Astronaut who must Battle a Robot in Berlin', 2006, 1, 'English             ', 1, 'Penelope', 'Guiness')\n",
      "(106, 'Bulworth Commandments', 'A Amazing Display of a Mad Cow And a Pioneer who must Redeem a Sumo Wrestler in The Outback', 2006, 1, 'English             ', 1, 'Penelope', 'Guiness')\n",
      "(140, 'Cheaper Clyde', 'A Emotional Character Study of a Pioneer And a Girl who must Discover a Dog in Ancient Japan', 2006, 1, 'English             ', 1, 'Penelope', 'Guiness')\n",
      "(166, 'Color Philadelphia', 'A Thoughtful Panorama of a Car And a Crocodile who must Sink a Monkey in The Sahara Desert', 2006, 1, 'English             ', 1, 'Penelope', 'Guiness')\n",
      "(277, 'Elephant Trojan', 'A Beautiful Panorama of a Lumberjack And a Forensic Psychologist who must Overcome a Frisbee in A Baloon', 2006, 1, 'English             ', 1, 'Penelope', 'Guiness')\n",
      "(361, 'Gleaming Jawbreaker', 'A Amazing Display of a Composer And a Forensic Psychologist who must Discover a Car in The Canadian Rockies', 2006, 1, 'English             ', 1, 'Penelope', 'Guiness')\n",
      "(438, 'Human Graffiti', 'A Beautiful Reflection of a Womanizer And a Sumo Wrestler who must Chase a Database Administrator in The Gulf of Mexico', 2006, 1, 'English             ', 1, 'Penelope', 'Guiness')\n",
      "(499, 'King Evolution', 'A Action-Packed Tale of a Boy And a Lumberjack who must Chase a Madman in A Baloon', 2006, 1, 'English             ', 1, 'Penelope', 'Guiness')\n"
     ]
    }
   ],
   "source": [
    "from sqlalchemy import select\n",
    "\n",
    "film = Table('film', metadata, autoload_with=db)\n",
    "language = Table('language', metadata, autoload_with=db)\n",
    "actor = Table('actor', metadata, autoload_with=db)\n",
    "film_actor = Table('film_actor', metadata, autoload_with=db)\n",
    "\n",
    "stmt3 = select(\n",
    "    *[\n",
    "        film.c.film_id, film.c.title, film.c.description, film.c.release_year,\n",
    "        language.c.language_id, language.c.name,\n",
    "        actor.c.actor_id, actor.c.first_name, actor.c.last_name\n",
    "    ]\n",
    ").select_from(\n",
    "    film.join(language, film.c.language_id == language.c.language_id)\n",
    "        .join(film_actor, film.c.film_id == film_actor.c.film_id)\n",
    "        .join(actor, film_actor.c.actor_id == actor.c.actor_id)\n",
    ")\n",
    "print(stmt3)\n",
    "\n",
    "# Explore relationships between tables (Staff and Country)\n",
    "con = db.connect()\n",
    "# Execute the statement and fetch the results\n",
    "results = con.execute(stmt3).fetchmany(size=10)\n",
    "# Print the SQL query string\n",
    "print(\"Actor, language and film:\")\n",
    "for row in results:\n",
    "    print(row)"
   ]
  },
  {
   "attachments": {},
   "cell_type": "markdown",
   "metadata": {},
   "source": [
    "### 3. Quantity categories of films are in the rental"
   ]
  },
  {
   "cell_type": "code",
   "execution_count": 6,
   "metadata": {},
   "outputs": [
    {
     "name": "stdout",
     "output_type": "stream",
     "text": [
      "SELECT category.category_id, category.name, category.last_update \n",
      "FROM category\n",
      "\n",
      "Number of categories in the rental: 16\n"
     ]
    }
   ],
   "source": [
    "# Define other columns for the category table if necessary\n",
    "stmt4 = select(category)\n",
    "print(stmt4)\n",
    "\n",
    "# Execute the statement and fetch the results\n",
    "results = con.execute(stmt4).fetchall()\n",
    "# Print the SQL query string\n",
    "print(\"\\nNumber of categories in the rental:\", len(results))"
   ]
  },
  {
   "attachments": {},
   "cell_type": "markdown",
   "metadata": {},
   "source": [
    "### 4. Display list of categories with limit 2"
   ]
  },
  {
   "cell_type": "code",
   "execution_count": 7,
   "metadata": {},
   "outputs": [
    {
     "name": "stdout",
     "output_type": "stream",
     "text": [
      "SELECT category.name \n",
      "FROM category\n",
      " LIMIT :param_1\n",
      "\n",
      "Categories with limit 2:\n",
      "('Action',)\n",
      "('Animation',)\n"
     ]
    }
   ],
   "source": [
    "stmt5 = select(category.columns.name).limit(2)\n",
    "print(stmt5)\n",
    "\n",
    "results = con.execute(stmt5).fetchall()\n",
    "print(\"\\nCategories with limit 2:\")\n",
    "for row in results:\n",
    "    print(row)"
   ]
  },
  {
   "attachments": {},
   "cell_type": "markdown",
   "metadata": {},
   "source": [
    "### 5. Find the oldest and youngest film in rental"
   ]
  },
  {
   "cell_type": "code",
   "execution_count": 8,
   "metadata": {},
   "outputs": [
    {
     "name": "stdout",
     "output_type": "stream",
     "text": [
      "SELECT film.title, film.release_year \n",
      "FROM film ORDER BY film.release_year ASC\n",
      "SELECT film.title, film.release_year \n",
      "FROM film ORDER BY film.release_year DESC\n",
      "\n",
      "Oldest film in rental: ('Chamber Italian', 2006)\n",
      "Youngest film in rental: ('Chamber Italian', 2006)\n"
     ]
    }
   ],
   "source": [
    "film = Table('film', metadata, autoload_with=db)\n",
    "\n",
    "stmt6 = select(\n",
    "    *[\n",
    "        film.columns.title, film.columns.release_year\n",
    "    ]\n",
    ").order_by(film.columns.release_year.asc())\n",
    "print(stmt6)\n",
    "\n",
    "oldest_film = con.execute(stmt6).fetchone()\n",
    "\n",
    "\n",
    "stmt7 = select(\n",
    "    *[\n",
    "        film.columns.title, film.columns.release_year\n",
    "    ]\n",
    ").order_by(film.columns.release_year.desc())\n",
    "print(stmt7)\n",
    "\n",
    "youngest_film = con.execute(stmt7).fetchone()\n",
    "\n",
    "print(\"\\nOldest film in rental:\", oldest_film)\n",
    "print(\"Youngest film in rental:\", youngest_film)"
   ]
  },
  {
   "attachments": {},
   "cell_type": "markdown",
   "metadata": {},
   "source": [
    "### 6. Find all actor with a name: Olympia, Julia, Ellen. How can you check correction of your query"
   ]
  },
  {
   "cell_type": "code",
   "execution_count": 9,
   "metadata": {},
   "outputs": [
    {
     "name": "stdout",
     "output_type": "stream",
     "text": [
      "SELECT actor.actor_id, actor.first_name, actor.last_name, actor.last_update \n",
      "FROM actor \n",
      "WHERE actor.first_name IN (__[POSTCOMPILE_first_name_1])\n",
      "\n",
      "Actors with a name:\n",
      "Julia Mcqueen\n",
      "Julia Barrymore\n",
      "Ellen Presley\n",
      "Olympia Pfeiffer\n",
      "Julia Zellweger\n",
      "Julia Fawcett\n"
     ]
    }
   ],
   "source": [
    "actor = Table('actor', metadata, autoload_with=db)\n",
    "\n",
    "# define actors we want to find\n",
    "actors_to_find = ['Olympia', 'Julia', 'Ellen']\n",
    "\n",
    "# create select statement to find actors\n",
    "stmt8 = select(\n",
    "    *[\n",
    "        actor\n",
    "    ]\n",
    ").where(actor.columns.first_name.in_(actors_to_find))\n",
    "print(stmt8)\n",
    "\n",
    "# execute statement and fetch results\n",
    "results = con.execute(stmt8).fetchall()\n",
    "# print results\n",
    "print(\"\\nActors with a name:\")\n",
    "for result in results:\n",
    "    print(result.first_name, result.last_name)"
   ]
  },
  {
   "attachments": {},
   "cell_type": "markdown",
   "metadata": {},
   "source": [
    "## Exercise 2 - MySQL\n",
    "***"
   ]
  },
  {
   "attachments": {},
   "cell_type": "markdown",
   "metadata": {},
   "source": [
    "### 1. Connection SQLAlchemy with database (MySQL)"
   ]
  },
  {
   "cell_type": "markdown",
   "metadata": {},
   "source": [
    "To connection a database with a program with the basic version we need to use the following script:"
   ]
  },
  {
   "cell_type": "code",
   "execution_count": 10,
   "metadata": {},
   "outputs": [
    {
     "name": "stdout",
     "output_type": "stream",
     "text": [
      "Connected successfully!\n"
     ]
    }
   ],
   "source": [
    "from sqlalchemy import create_engine\n",
    "\n",
    "config_MySQL = {\n",
    "    \"database_type\": \"\",\n",
    "    \"user\": \"\",\n",
    "    \"password\": \"\",\n",
    "    \"database_url\": \"\",\n",
    "    \"port\": ,\n",
    "    \"database_name\": \"\"\n",
    "}\n",
    "\n",
    "db_string = \"{database_type}://{user}:{password}@{database_url}:{port}/{database_name}\".format(**config_MySQL)\n",
    "\n",
    "db = create_engine(db_string)\n",
    "\n",
    "# test the connection\n",
    "try:\n",
    "    conn = db.connect()\n",
    "    print(\"Connected successfully!\")\n",
    "except:\n",
    "    print(\"Failed to connect\")"
   ]
  },
  {
   "cell_type": "markdown",
   "metadata": {},
   "source": [
    "where:\n",
    "- *databae_type* is the name of database driver, more details you can read [here](https://docs.sqlalchemy.org/en/13/core/engines.html#database-urls),\n",
    "- *user* - name of user in database,\n",
    "- *password* - password to database,\n",
    "- *database_url* - url address to database,\n",
    "- *port* - port to database connection,\n",
    "- *database_name* - name of database.  \n",
    "\n",
    "*[create_engine](https://docs.sqlalchemy.org/en/13/core/connections.html)* is just interface to connection database with program."
   ]
  },
  {
   "cell_type": "markdown",
   "metadata": {},
   "source": [
    "For MySQL database structure are describe [here](https://www.mysqltutorial.org/mysql-sample-database.aspx):"
   ]
  },
  {
   "cell_type": "markdown",
   "metadata": {},
   "source": [
    "![mysql schema database](images/mysql-sample-database.png)"
   ]
  },
  {
   "attachments": {},
   "cell_type": "markdown",
   "metadata": {},
   "source": [
    "### 2. Based on *information_schema*, present how to explore relationships between the tables"
   ]
  },
  {
   "cell_type": "markdown",
   "metadata": {},
   "source": [
    "In all database exist metadata to describe structure of data. This data are write in *information_schema*, for MySQL [see](https://dev.mysql.com/doc/refman/8.0/en/getting-information.html):\n",
    "\n",
    "```sql\n",
    "SELECT table_name \n",
    "FROM information_schema.tables \n",
    "WHERE table_schema = 'bauer1'\n",
    "```\n",
    "\n",
    "Present how to explore database structure between the tables:\n",
    "1. customers and employees\n",
    "2. customers, payments and orders\n",
    "\n",
    "Of course, SQLAlchemy has the function to read this data. In this sript *table_name* is the string with table name in database:"
   ]
  },
  {
   "cell_type": "code",
   "execution_count": 11,
   "metadata": {},
   "outputs": [
    {
     "name": "stdout",
     "output_type": "stream",
     "text": [
      "Tables in database:\n",
      "['bookings', 'cities', 'countries', 'customers', 'employees', 'hosts', 'offices', 'orderdetails', 'orders', 'payments', 'places', 'posts', 'productlines', 'products', 'reviews', 'users']\n",
      "==================================================\n",
      "Table: customers\n",
      "==================================================\n",
      "Column: customerNumber, Type: INTEGER, Nullable: False, Primary Key: True, Unique: None\n",
      "Column: customerName, Type: VARCHAR(50), Nullable: False, Primary Key: False, Unique: None\n",
      "Column: contactLastName, Type: VARCHAR(50), Nullable: False, Primary Key: False, Unique: None\n",
      "Column: contactFirstName, Type: VARCHAR(50), Nullable: False, Primary Key: False, Unique: None\n",
      "Column: phone, Type: VARCHAR(50), Nullable: False, Primary Key: False, Unique: None\n",
      "Column: addressLine1, Type: VARCHAR(50), Nullable: False, Primary Key: False, Unique: None\n",
      "Column: addressLine2, Type: VARCHAR(50), Nullable: True, Primary Key: False, Unique: None\n",
      "Column: city, Type: VARCHAR(50), Nullable: False, Primary Key: False, Unique: None\n",
      "Column: state, Type: VARCHAR(50), Nullable: True, Primary Key: False, Unique: None\n",
      "Column: postalCode, Type: VARCHAR(15), Nullable: True, Primary Key: False, Unique: None\n",
      "Column: country, Type: VARCHAR(50), Nullable: False, Primary Key: False, Unique: None\n",
      "Column: salesRepEmployeeNumber, Type: INTEGER, Nullable: True, Primary Key: False, Unique: None\n",
      "Column: creditLimit, Type: DECIMAL(10, 2), Nullable: True, Primary Key: False, Unique: None\n",
      "Columns keys: ['customerNumber', 'customerName', 'contactLastName', 'contactFirstName', 'phone', 'addressLine1', 'addressLine2', 'city', 'state', 'postalCode', 'country', 'salesRepEmployeeNumber', 'creditLimit']\n",
      "==================================================\n",
      "\n",
      "==================================================\n",
      "Table: employees\n",
      "==================================================\n",
      "Column: employeeNumber, Type: INTEGER, Nullable: False, Primary Key: True, Unique: None\n",
      "Column: lastName, Type: VARCHAR(50), Nullable: False, Primary Key: False, Unique: None\n",
      "Column: firstName, Type: VARCHAR(50), Nullable: False, Primary Key: False, Unique: None\n",
      "Column: extension, Type: VARCHAR(10), Nullable: False, Primary Key: False, Unique: None\n",
      "Column: email, Type: VARCHAR(100), Nullable: False, Primary Key: False, Unique: None\n",
      "Column: officeCode, Type: VARCHAR(10), Nullable: False, Primary Key: False, Unique: None\n",
      "Column: reportsTo, Type: INTEGER, Nullable: True, Primary Key: False, Unique: None\n",
      "Column: jobTitle, Type: VARCHAR(50), Nullable: False, Primary Key: False, Unique: None\n",
      "Columns keys: ['employeeNumber', 'lastName', 'firstName', 'extension', 'email', 'officeCode', 'reportsTo', 'jobTitle']\n",
      "==================================================\n",
      "\n",
      "==================================================\n",
      "Table: payments\n",
      "==================================================\n",
      "Column: customerNumber, Type: INTEGER, Nullable: False, Primary Key: True, Unique: None\n",
      "Column: checkNumber, Type: VARCHAR(50), Nullable: False, Primary Key: True, Unique: None\n",
      "Column: paymentDate, Type: DATE, Nullable: False, Primary Key: False, Unique: None\n",
      "Column: amount, Type: DECIMAL(10, 2), Nullable: False, Primary Key: False, Unique: None\n",
      "Columns keys: ['customerNumber', 'checkNumber', 'paymentDate', 'amount']\n",
      "==================================================\n",
      "\n",
      "==================================================\n",
      "Table: orders\n",
      "==================================================\n",
      "Column: orderNumber, Type: INTEGER, Nullable: False, Primary Key: True, Unique: None\n",
      "Column: orderDate, Type: DATE, Nullable: False, Primary Key: False, Unique: None\n",
      "Column: requiredDate, Type: DATE, Nullable: False, Primary Key: False, Unique: None\n",
      "Column: shippedDate, Type: DATE, Nullable: True, Primary Key: False, Unique: None\n",
      "Column: status, Type: VARCHAR(15), Nullable: False, Primary Key: False, Unique: None\n",
      "Column: comments, Type: TEXT, Nullable: True, Primary Key: False, Unique: None\n",
      "Column: customerNumber, Type: INTEGER, Nullable: False, Primary Key: False, Unique: None\n",
      "Columns keys: ['orderNumber', 'orderDate', 'requiredDate', 'shippedDate', 'status', 'comments', 'customerNumber']\n",
      "==================================================\n",
      "\n"
     ]
    }
   ],
   "source": [
    "from sqlalchemy import MetaData, Table, inspect\n",
    "\n",
    "inspection = inspect(db)\n",
    "print(\"Tables in database:\")\n",
    "print(inspection.get_table_names())\n",
    "\n",
    "metadata = MetaData()\n",
    "\n",
    "# Define tables name\n",
    "customers = Table('customers', metadata, autoload_with=db)\n",
    "employees = Table('employees', metadata, autoload_with=db)\n",
    "payments = Table('payments', metadata, autoload_with=db)\n",
    "orders = Table('orders', metadata, autoload_with=db)\n",
    "\n",
    "# Function to display column details\n",
    "def display_column_details(table):\n",
    "    print(\"=\"*50)\n",
    "    print(f\"Table: {table.name}\")\n",
    "    print(\"=\"*50)\n",
    "    for column in table.columns:\n",
    "        print(\"Column: {}, Type: {}, Nullable: {}, Primary Key: {}, Unique: {}\".format(\n",
    "            column.name, column.type, column.nullable, column.primary_key, column.unique))\n",
    "    print(f\"Columns keys: {table.columns.keys()}\")\n",
    "    print(\"=\"*50 + \"\\n\")\n",
    "\n",
    "display_column_details(customers)\n",
    "display_column_details(employees)\n",
    "display_column_details(payments)\n",
    "display_column_details(orders)"
   ]
  },
  {
   "cell_type": "code",
   "execution_count": 12,
   "metadata": {},
   "outputs": [
    {
     "name": "stdout",
     "output_type": "stream",
     "text": [
      "SELECT customers.\"customerNumber\", customers.\"customerName\", customers.\"contactLastName\", customers.\"contactFirstName\", customers.phone, customers.\"addressLine1\", customers.\"addressLine2\", customers.city, customers.state, customers.\"postalCode\", customers.country, customers.\"salesRepEmployeeNumber\", customers.\"creditLimit\", employees.\"employeeNumber\", employees.\"lastName\", employees.\"firstName\", employees.extension, employees.email, employees.\"officeCode\", employees.\"reportsTo\", employees.\"jobTitle\" \n",
      "FROM customers, employees \n",
      "WHERE customers.\"salesRepEmployeeNumber\" = employees.\"employeeNumber\"\n",
      "Customers and employees:\n",
      "(124, 'Mini Gifts Distributors Ltd.', 'Nelson', 'Susan', '4155551450', '5677 Strong St.', None, 'San Rafael', 'CA', '97562', 'USA', 1165, Decimal('210500.00'), 1165, 'Jennings', 'Leslie', 'x3291', 'ljennings@classicmodelcars.com', '1', 1143, 'Sales Rep')\n",
      "(129, 'Mini Wheels Co.', 'Murphy', 'Julie', '6505555787', '5557 North Pendale Street', None, 'San Francisco', 'CA', '94217', 'USA', 1165, Decimal('64600.00'), 1165, 'Jennings', 'Leslie', 'x3291', 'ljennings@classicmodelcars.com', '1', 1143, 'Sales Rep')\n",
      "(161, 'Technics Stores Inc.', 'Hashimoto', 'Juri', '6505556809', '9408 Furth Circle', None, 'Burlingame', 'CA', '94217', 'USA', 1165, Decimal('84600.00'), 1165, 'Jennings', 'Leslie', 'x3291', 'ljennings@classicmodelcars.com', '1', 1143, 'Sales Rep')\n",
      "(321, 'Corporate Gift Ideas Co.', 'Brown', 'Julie', '6505551386', '7734 Strong St.', None, 'San Francisco', 'CA', '94217', 'USA', 1165, Decimal('105000.00'), 1165, 'Jennings', 'Leslie', 'x3291', 'ljennings@classicmodelcars.com', '1', 1143, 'Sales Rep')\n",
      "(450, 'The Sharp Gifts Warehouse', 'Frick', 'Sue', '4085553659', '3086 Ingle Ln.', None, 'San Jose', 'CA', '94217', 'USA', 1165, Decimal('77600.00'), 1165, 'Jennings', 'Leslie', 'x3291', 'ljennings@classicmodelcars.com', '1', 1143, 'Sales Rep')\n",
      "(487, 'Signal Collectibles Ltd.', 'Taylor', 'Sue', '4155554312', '2793 Furth Circle', None, 'Brisbane', 'CA', '94217', 'USA', 1165, Decimal('60300.00'), 1165, 'Jennings', 'Leslie', 'x3291', 'ljennings@classicmodelcars.com', '1', 1143, 'Sales Rep')\n",
      "(112, 'Signal Gift Stores', 'King', 'Jean', '7025551838', '8489 Strong St.', None, 'Las Vegas', 'NV', '83030', 'USA', 1166, Decimal('71800.00'), 1166, 'Thompson', 'Leslie', 'x4065', 'lthompson@classicmodelcars.com', '1', 1143, 'Sales Rep')\n",
      "(205, 'Toys4GrownUps.com', 'Young', 'Julie', '6265557265', '78934 Hillside Dr.', None, 'Pasadena', 'CA', '90003', 'USA', 1166, Decimal('90700.00'), 1166, 'Thompson', 'Leslie', 'x4065', 'lthompson@classicmodelcars.com', '1', 1143, 'Sales Rep')\n",
      "(219, 'Boards & Toys Co.', 'Young', 'Mary', '3105552373', '4097 Douglas Av.', None, 'Glendale', 'CA', '92561', 'USA', 1166, Decimal('11000.00'), 1166, 'Thompson', 'Leslie', 'x4065', 'lthompson@classicmodelcars.com', '1', 1143, 'Sales Rep')\n",
      "(239, 'Collectable Mini Designs Co.', 'Thompson', 'Valarie', '7605558146', '361 Furth Circle', None, 'San Diego', 'CA', '91217', 'USA', 1166, Decimal('105000.00'), 1166, 'Thompson', 'Leslie', 'x4065', 'lthompson@classicmodelcars.com', '1', 1143, 'Sales Rep')\n",
      "(347, \"Men 'R' US Retailers, Ltd.\", 'Chandler', 'Brian', '2155554369', '6047 Douglas Av.', None, 'Los Angeles', 'CA', '91003', 'USA', 1166, Decimal('57700.00'), 1166, 'Thompson', 'Leslie', 'x4065', 'lthompson@classicmodelcars.com', '1', 1143, 'Sales Rep')\n",
      "(475, 'West Coast Collectables Co.', 'Thompson', 'Steve', '3105553722', '3675 Furth Circle', None, 'Burbank', 'CA', '94019', 'USA', 1166, Decimal('55400.00'), 1166, 'Thompson', 'Leslie', 'x4065', 'lthompson@classicmodelcars.com', '1', 1143, 'Sales Rep')\n",
      "(173, 'Cambridge Collectables Co.', 'Tseng', 'Jerry', '6175555555', '4658 Baden Av.', None, 'Cambridge', 'MA', '51247', 'USA', 1188, Decimal('43400.00'), 1188, 'Firrelli', 'Julie', 'x2173', 'jfirrelli@classicmodelcars.com', '2', 1143, 'Sales Rep')\n",
      "(204, 'Online Mini Collectables', 'Barajas', 'Miguel', '6175557555', '7635 Spinnaker Dr.', None, 'Brickhaven', 'MA', '58339', 'USA', 1188, Decimal('68700.00'), 1188, 'Firrelli', 'Julie', 'x2173', 'jfirrelli@classicmodelcars.com', '2', 1143, 'Sales Rep')\n",
      "(320, 'Mini Creations Ltd.', 'Huang', 'Wing', '5085559555', '4575 Hillside Dr.', None, 'New Bedford', 'MA', '50553', 'USA', 1188, Decimal('94500.00'), 1188, 'Firrelli', 'Julie', 'x2173', 'jfirrelli@classicmodelcars.com', '2', 1143, 'Sales Rep')\n",
      "(339, 'Classic Gift Ideas, Inc', 'Cervantes', 'Francisca', '2155554695', '782 First Street', None, 'Philadelphia', 'PA', '71270', 'USA', 1188, Decimal('81100.00'), 1188, 'Firrelli', 'Julie', 'x2173', 'jfirrelli@classicmodelcars.com', '2', 1143, 'Sales Rep')\n",
      "(379, 'Collectables For Less Inc.', 'Nelson', 'Allen', '6175558555', '7825 Douglas Av.', None, 'Brickhaven', 'MA', '58339', 'USA', 1188, Decimal('70700.00'), 1188, 'Firrelli', 'Julie', 'x2173', 'jfirrelli@classicmodelcars.com', '2', 1143, 'Sales Rep')\n",
      "(495, 'Diecast Collectables', 'Franco', 'Valarie', '6175552555', '6251 Ingle Ln.', None, 'Boston', 'MA', '51003', 'USA', 1188, Decimal('85100.00'), 1188, 'Firrelli', 'Julie', 'x2173', 'jfirrelli@classicmodelcars.com', '2', 1143, 'Sales Rep')\n",
      "(157, 'Diecast Classics Inc.', 'Leong', 'Kelvin', '2155551555', '7586 Pompton St.', None, 'Allentown', 'PA', '70267', 'USA', 1216, Decimal('100600.00'), 1216, 'Patterson', 'Steve', 'x4334', 'spatterson@classicmodelcars.com', '2', 1143, 'Sales Rep')\n",
      "(198, 'Auto-Moto Classics Inc.', 'Taylor', 'Leslie', '6175558428', '16780 Pompton St.', None, 'Brickhaven', 'MA', '58339', 'USA', 1216, Decimal('23000.00'), 1216, 'Patterson', 'Steve', 'x4334', 'spatterson@classicmodelcars.com', '2', 1143, 'Sales Rep')\n",
      "(286, \"Marta's Replicas Co.\", 'Hernandez', 'Marta', '6175558555', '39323 Spinnaker Dr.', None, 'Cambridge', 'MA', '51247', 'USA', 1216, Decimal('123700.00'), 1216, 'Patterson', 'Steve', 'x4334', 'spatterson@classicmodelcars.com', '2', 1143, 'Sales Rep')\n",
      "(362, 'Gifts4AllAges.com', 'Yoshido', 'Juri', '6175559555', '8616 Spinnaker Dr.', None, 'Boston', 'MA', '51003', 'USA', 1216, Decimal('41900.00'), 1216, 'Patterson', 'Steve', 'x4334', 'spatterson@classicmodelcars.com', '2', 1143, 'Sales Rep')\n",
      "(363, 'Online Diecast Creations Co.', 'Young', 'Dorothy', '6035558647', '2304 Long Airport Avenue', None, 'Nashua', 'NH', '62005', 'USA', 1216, Decimal('114200.00'), 1216, 'Patterson', 'Steve', 'x4334', 'spatterson@classicmodelcars.com', '2', 1143, 'Sales Rep')\n",
      "(462, 'FunGiftIdeas.com', 'Benitez', 'Violeta', '5085552555', '1785 First Street', None, 'New Bedford', 'MA', '50553', 'USA', 1216, Decimal('85800.00'), 1216, 'Patterson', 'Steve', 'x4334', 'spatterson@classicmodelcars.com', '2', 1143, 'Sales Rep')\n",
      "(151, 'Muscle Machine Inc', 'Young', 'Jeff', '2125557413', '4092 Furth Circle', 'Suite 400', 'NYC', 'NY', '10022', 'USA', 1286, Decimal('138500.00'), 1286, 'Tseng', 'Foon Yue', 'x2248', 'ftseng@classicmodelcars.com', '3', 1143, 'Sales Rep')\n",
      "(168, 'American Souvenirs Inc', 'Franco', 'Keith', '2035557845', '149 Spinnaker Dr.', 'Suite 101', 'New Haven', 'CT', '97823', 'USA', 1286, Decimal('0.00'), 1286, 'Tseng', 'Foon Yue', 'x2248', 'ftseng@classicmodelcars.com', '3', 1143, 'Sales Rep')\n",
      "(181, 'Vitachrome Inc.', 'Frick', 'Michael', '2125551500', '2678 Kingston Rd.', 'Suite 101', 'NYC', 'NY', '10022', 'USA', 1286, Decimal('76400.00'), 1286, 'Tseng', 'Foon Yue', 'x2248', 'ftseng@classicmodelcars.com', '3', 1143, 'Sales Rep')\n",
      "(233, 'Québec Home Shopping Network', 'Fresnière', 'Jean ', '(514) 555-8054', '43 rue St. Laurent', None, 'Montréal', 'Québec', 'H1J 1C3', 'Canada', 1286, Decimal('48700.00'), 1286, 'Tseng', 'Foon Yue', 'x2248', 'ftseng@classicmodelcars.com', '3', 1143, 'Sales Rep')\n",
      "(424, 'Classic Legends Inc.', 'Hernandez', 'Maria', '2125558493', '5905 Pompton St.', 'Suite 750', 'NYC', 'NY', '10022', 'USA', 1286, Decimal('67500.00'), 1286, 'Tseng', 'Foon Yue', 'x2248', 'ftseng@classicmodelcars.com', '3', 1143, 'Sales Rep')\n",
      "(455, 'Super Scale Inc.', 'Murphy', 'Leslie', '2035559545', '567 North Pendale Street', None, 'New Haven', 'CT', '97823', 'USA', 1286, Decimal('95400.00'), 1286, 'Tseng', 'Foon Yue', 'x2248', 'ftseng@classicmodelcars.com', '3', 1143, 'Sales Rep')\n",
      "(456, 'Microscale Inc.', 'Choi', 'Yu', '2125551957', '5290 North Pendale Street', 'Suite 200', 'NYC', 'NY', '10022', 'USA', 1286, Decimal('39800.00'), 1286, 'Tseng', 'Foon Yue', 'x2248', 'ftseng@classicmodelcars.com', '3', 1143, 'Sales Rep')\n",
      "(131, 'Land of Toys Inc.', 'Lee', 'Kwai', '2125557818', '897 Long Airport Avenue', None, 'NYC', 'NY', '10022', 'USA', 1323, Decimal('114900.00'), 1323, 'Vanauf', 'George', 'x4102', 'gvanauf@classicmodelcars.com', '3', 1143, 'Sales Rep')\n",
      "(175, 'Gift Depot Inc.', 'King', 'Julie', '2035552570', '25593 South Bay Ln.', None, 'Bridgewater', 'CT', '97562', 'USA', 1323, Decimal('84300.00'), 1323, 'Vanauf', 'George', 'x4102', 'gvanauf@classicmodelcars.com', '3', 1143, 'Sales Rep')\n",
      "(202, 'Canadian Gift Exchange Network', 'Tamuri', 'Yoshi ', '(604) 555-3392', '1900 Oak St.', None, 'Vancouver', 'BC', 'V3F 2K1', 'Canada', 1323, Decimal('90300.00'), 1323, 'Vanauf', 'George', 'x4102', 'gvanauf@classicmodelcars.com', '3', 1143, 'Sales Rep')\n",
      "(260, 'Royal Canadian Collectables, Ltd.', 'Lincoln', 'Elizabeth ', '(604) 555-4555', '23 Tsawassen Blvd.', None, 'Tsawassen', 'BC', 'T2F 8M4', 'Canada', 1323, Decimal('89600.00'), 1323, 'Vanauf', 'George', 'x4102', 'gvanauf@classicmodelcars.com', '3', 1143, 'Sales Rep')\n",
      "(319, 'Mini Classics', 'Frick', 'Steve', '9145554562', '3758 North Pendale Street', None, 'White Plains', 'NY', '24067', 'USA', 1323, Decimal('102700.00'), 1323, 'Vanauf', 'George', 'x4102', 'gvanauf@classicmodelcars.com', '3', 1143, 'Sales Rep')\n",
      "(328, 'Tekni Collectables Inc.', 'Brown', 'William', '2015559350', '7476 Moss Rd.', None, 'Newark', 'NJ', '94019', 'USA', 1323, Decimal('43000.00'), 1323, 'Vanauf', 'George', 'x4102', 'gvanauf@classicmodelcars.com', '3', 1143, 'Sales Rep')\n",
      "(447, 'Gift Ideas Corp.', 'Lewis', 'Dan', '2035554407', '2440 Pompton St.', None, 'Glendale', 'CT', '97561', 'USA', 1323, Decimal('49700.00'), 1323, 'Vanauf', 'George', 'x4102', 'gvanauf@classicmodelcars.com', '3', 1143, 'Sales Rep')\n",
      "(486, 'Motor Mint Distributors Inc.', 'Salazar', 'Rosa', '2155559857', '11328 Douglas Av.', None, 'Philadelphia', 'PA', '71270', 'USA', 1323, Decimal('72600.00'), 1323, 'Vanauf', 'George', 'x4102', 'gvanauf@classicmodelcars.com', '3', 1143, 'Sales Rep')\n",
      "(146, 'Saveley & Henriot, Co.', 'Saveley', 'Mary ', '78.32.5555', '2, rue du Commerce', None, 'Lyon', None, '69004', 'France', 1337, Decimal('123900.00'), 1337, 'Bondur', 'Loui', 'x6493', 'lbondur@classicmodelcars.com', '4', 1102, 'Sales Rep')\n",
      "(172, \"La Corne D'abondance, Co.\", 'Bertrand', 'Marie', '(1) 42.34.2555', '265, boulevard Charonne', None, 'Paris', None, '75012', 'France', 1337, Decimal('84300.00'), 1337, 'Bondur', 'Loui', 'x6493', 'lbondur@classicmodelcars.com', '4', 1102, 'Sales Rep')\n",
      "(250, 'Lyon Souveniers', 'Da Silva', 'Daniel', '+33 1 46 62 7555', '27 rue du Colonel Pierre Avia', None, 'Paris', None, '75508', 'France', 1337, Decimal('68100.00'), 1337, 'Bondur', 'Loui', 'x6493', 'lbondur@classicmodelcars.com', '4', 1102, 'Sales Rep')\n",
      "(350, 'Marseille Mini Autos', 'Lebihan', 'Laurence ', '91.24.4555', '12, rue des Bouchers', None, 'Marseille', None, '13008', 'France', 1337, Decimal('65000.00'), 1337, 'Bondur', 'Loui', 'x6493', 'lbondur@classicmodelcars.com', '4', 1102, 'Sales Rep')\n",
      "(353, 'Reims Collectables', 'Henriot', 'Paul ', '26.47.1555', \"59 rue de l'Abbaye\", None, 'Reims', None, '51100', 'France', 1337, Decimal('81100.00'), 1337, 'Bondur', 'Loui', 'x6493', 'lbondur@classicmodelcars.com', '4', 1102, 'Sales Rep')\n",
      "(406, 'Auto Canal+ Petit', 'Perrier', 'Dominique', '(1) 47.55.6555', '25, rue Lauriston', None, 'Paris', None, '75016', 'France', 1337, Decimal('95000.00'), 1337, 'Bondur', 'Loui', 'x6493', 'lbondur@classicmodelcars.com', '4', 1102, 'Sales Rep')\n",
      "(103, 'Atelier graphique', 'Schmitt', 'Carine ', '40.32.2555', '54, rue Royale', None, 'Nantes', None, '44000', 'France', 1370, Decimal('21000.00'), 1370, 'Hernandez', 'Gerard', 'x2028', 'ghernande@classicmodelcars.com', '4', 1102, 'Sales Rep')\n",
      "(119, 'La Rochelle Gifts', 'Labrune', 'Janine ', '40.67.8555', '67, rue des Cinquante Otages', None, 'Nantes', None, '44000', 'France', 1370, Decimal('118200.00'), 1370, 'Hernandez', 'Gerard', 'x2028', 'ghernande@classicmodelcars.com', '4', 1102, 'Sales Rep')\n",
      "(141, 'Euro+ Shopping Channel', 'Freyre', 'Diego ', '(91) 555 94 44', 'C/ Moralzarzal, 86', None, 'Madrid', None, '28034', 'Spain', 1370, Decimal('227600.00'), 1370, 'Hernandez', 'Gerard', 'x2028', 'ghernande@classicmodelcars.com', '4', 1102, 'Sales Rep')\n",
      "(171, 'Daedalus Designs Imports', 'Rancé', 'Martine ', '20.16.1555', '184, chaussée de Tournai', None, 'Lille', None, '59000', 'France', 1370, Decimal('82900.00'), 1370, 'Hernandez', 'Gerard', 'x2028', 'ghernande@classicmodelcars.com', '4', 1102, 'Sales Rep')\n",
      "(209, 'Mini Caravy', 'Citeaux', 'Frédérique ', '88.60.1555', '24, place Kléber', None, 'Strasbourg', None, '67000', 'France', 1370, Decimal('53800.00'), 1370, 'Hernandez', 'Gerard', 'x2028', 'ghernande@classicmodelcars.com', '4', 1102, 'Sales Rep')\n",
      "(242, 'Alpha Cognac', 'Roulet', 'Annette ', '61.77.6555', '1 rue Alsace-Lorraine', None, 'Toulouse', None, '31000', 'France', 1370, Decimal('61100.00'), 1370, 'Hernandez', 'Gerard', 'x2028', 'ghernande@classicmodelcars.com', '4', 1102, 'Sales Rep')\n",
      "(256, 'Auto Associés & Cie.', 'Tonini', 'Daniel ', '30.59.8555', \"67, avenue de l'Europe\", None, 'Versailles', None, '78000', 'France', 1370, Decimal('77900.00'), 1370, 'Hernandez', 'Gerard', 'x2028', 'ghernande@classicmodelcars.com', '4', 1102, 'Sales Rep')\n",
      "(145, 'Danish Wholesale Imports', 'Petersen', 'Jytte ', '31 12 3555', 'Vinbæltet 34', None, 'Kobenhavn', None, '1734', 'Denmark', 1401, Decimal('83400.00'), 1401, 'Castillo', 'Pamela', 'x2759', 'pcastillo@classicmodelcars.com', '4', 1102, 'Sales Rep')\n",
      "(227, 'Heintze Collectables', 'Ibsen', 'Palle', '86 21 3555', 'Smagsloget 45', None, 'Århus', None, '8200', 'Denmark', 1401, Decimal('120800.00'), 1401, 'Castillo', 'Pamela', 'x2759', 'pcastillo@classicmodelcars.com', '4', 1102, 'Sales Rep')\n",
      "(249, 'Amica Models & Co.', 'Accorti', 'Paolo ', '011-4988555', 'Via Monte Bianco 34', None, 'Torino', None, '10100', 'Italy', 1401, Decimal('113000.00'), 1401, 'Castillo', 'Pamela', 'x2759', 'pcastillo@classicmodelcars.com', '4', 1102, 'Sales Rep')\n",
      "(278, 'Rovelli Gifts', 'Rovelli', 'Giovanni ', '035-640555', 'Via Ludovico il Moro 22', None, 'Bergamo', None, '24100', 'Italy', 1401, Decimal('119600.00'), 1401, 'Castillo', 'Pamela', 'x2759', 'pcastillo@classicmodelcars.com', '4', 1102, 'Sales Rep')\n",
      "(314, 'Petit Auto', 'Dewey', 'Catherine ', '(02) 5554 67', 'Rue Joseph-Bens 532', None, 'Bruxelles', None, 'B-1180', 'Belgium', 1401, Decimal('79900.00'), 1401, 'Castillo', 'Pamela', 'x2759', 'pcastillo@classicmodelcars.com', '4', 1102, 'Sales Rep')\n",
      "(381, 'Royale Belge', 'Cartrain', 'Pascale ', '(071) 23 67 2555', 'Boulevard Tirou, 255', None, 'Charleroi', None, 'B-6000', 'Belgium', 1401, Decimal('23500.00'), 1401, 'Castillo', 'Pamela', 'x2759', 'pcastillo@classicmodelcars.com', '4', 1102, 'Sales Rep')\n",
      "(382, 'Salzburg Collectables', 'Pipps', 'Georg ', '6562-9555', 'Geislweg 14', None, 'Salzburg', None, '5020', 'Austria', 1401, Decimal('71700.00'), 1401, 'Castillo', 'Pamela', 'x2759', 'pcastillo@classicmodelcars.com', '4', 1102, 'Sales Rep')\n",
      "(386, \"L'ordine Souveniers\", 'Moroni', 'Maurizio ', '0522-556555', 'Strada Provinciale 124', None, 'Reggio Emilia', None, '42100', 'Italy', 1401, Decimal('121400.00'), 1401, 'Castillo', 'Pamela', 'x2759', 'pcastillo@classicmodelcars.com', '4', 1102, 'Sales Rep')\n",
      "(452, 'Mini Auto Werke', 'Mendel', 'Roland ', '7675-3555', 'Kirchgasse 6', None, 'Graz', None, '8010', 'Austria', 1401, Decimal('45300.00'), 1401, 'Castillo', 'Pamela', 'x2759', 'pcastillo@classicmodelcars.com', '4', 1102, 'Sales Rep')\n",
      "(473, 'Frau da Collezione', 'Ricotti', 'Franco', '+39 022515555', '20093 Cologno Monzese', 'Alessandro Volta 16', 'Milan', None, None, 'Italy', 1401, Decimal('34800.00'), 1401, 'Castillo', 'Pamela', 'x2759', 'pcastillo@classicmodelcars.com', '4', 1102, 'Sales Rep')\n",
      "(186, 'Toys of Finland, Co.', 'Karttunen', 'Matti', '90-224 8555', 'Keskuskatu 45', None, 'Helsinki', None, '21240', 'Finland', 1501, Decimal('96500.00'), 1501, 'Bott', 'Larry', 'x2311', 'lbott@classicmodelcars.com', '7', 1102, 'Sales Rep')\n",
      "(187, 'AV Stores, Co.', 'Ashworth', 'Rachel', '(171) 555-1555', 'Fauntleroy Circus', None, 'Manchester', None, 'EC2 5NT', 'UK', 1501, Decimal('136800.00'), 1501, 'Bott', 'Larry', 'x2311', 'lbott@classicmodelcars.com', '7', 1102, 'Sales Rep')\n",
      "(201, 'UK Collectables, Ltd.', 'Devon', 'Elizabeth', '(171) 555-2282', '12, Berkeley Gardens Blvd', None, 'Liverpool', None, 'WX1 6LT', 'UK', 1501, Decimal('92700.00'), 1501, 'Bott', 'Larry', 'x2311', 'lbott@classicmodelcars.com', '7', 1102, 'Sales Rep')\n",
      "(240, 'giftsbymail.co.uk', 'Bennett', 'Helen ', '(198) 555-8888', 'Garden House', 'Crowther Way 23', 'Cowes', 'Isle of Wight', 'PO31 7PJ', 'UK', 1501, Decimal('93900.00'), 1501, 'Bott', 'Larry', 'x2311', 'lbott@classicmodelcars.com', '7', 1102, 'Sales Rep')\n",
      "(311, 'Oulu Toy Supplies, Inc.', 'Koskitalo', 'Pirkko', '981-443655', 'Torikatu 38', None, 'Oulu', None, '90110', 'Finland', 1501, Decimal('90500.00'), 1501, 'Bott', 'Larry', 'x2311', 'lbott@classicmodelcars.com', '7', 1102, 'Sales Rep')\n",
      "(324, 'Stylish Desk Decors, Co.', 'Brown', 'Ann ', '(171) 555-0297', '35 King George', None, 'London', None, 'WX3 6FW', 'UK', 1501, Decimal('77000.00'), 1501, 'Bott', 'Larry', 'x2311', 'lbott@classicmodelcars.com', '7', 1102, 'Sales Rep')\n",
      "(334, 'Suominen Souveniers', 'Suominen', 'Kalle', '+358 9 8045 555', 'Software Engineering Center', 'SEC Oy', 'Espoo', None, 'FIN-02271', 'Finland', 1501, Decimal('98800.00'), 1501, 'Bott', 'Larry', 'x2311', 'lbott@classicmodelcars.com', '7', 1102, 'Sales Rep')\n",
      "(489, 'Double Decker Gift Stores, Ltd', 'Smith', 'Thomas ', '(171) 555-7555', '120 Hanover Sq.', None, 'London', None, 'WA1 1DP', 'UK', 1501, Decimal('43300.00'), 1501, 'Bott', 'Larry', 'x2311', 'lbott@classicmodelcars.com', '7', 1102, 'Sales Rep')\n",
      "(121, 'Baane Mini Imports', 'Bergulfsen', 'Jonas ', '07-98 9555', 'Erling Skakkes gate 78', None, 'Stavern', None, '4110', 'Norway', 1504, Decimal('81700.00'), 1504, 'Jones', 'Barry', 'x102', 'bjones@classicmodelcars.com', '7', 1102, 'Sales Rep')\n",
      "(128, 'Blauer See Auto, Co.', 'Keitel', 'Roland', '+49 69 66 90 2555', 'Lyonerstr. 34', None, 'Frankfurt', None, '60528', 'Germany', 1504, Decimal('59700.00'), 1504, 'Jones', 'Barry', 'x102', 'bjones@classicmodelcars.com', '7', 1102, 'Sales Rep')\n",
      "(144, 'Volvo Model Replicas, Co', 'Berglund', 'Christina ', '0921-12 3555', 'Berguvsvägen  8', None, 'Luleå', None, 'S-958 22', 'Sweden', 1504, Decimal('53100.00'), 1504, 'Jones', 'Barry', 'x102', 'bjones@classicmodelcars.com', '7', 1102, 'Sales Rep')\n",
      "(167, 'Herkku Gifts', 'Oeztan', 'Veysel', '+47 2267 3215', 'Brehmen St. 121', 'PR 334 Sentrum', 'Bergen', None, 'N 5804', 'Norway  ', 1504, Decimal('96800.00'), 1504, 'Jones', 'Barry', 'x102', 'bjones@classicmodelcars.com', '7', 1102, 'Sales Rep')\n",
      "(189, 'Clover Collections, Co.', 'Cassidy', 'Dean', '+353 1862 1555', '25 Maiden Lane', 'Floor No. 4', 'Dublin', None, '2', 'Ireland', 1504, Decimal('69400.00'), 1504, 'Jones', 'Barry', 'x102', 'bjones@classicmodelcars.com', '7', 1102, 'Sales Rep')\n",
      "(259, 'Toms Spezialitäten, Ltd', 'Pfalzheim', 'Henriette ', '0221-5554327', 'Mehrheimerstr. 369', None, 'Köln', None, '50739', 'Germany', 1504, Decimal('120400.00'), 1504, 'Jones', 'Barry', 'x102', 'bjones@classicmodelcars.com', '7', 1102, 'Sales Rep')\n",
      "(299, 'Norway Gifts By Mail, Co.', 'Klaeboe', 'Jan', '+47 2212 1555', 'Drammensveien 126A', 'PB 211 Sentrum', 'Oslo', None, 'N 0106', 'Norway  ', 1504, Decimal('95100.00'), 1504, 'Jones', 'Barry', 'x102', 'bjones@classicmodelcars.com', '7', 1102, 'Sales Rep')\n",
      "(415, 'Bavarian Collectables Imports, Co.', 'Donnermeyer', 'Michael', ' +49 89 61 08 9555', 'Hansastr. 15', None, 'Munich', None, '80686', 'Germany', 1504, Decimal('77000.00'), 1504, 'Jones', 'Barry', 'x102', 'bjones@classicmodelcars.com', '7', 1102, 'Sales Rep')\n",
      "(448, 'Scandinavian Gift Ideas', 'Larsson', 'Martha', '0695-34 6555', 'Åkergatan 24', None, 'Bräcke', None, 'S-844 67', 'Sweden', 1504, Decimal('116400.00'), 1504, 'Jones', 'Barry', 'x102', 'bjones@classicmodelcars.com', '7', 1102, 'Sales Rep')\n",
      "(114, 'Australian Collectors, Co.', 'Ferguson', 'Peter', '03 9520 4555', '636 St Kilda Road', 'Level 3', 'Melbourne', 'Victoria', '3004', 'Australia', 1611, Decimal('117300.00'), 1611, 'Fixter', 'Andy', 'x101', 'afixter@classicmodelcars.com', '6', 1088, 'Sales Rep')\n",
      "(276, \"Anna's Decorations, Ltd\", \"O'Hara\", 'Anna', '02 9936 8555', '201 Miller Street', 'Level 15', 'North Sydney', 'NSW', '2060', 'Australia', 1611, Decimal('107800.00'), 1611, 'Fixter', 'Andy', 'x101', 'afixter@classicmodelcars.com', '6', 1088, 'Sales Rep')\n",
      "(282, 'Souveniers And Things Co.', 'Huxley', 'Adrian', '+61 2 9495 8555', 'Monitor Money Building', '815 Pacific Hwy', 'Chatswood', 'NSW', '2067', 'Australia', 1611, Decimal('93300.00'), 1611, 'Fixter', 'Andy', 'x101', 'afixter@classicmodelcars.com', '6', 1088, 'Sales Rep')\n",
      "(333, 'Australian Gift Network, Co', 'Calaghan', 'Ben', '61-7-3844-6555', '31 Duncan St. West End', None, 'South Brisbane', 'Queensland', '4101', 'Australia', 1611, Decimal('51600.00'), 1611, 'Fixter', 'Andy', 'x101', 'afixter@classicmodelcars.com', '6', 1088, 'Sales Rep')\n",
      "(471, 'Australian Collectables, Ltd', 'Clenahan', 'Sean', '61-9-3844-6555', '7 Allen Street', None, 'Glen Waverly', 'Victoria', '3150', 'Australia', 1611, Decimal('60300.00'), 1611, 'Fixter', 'Andy', 'x101', 'afixter@classicmodelcars.com', '6', 1088, 'Sales Rep')\n",
      "(166, 'Handji Gifts& Co', 'Victorino', 'Wendy', '+65 224 1555', '106 Linden Road Sandown', '2nd Floor', 'Singapore', None, '069045', 'Singapore', 1612, Decimal('97900.00'), 1612, 'Marsh', 'Peter', 'x102', 'pmarsh@classicmodelcars.com', '6', 1088, 'Sales Rep')\n",
      "(323, 'Down Under Souveniers, Inc', 'Graham', 'Mike', '+64 9 312 5555', '162-164 Grafton Road', 'Level 2', 'Auckland  ', None, None, 'New Zealand', 1612, Decimal('88000.00'), 1612, 'Marsh', 'Peter', 'x102', 'pmarsh@classicmodelcars.com', '6', 1088, 'Sales Rep')\n",
      "(357, 'GiftsForHim.com', 'MacKinlay', 'Wales', '64-9-3763555', '199 Great North Road', None, 'Auckland', None, None, 'New Zealand', 1612, Decimal('77700.00'), 1612, 'Marsh', 'Peter', 'x102', 'pmarsh@classicmodelcars.com', '6', 1088, 'Sales Rep')\n",
      "(412, 'Extreme Desk Decorations, Ltd', 'McRoy', 'Sarah', '04 499 9555', '101 Lambton Quay', 'Level 11', 'Wellington', None, None, 'New Zealand', 1612, Decimal('86800.00'), 1612, 'Marsh', 'Peter', 'x102', 'pmarsh@classicmodelcars.com', '6', 1088, 'Sales Rep')\n",
      "(496, \"Kelly's Gift Shop\", 'Snowden', 'Tony', '+64 9 5555500', \"Arenales 1938 3'A'\", None, 'Auckland  ', None, None, 'New Zealand', 1612, Decimal('110000.00'), 1612, 'Marsh', 'Peter', 'x102', 'pmarsh@classicmodelcars.com', '6', 1088, 'Sales Rep')\n",
      "(148, 'Dragon Souveniers, Ltd.', 'Natividad', 'Eric', '+65 221 7555', 'Bronz Sok.', 'Bronz Apt. 3/6 Tesvikiye', 'Singapore', None, '079903', 'Singapore', 1621, Decimal('103800.00'), 1621, 'Nishi', 'Mami', 'x101', 'mnishi@classicmodelcars.com', '5', 1056, 'Sales Rep')\n",
      "(177, 'Osaka Souveniers Co.', 'Kentary', 'Mory', '+81 06 6342 5555', '1-6-20 Dojima', None, 'Kita-ku', 'Osaka', ' 530-0003', 'Japan', 1621, Decimal('81200.00'), 1621, 'Nishi', 'Mami', 'x101', 'mnishi@classicmodelcars.com', '5', 1056, 'Sales Rep')\n",
      "(211, 'King Kong Collectables, Co.', 'Gao', 'Mike', '+852 2251 1555', 'Bank of China Tower', '1 Garden Road', 'Central Hong Kong', None, None, 'Hong Kong', 1621, Decimal('58600.00'), 1621, 'Nishi', 'Mami', 'x101', 'mnishi@classicmodelcars.com', '5', 1056, 'Sales Rep')\n",
      "(385, 'Cruz & Sons Co.', 'Cruz', 'Arnold', '+63 2 555 3587', '15 McCallum Street', 'NatWest Center #13-03', 'Makati City', None, '1227 MM', 'Philippines', 1621, Decimal('81500.00'), 1621, 'Nishi', 'Mami', 'x101', 'mnishi@classicmodelcars.com', '5', 1056, 'Sales Rep')\n",
      "(398, 'Tokyo Collectables, Ltd', 'Shimamura', 'Akiko', '+81 3 3584 0555', '2-2-8 Roppongi', None, 'Minato-ku', 'Tokyo', '106-0032', 'Japan', 1621, Decimal('94400.00'), 1621, 'Nishi', 'Mami', 'x101', 'mnishi@classicmodelcars.com', '5', 1056, 'Sales Rep')\n",
      "(216, 'Enaco Distributors', 'Saavedra', 'Eduardo ', '(93) 203 4555', 'Rambla de Cataluña, 23', None, 'Barcelona', None, '08022', 'Spain', 1702, Decimal('60300.00'), 1702, 'Gerard', 'Martin', 'x2312', 'mgerard@classicmodelcars.com', '4', 1102, 'Sales Rep')\n",
      "(298, 'Vida Sport, Ltd', 'Holz', 'Mihael', '0897-034555', 'Grenzacherweg 237', None, 'Genève', None, '1203', 'Switzerland', 1702, Decimal('141300.00'), 1702, 'Gerard', 'Martin', 'x2312', 'mgerard@classicmodelcars.com', '4', 1102, 'Sales Rep')\n",
      "(344, 'CAF Imports', 'Fernandez', 'Jesus', '+34 913 728 555', 'Merchants House', \"27-30 Merchant's Quay\", 'Madrid', None, '28023', 'Spain', 1702, Decimal('59600.00'), 1702, 'Gerard', 'Martin', 'x2312', 'mgerard@classicmodelcars.com', '4', 1102, 'Sales Rep')\n",
      "(376, 'Precious Collectables', 'Urs', 'Braun', '0452-076555', 'Hauptstr. 29', None, 'Bern', None, '3012', 'Switzerland', 1702, Decimal('0.00'), 1702, 'Gerard', 'Martin', 'x2312', 'mgerard@classicmodelcars.com', '4', 1102, 'Sales Rep')\n",
      "(458, 'Corrida Auto Replicas, Ltd', 'Sommer', 'Martín ', '(91) 555 22 82', 'C/ Araquil, 67', None, 'Madrid', None, '28023', 'Spain', 1702, Decimal('104600.00'), 1702, 'Gerard', 'Martin', 'x2312', 'mgerard@classicmodelcars.com', '4', 1102, 'Sales Rep')\n",
      "(484, 'Iberia Gift Imports, Corp.', 'Roel', 'José Pedro ', '(95) 555 82 82', 'C/ Romero, 33', None, 'Sevilla', None, '41101', 'Spain', 1702, Decimal('65700.00'), 1702, 'Gerard', 'Martin', 'x2312', 'mgerard@classicmodelcars.com', '4', 1102, 'Sales Rep')\n"
     ]
    }
   ],
   "source": [
    "from sqlalchemy import Table, select, func\n",
    "\n",
    "# Define relationships\n",
    "stmt = select(\n",
    "    *[\n",
    "        customers, employees\n",
    "    ]\n",
    ").where(customers.columns.salesRepEmployeeNumber == employees.columns.employeeNumber)\n",
    "print(stmt)\n",
    "\n",
    "con = db.connect()\n",
    "results = con.execute(stmt).fetchall()\n",
    "# Print the SQL query string\n",
    "print(\"Customers and employees:\")\n",
    "for result in results:\n",
    "    print(result)"
   ]
  },
  {
   "cell_type": "code",
   "execution_count": 13,
   "metadata": {},
   "outputs": [
    {
     "name": "stdout",
     "output_type": "stream",
     "text": [
      "SELECT customers.\"customerNumber\", customers.\"customerName\", customers.\"contactLastName\", customers.\"contactFirstName\", customers.phone, customers.\"addressLine1\", customers.\"addressLine2\", customers.city, customers.state, customers.\"postalCode\", customers.country, customers.\"salesRepEmployeeNumber\", customers.\"creditLimit\", payments.\"customerNumber\" AS \"customerNumber_1\", payments.\"checkNumber\", payments.\"paymentDate\", payments.amount, orders.\"orderNumber\", orders.\"orderDate\", orders.\"requiredDate\", orders.\"shippedDate\", orders.status, orders.comments, orders.\"customerNumber\" AS \"customerNumber_2\" \n",
      "FROM customers, payments, orders \n",
      "WHERE customers.\"customerNumber\" = orders.\"customerNumber\" AND orders.\"orderNumber\" = payments.\"checkNumber\"\n",
      "Customers, payments and orders:\n"
     ]
    },
    {
     "data": {
      "text/plain": [
       "[]"
      ]
     },
     "metadata": {},
     "output_type": "display_data"
    }
   ],
   "source": [
    "stmt = select(\n",
    "    *[\n",
    "        customers, payments, orders\n",
    "    ]\n",
    ").where(customers.columns.customerNumber == orders.columns.customerNumber\n",
    ").where(orders.columns.orderNumber == payments.columns.checkNumber)\n",
    "print(stmt)\n",
    "\n",
    "results = con.execute(stmt).fetchall()\n",
    "print(\"Customers, payments and orders:\")\n",
    "display(results)"
   ]
  },
  {
   "attachments": {},
   "cell_type": "markdown",
   "metadata": {},
   "source": [
    "### 3. Number of products in the store"
   ]
  },
  {
   "cell_type": "code",
   "execution_count": 14,
   "metadata": {},
   "outputs": [
    {
     "name": "stdout",
     "output_type": "stream",
     "text": [
      "SELECT count(products.\"productCode\") AS count_1 \n",
      "FROM products\n",
      "Number of products in the store: 110\n"
     ]
    }
   ],
   "source": [
    "products = Table('products', metadata, autoload_with=db)\n",
    "\n",
    "stmt = select(\n",
    "    *[\n",
    "        func.count(products.columns.productCode)\n",
    "    ]\n",
    ")\n",
    "print(stmt)\n",
    "\n",
    "result = con.execute(stmt).fetchone()\n",
    "print(f\"Number of products in the store: {result[0]}\")"
   ]
  },
  {
   "attachments": {},
   "cell_type": "markdown",
   "metadata": {},
   "source": [
    "### 4. List of offices with limit 5"
   ]
  },
  {
   "cell_type": "code",
   "execution_count": 15,
   "metadata": {},
   "outputs": [
    {
     "name": "stdout",
     "output_type": "stream",
     "text": [
      "SELECT offices.\"officeCode\", offices.city, offices.phone, offices.\"addressLine1\", offices.\"addressLine2\", offices.state, offices.country, offices.\"postalCode\", offices.territory \n",
      "FROM offices\n",
      " LIMIT :param_1\n",
      "('1', 'San Francisco', '+1 650 219 4782', '100 Market Street', 'Suite 300', 'CA', 'USA', '94080', 'NA')\n",
      "('2', 'Boston', '+1 215 837 0825', '1550 Court Place', 'Suite 102', 'MA', 'USA', '02107', 'NA')\n",
      "('3', 'NYC', '+1 212 555 3000', '523 East 53rd Street', 'apt. 5A', 'NY', 'USA', '10022', 'NA')\n",
      "('4', 'Paris', '+33 14 723 4404', \"43 Rue Jouffroy D'abbans\", None, None, 'France', '75017', 'EMEA')\n",
      "('5', 'Tokyo', '+81 33 224 5000', '4-1 Kioicho', None, 'Chiyoda-Ku', 'Japan', '102-8578', 'Japan')\n"
     ]
    }
   ],
   "source": [
    "offices = Table('offices', metadata, autoload_with=db)\n",
    "\n",
    "stmt = select(*[offices])\n",
    "stmt = stmt.limit(5)\n",
    "print(stmt)\n",
    "\n",
    "results = con.execute(stmt).fetchall()\n",
    "for result in results:\n",
    "    print(result)"
   ]
  },
  {
   "attachments": {},
   "cell_type": "markdown",
   "metadata": {},
   "source": [
    "### 5. Find the oldest and youngest payments in rental"
   ]
  },
  {
   "cell_type": "code",
   "execution_count": 16,
   "metadata": {},
   "outputs": [
    {
     "name": "stdout",
     "output_type": "stream",
     "text": [
      "SELECT min(payments.\"paymentDate\") AS min_1, max(payments.\"paymentDate\") AS max_1 \n",
      "FROM payments\n",
      "Oldest payment date: 2003-01-16\n",
      "Youngest payment date: 2005-06-09\n"
     ]
    }
   ],
   "source": [
    "from sqlalchemy import Table, select, func\n",
    "\n",
    "payments = Table('payments', metadata, autoload_with=db)\n",
    "\n",
    "stmt = select(*[func.min(payments.columns.paymentDate),\n",
    "                func.max(payments.columns.paymentDate)])\n",
    "# stmt = stmt.where(payments.columns.rental_id.isnot(None))\n",
    "print(stmt)\n",
    "\n",
    "result = con.execute(stmt).fetchone()\n",
    "print('Oldest payment date:', result[0])\n",
    "print('Youngest payment date:', result[1])"
   ]
  }
 ],
 "metadata": {
  "kernelspec": {
   "display_name": "Python 3",
   "language": "python",
   "name": "python3"
  },
  "language_info": {
   "codemirror_mode": {
    "name": "ipython",
    "version": 3
   },
   "file_extension": ".py",
   "mimetype": "text/x-python",
   "name": "python",
   "nbconvert_exporter": "python",
   "pygments_lexer": "ipython3",
   "version": "3.10.11"
  },
  "orig_nbformat": 4
 },
 "nbformat": 4,
 "nbformat_minor": 2
}
