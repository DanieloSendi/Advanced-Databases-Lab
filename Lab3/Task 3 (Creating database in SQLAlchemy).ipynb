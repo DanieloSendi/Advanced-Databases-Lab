{
 "cells": [
  {
   "attachments": {},
   "cell_type": "markdown",
   "metadata": {},
   "source": [
    "# Creating database in SQLAlchemy\n",
    "***"
   ]
  },
  {
   "cell_type": "markdown",
   "metadata": {},
   "source": [
    "This script described the process of creating a table in a database with SQLAlchemy based on [ORM](https://en.wikipedia.org/wiki/Object-relational_mapping) methodology."
   ]
  },
  {
   "cell_type": "markdown",
   "metadata": {},
   "source": [
    "### Install PostgreSql local server\n",
    "For this lab, you must install a local PostgreSQL server. We can find instruction on the installation process:\n",
    " - [Windows](https://www.postgresqltutorial.com/postgresql-getting-started/install-postgresql/)\n",
    " - [Linux](https://www.postgresqltutorial.com/postgresql-getting-started/install-postgresql-linux/)\n",
    " - [MacOs](https://www.postgresqltutorial.com/postgresql-getting-started/install-postgresql-macos/)"
   ]
  },
  {
   "cell_type": "markdown",
   "metadata": {},
   "source": [
    "### Assumptions\n",
    "\n",
    "Suppose we want to create tables for example like this:\n",
    "\n",
    "- users\n",
    "\n",
    "| id \t| email    |\n",
    "|:--:\t|:-------: |\n",
    "|id_0\t|email_0   |"
   ]
  },
  {
   "cell_type": "markdown",
   "metadata": {},
   "source": [
    "Based on the database schema:\n",
    "![db schema](images/db_Airbnb.png)\n",
    "\n",
    "Implement the script to create this database in the local installation:\n",
    "- PostgreSQL"
   ]
  },
  {
   "attachments": {},
   "cell_type": "markdown",
   "metadata": {},
   "source": [
    "## Prepare the environment"
   ]
  },
  {
   "cell_type": "markdown",
   "metadata": {},
   "source": [
    "To correct working of this process we need create connection to database."
   ]
  },
  {
   "cell_type": "code",
   "execution_count": 1,
   "metadata": {},
   "outputs": [
    {
     "name": "stdout",
     "output_type": "stream",
     "text": [
      "Connected successfully!\n"
     ]
    }
   ],
   "source": [
    "from sqlalchemy import create_engine\n",
    "from sqlalchemy.orm import declarative_base\n",
    "\n",
    "config_PostgreSQL = {\n",
    "    \"database_type\": \"postgresql\",\n",
    "    \"user\": \"\",\n",
    "    \"password\": \"\",\n",
    "    \"database_url\": \"localhost\",\n",
    "    \"port\": 5432,\n",
    "    \"database_name\": \"\"\n",
    "}\n",
    "\n",
    "db_string = \"{database_type}://{user}:{password}@{database_url}:{port}/{database_name}\".format(**config_PostgreSQL)\n",
    "\n",
    "engine = create_engine(db_string)\n",
    "\n",
    "# test the connection\n",
    "try:\n",
    "    conn = engine.connect()\n",
    "    print(\"Connected successfully!\")\n",
    "except:\n",
    "    print(\"Failed to connect\")\n",
    "\n",
    "Base = declarative_base()"
   ]
  },
  {
   "cell_type": "markdown",
   "metadata": {},
   "source": [
    "Nowadays when we using the orm technique we need describing the database tables using class. This process has name [Declarative System](https://docs.sqlalchemy.org/en/13/orm/extensions/declarative/index.html). In SQLAlchemy we use this functionality by API [declarative](https://docs.sqlalchemy.org/en/13/orm/extensions/declarative/api.html).\n",
    "\n",
    "Line *Base = declarative_base()* run automatically process of mapping existing tables in a database to class and give us tools to declare new tables schema."
   ]
  },
  {
   "attachments": {},
   "cell_type": "markdown",
   "metadata": {},
   "source": [
    "## Creating tables structure"
   ]
  },
  {
   "cell_type": "markdown",
   "metadata": {},
   "source": [
    "To declaration new table schema we need to add tools to mapping variable types from the database to Python:"
   ]
  },
  {
   "cell_type": "code",
   "execution_count": 2,
   "metadata": {},
   "outputs": [],
   "source": [
    "from sqlalchemy import Column, Integer, String, Date, ForeignKey, MetaData, SmallInteger, Text, Table, Float"
   ]
  },
  {
   "cell_type": "markdown",
   "metadata": {},
   "source": [
    "Now we can describe tables:"
   ]
  },
  {
   "cell_type": "code",
   "execution_count": 3,
   "metadata": {},
   "outputs": [],
   "source": [
    "metadata = MetaData()\n",
    "\n",
    "class Users(Base):\n",
    "    __tablename__ = 'users'\n",
    "    id = Column(Integer, primary_key=True)\n",
    "    email = Column(String(50), unique=True)\n",
    "\n",
    "    def __repr__(self):\n",
    "            return \"<users(id='{0}', email={1})>\".format(\n",
    "                self.id, self.email)"
   ]
  },
  {
   "cell_type": "markdown",
   "metadata": {},
   "source": [
    "To correct work *declarative_base* mechanizm we must set **\\_\\_tablename\\_\\_** attribute. Database server use **__tablename__** as table name. \n",
    "In column **email** we use *String(50)* to make constraint to string length storage in the database. \n",
    "\n",
    "Attribute *primary_key=True* define Primary Key of this table. Columns name used on the database server are identical like class attributes name in Python. Function *\\_\\_repr\\_\\_* is decorator to string formatting after query results.\n",
    " \n",
    "This procedure is equivalent of SQL code:"
   ]
  },
  {
   "cell_type": "markdown",
   "metadata": {},
   "source": [
    "```sql\n",
    "CREATE TABLE public.users\n",
    "(\n",
    "    id integer NOT NULL DEFAULT nextval('users_id_seq'::regclass),\n",
    "    email character varying(50),\n",
    "    CONSTRAINT users_pkey PRIMARY KEY (id)\n",
    ")\n",
    "\n",
    "TABLESPACE pg_default;\n",
    "\n",
    "ALTER TABLE public.users\n",
    "    OWNER to postgres;\n",
    "```"
   ]
  },
  {
   "cell_type": "markdown",
   "metadata": {},
   "source": [
    "Let's assume that we want now create another new tables, where we create the relation between them."
   ]
  },
  {
   "cell_type": "code",
   "execution_count": 4,
   "metadata": {},
   "outputs": [],
   "source": [
    "class Bookings(Base):\n",
    "    __tablename__ = 'bookings'\n",
    "    id = Column(Integer, primary_key=True)\n",
    "    user_id = Column(Integer, ForeignKey('users.id'))\n",
    "    place_id = Column(Integer, ForeignKey('places.id'))\n",
    "    start_date = Column(Date)\n",
    "    end_date = Column(Date)\n",
    "    price_per_night = Column(Float)\n",
    "    num_nights = Column(Integer)\n",
    "\n",
    "class Places(Base):\n",
    "    __tablename__ = 'places'\n",
    "    id = Column(Integer, primary_key=True)\n",
    "    host_id = Column(Integer, ForeignKey('hosts.id'), unique = True)\n",
    "    address = Column(String(50))\n",
    "    city_id = Column(Integer, ForeignKey('cities.id'))\n",
    "\n",
    "class Reviews(Base):\n",
    "    __tablename__ = 'reviews'\n",
    "    id = Column(Integer, primary_key=True)\n",
    "    booking_id = Column(Integer, ForeignKey('bookings.id'))\n",
    "    rating = Column(SmallInteger)\n",
    "    review_body = Column(Text)\n",
    "\n",
    "class Hosts(Base):\n",
    "    __tablename__ = 'hosts'\n",
    "    id = Column(Integer, primary_key=True)\n",
    "    user_id = Column(Integer, ForeignKey('users.id'))\n",
    "\n",
    "class Cities(Base):\n",
    "    __tablename__ = 'cities'\n",
    "    id = Column(Integer, primary_key=True)\n",
    "    name = Column(String(50))\n",
    "    country_id = Column(Integer, ForeignKey('countries.id'))\n",
    "\n",
    "class Countries(Base):\n",
    "    __tablename__ = 'countries'\n",
    "    id = Column(Integer, primary_key=True)\n",
    "    country_code = Column(String(50))\n",
    "    name = Column(String(50))"
   ]
  },
  {
   "cell_type": "markdown",
   "metadata": {},
   "source": [
    "To create full schema of table in database we use script:"
   ]
  },
  {
   "cell_type": "code",
   "execution_count": 5,
   "metadata": {},
   "outputs": [],
   "source": [
    "Base.metadata.create_all(engine)"
   ]
  },
  {
   "cell_type": "markdown",
   "metadata": {},
   "source": [
    "If we want create only one table (for example *Users*) we can use formula:\n",
    "\n",
    "```python\n",
    "Users.__table__.create(engine)\n",
    "```\n",
    "\n",
    "If we want to check if a given structure already exists in the database, we can use the following script:"
   ]
  },
  {
   "cell_type": "code",
   "execution_count": 6,
   "metadata": {},
   "outputs": [
    {
     "name": "stdout",
     "output_type": "stream",
     "text": [
      "Database already exists. Connecting to the database...\n",
      "Connected to the database.\n",
      "Creating tables if they do not exist...\n",
      "Tables checked/created successfully.\n"
     ]
    }
   ],
   "source": [
    "from sqlalchemy_utils import database_exists, create_database\n",
    "\n",
    "if not database_exists(engine.url):\n",
    "    print(\"Database does not exist. Creating database...\")\n",
    "    create_database(engine.url)\n",
    "    print(\"Database created successfully.\")\n",
    "else:\n",
    "    # Connect the database if exists.\n",
    "    print(\"Database already exists. Connecting to the database...\")\n",
    "    engine.connect()\n",
    "    print(\"Connected to the database.\")\n",
    "    \n",
    "    print(\"Creating tables if they do not exist...\")\n",
    "    Base.metadata.create_all(engine)\n",
    "    print(\"Tables checked/created successfully.\")"
   ]
  },
  {
   "cell_type": "markdown",
   "metadata": {},
   "source": [
    "It is example of basic relation. For more options and type relationship between two tables look on [link](https://docs.sqlalchemy.org/en/14/orm/basic_relationships.html)."
   ]
  },
  {
   "cell_type": "markdown",
   "metadata": {},
   "source": [
    "### The alternative method of a table schema declaration"
   ]
  },
  {
   "cell_type": "markdown",
   "metadata": {},
   "source": [
    "Of course, the table creation method presented in the previous section is not the only one. We can describe the table using object *Table* and create a schema of this table by function *create*.\n",
    "\n",
    "***Example:***\n",
    "\n",
    "For SQLAlchemy >2.0:\n",
    "\n",
    "```python\n",
    "from sqlalchemy import Table, MetaData\n",
    "\n",
    "meta = MetaData()\n",
    "meta.reflect(bind=engine)\n",
    "\n",
    "USER = Table('users', meta,\n",
    "             Column('id', Integer, primary_key = True),\n",
    "             Column('email', String(50)),\n",
    "             extend_existing=True)\n",
    "\n",
    "USER.create(engine)\n",
    "```"
   ]
  }
 ],
 "metadata": {
  "kernelspec": {
   "display_name": "Python 3",
   "language": "python",
   "name": "python3"
  },
  "language_info": {
   "codemirror_mode": {
    "name": "ipython",
    "version": 3
   },
   "file_extension": ".py",
   "mimetype": "text/x-python",
   "name": "python",
   "nbconvert_exporter": "python",
   "pygments_lexer": "ipython3",
   "version": "3.10.11"
  },
  "orig_nbformat": 4
 },
 "nbformat": 4,
 "nbformat_minor": 2
}
